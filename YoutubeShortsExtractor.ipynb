{
 "cells": [
  {
   "cell_type": "code",
   "execution_count": 7,
   "id": "63a9075b-8b3c-4215-a6a3-88760c0a3a4c",
   "metadata": {},
   "outputs": [],
   "source": [
    "# imports\n",
    "from youtube_transcript_api import YouTubeTranscriptApi\n",
    "import googleapiclient.discovery\n",
    "import googleapiclient.errors\n",
    "import csv"
   ]
  },
  {
   "cell_type": "code",
   "execution_count": 1,
   "metadata": {},
   "outputs": [],
   "source": [
    "import json\n",
    "# Load the secrets from the JSON file\n",
    "with open('client_secrets.json', 'r') as file:\n",
    "    secrets = json.load(file)\n",
    "\n",
    "# Set up the API key and YouTube API client\n",
    "api_key = secrets['api_key']  "
   ]
  },
  {
   "cell_type": "code",
   "execution_count": 2,
   "id": "3a62e6a9-6885-48fc-aa55-834c6ce94889",
   "metadata": {},
   "outputs": [],
   "source": [
    "# Constants\n",
    "API_SERVICE_NAME = \"youtube\"\n",
    "API_VERSION = \"v3\"\n",
    "API_KEY = api_key\n",
    "\n",
    "VIDEO_CSV_FILE = \"youtube_shorts_description.csv\"\n",
    "VIDEO_LIST = [\"l9_8_pDTmis\",\"QYEfTly0pTE\",\"jYJTPqU66IY\",\"dBsomKKHhtk\",\"dTLYweJ08Tg\",\"k9v_bsZUQRg\",\"Js6ZUBSW6s0\",\"1AY9Sqt7yCg\",\"f8a2tiHatCc\",\"bnem7I5UkaA\",\"aFJ1ThX8XHU\",\"n7x4Jj9pdH8\",\"LdoJnz_ZQyU\",\"m5uJjHV_eVs\",\"xN5OsH0UCmo\",\"KiEErvcX_qo\",\"NLvfrxL3YGA\",\"nK-Hy0TxIik\",\"yWJVX9MKrUM\",\"d2EPEgWPn8Y\"]\n",
    "# OAuth Credentials can be created here: https://console.cloud.google.com/apis/credentials\n",
    "# YouTube API needs to be activated before use here: https://console.developers.google.com/apis/api/youtube.googleapis.com/overview"
   ]
  },
  {
   "cell_type": "code",
   "execution_count": 3,
   "id": "c2f65430-795a-44fc-826f-993ae4ee1257",
   "metadata": {},
   "outputs": [],
   "source": [
    "class YTVideo:\n",
    "    def __init__(self, videoId=\"\"):\n",
    "        self.youtubeClient = self.getYoutubeAPICLient()\n",
    "        \n",
    "        self.videoId = videoId\n",
    "        self.transcript, self.duration = self.extractTranscript()\n",
    "       \n",
    "        videoInfo = self.getVideoInfo()\n",
    "        self.title = videoInfo['snippet']['title']\n",
    "        self.description = videoInfo['snippet']['description']\n",
    "        self.thumbnailURL = videoInfo['snippet']['thumbnails']['maxres']['url']\n",
    "        self.channelTitle = videoInfo['snippet']['channelTitle']\n",
    "        self.publishedAt = videoInfo['snippet']['publishedAt']\n",
    "        self.views = videoInfo['statistics']['viewCount']\n",
    "        self.likes = videoInfo['statistics']['likeCount']\n",
    "        self.commentCount = videoInfo['statistics']['commentCount']\n",
    "        self.top10comments = self.getTopComments()\n",
    "        self.category = self.getCategoryByID(videoInfo['snippet']['categoryId'])\n",
    "        return\n",
    "\n",
    "    def getYoutubeAPICLient(self):\n",
    "        return googleapiclient.discovery.build(API_SERVICE_NAME, API_VERSION, developerKey=API_KEY)\n",
    "    \n",
    "    # extract transcript and transform it to string\n",
    "    def extractTranscript(self):\n",
    "        transcript = \"\"\n",
    "        duration = 0\n",
    "        transcriptList = YouTubeTranscriptApi.get_transcript(self.videoId)\n",
    "        for t in transcriptList:\n",
    "            transcript += f\"{t['text']} \"\n",
    "            duration += t['duration']\n",
    "        return transcript, duration\n",
    "\n",
    "    # extract video info from YT API\n",
    "    def getVideoInfo(self):\n",
    "        response = self.youtubeClient.videos().list(part=\"snippet,contentDetails,statistics\", id=self.videoId).execute()\n",
    "        return response['items'][0]\n",
    "        \n",
    "    def getCategoryByID(self, categoryID):\n",
    "        response = self.youtubeClient.videoCategories().list(part=\"snippet\", id=categoryID).execute()\n",
    "        return response['items'][0]['snippet']['title']\n",
    "\n",
    "    def getTopComments(self):\n",
    "        response = self.youtubeClient.commentThreads().list(part=\"snippet\", order=\"relevance\", maxResults=10, videoId=self.videoId).execute()\n",
    "        comment_list = []\n",
    "        for comment in response['items']:\n",
    "            comment_list.append(comment['snippet']['topLevelComment']['snippet']['textDisplay'])\n",
    "        return comment_list"
   ]
  },
  {
   "cell_type": "code",
   "execution_count": 4,
   "id": "74d67bb3-d1a0-4401-ae69-7b08de0f3a95",
   "metadata": {},
   "outputs": [],
   "source": [
    "# receives a list of video IDs and generates a csv file with available information about the video\n",
    "def generate_csv(vidList):\n",
    "    # open csv and create csv writer\n",
    "    with open(VIDEO_CSV_FILE, 'w') as csvfile:\n",
    "        writer = csv.writer(csvfile, delimiter=',', quotechar='\"', quoting=csv.QUOTE_MINIMAL)\n",
    "\n",
    "        # extract info from YT API and write to csv file\n",
    "        writer.writerow([\"Video ID\", \"Video Title\", \"Channel Title\", \"Transcript\", \"Duration\", \"Words per Second\", \"Top10 Comments\", \"Category\"])\n",
    "        for vidID in vidList:\n",
    "            video = YTVideo(vidID)\n",
    "            writer.writerow([video.videoId, video.title.encode(\"utf-8\"), video.channelTitle, video.transcript, video.duration, len(video.transcript.split(\" \"))/video.duration, video.top10comments, video.category])\n",
    "    return"
   ]
  },
  {
   "cell_type": "code",
   "execution_count": 132,
   "id": "cb8e699c-73f1-498a-b8f0-3006e36c0f90",
   "metadata": {},
   "outputs": [],
   "source": [
    "video = YTVideo(\"l9_8_pDTmis\")"
   ]
  },
  {
   "cell_type": "code",
   "execution_count": 8,
   "id": "bd33b2ca-f850-4626-964d-96f374916a2c",
   "metadata": {},
   "outputs": [],
   "source": [
    "generate_csv(VIDEO_LIST)"
   ]
  },
  {
   "cell_type": "code",
   "execution_count": null,
   "id": "8d03c471-ddf6-4a12-b76c-aeb759ebd688",
   "metadata": {},
   "outputs": [],
   "source": []
  }
 ],
 "metadata": {
  "kernelspec": {
   "display_name": "Python 3 (ipykernel)",
   "language": "python",
   "name": "python3"
  },
  "language_info": {
   "codemirror_mode": {
    "name": "ipython",
    "version": 3
   },
   "file_extension": ".py",
   "mimetype": "text/x-python",
   "name": "python",
   "nbconvert_exporter": "python",
   "pygments_lexer": "ipython3",
   "version": "3.10.13"
  }
 },
 "nbformat": 4,
 "nbformat_minor": 5
}

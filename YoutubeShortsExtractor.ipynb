{
 "cells": [
  {
   "cell_type": "code",
   "execution_count": 1,
   "id": "63a9075b-8b3c-4215-a6a3-88760c0a3a4c",
   "metadata": {},
   "outputs": [],
   "source": [
    "# imports\n",
    "from youtube_transcript_api import YouTubeTranscriptApi\n",
    "import googleapiclient.discovery\n",
    "import googleapiclient.errors\n",
    "import csv"
   ]
  },
  {
   "cell_type": "code",
   "execution_count": 2,
   "id": "d4b4920d",
   "metadata": {},
   "outputs": [],
   "source": [
    "import json\n",
    "# Load the secrets from the JSON file\n",
    "with open('client_secrets.json', 'r') as file:\n",
    "    secrets = json.load(file)\n",
    "\n",
    "# Set up the API key and YouTube API client\n",
    "api_key = secrets['api_key']  "
   ]
  },
  {
   "cell_type": "code",
   "execution_count": 3,
   "id": "3a62e6a9-6885-48fc-aa55-834c6ce94889",
   "metadata": {},
   "outputs": [],
   "source": [
    "# Constants\n",
    "API_SERVICE_NAME = \"youtube\"\n",
    "API_VERSION = \"v3\"\n",
    "API_KEY = api_key\n",
    "\n",
    "VIDEO_CSV_FILE = \"youtube_shorts_description.csv\"\n",
    "VIDEO_LIST = [\"l9_8_pDTmis\",\"QYEfTly0pTE\",\"jYJTPqU66IY\",\"dBsomKKHhtk\",\"dTLYweJ08Tg\",\"k9v_bsZUQRg\",\"Js6ZUBSW6s0\",\"1AY9Sqt7yCg\",\"f8a2tiHatCc\",\"bnem7I5UkaA\",\"aFJ1ThX8XHU\",\"n7x4Jj9pdH8\",\"LdoJnz_ZQyU\",\"m5uJjHV_eVs\",\"xN5OsH0UCmo\",\"KiEErvcX_qo\",\"NLvfrxL3YGA\",\"nK-Hy0TxIik\",\"yWJVX9MKrUM\",\"d2EPEgWPn8Y\"]\n",
    "# OAuth Credentials can be created here: https://console.cloud.google.com/apis/credentials\n",
    "# YouTube API needs to be activated before use here: https://console.developers.google.com/apis/api/youtube.googleapis.com/overview"
   ]
  },
  {
   "cell_type": "code",
   "execution_count": 4,
   "id": "c2f65430-795a-44fc-826f-993ae4ee1257",
   "metadata": {},
   "outputs": [],
   "source": [
    "class YTVideo:\n",
    "    def __init__(self, videoId=\"\"):\n",
    "        self.youtubeClient = self.getYoutubeAPICLient()\n",
    "        \n",
    "        self.videoId = videoId\n",
    "        self.transcript, self.duration = self.extractTranscript()\n",
    "        if self.transcript is None and self.duration is None:\n",
    "            return None\n",
    "       \n",
    "        videoInfo = self.getVideoInfo()\n",
    "        self.title = videoInfo['snippet']['title'].encode('utf-8', errors='replace')\n",
    "        self.description = videoInfo['snippet']['description'].encode('utf-8', errors='replace')\n",
    "        self.channelTitle = videoInfo['snippet']['channelTitle'].encode('utf-8', errors='replace')\n",
    "        self.publishedAt = videoInfo['snippet']['publishedAt']\n",
    "        self.views = videoInfo['statistics']['viewCount']\n",
    "\n",
    "        if 'likeCount' in videoInfo['statistics']:\n",
    "            self.likes = videoInfo['statistics']['likeCount']\n",
    "        else:\n",
    "            self.likes = 0\n",
    "\n",
    "        if 'commentCount' in videoInfo['statistics']:\n",
    "            self.commentCount = videoInfo['statistics']['commentCount']\n",
    "            try:\n",
    "                self.top10comments = self.getTopComments()\n",
    "            except:\n",
    "                self.top10comments = []\n",
    "        else:\n",
    "            self.commentCount = 0\n",
    "            self.top10comments = []\n",
    "        \n",
    "        self.category = self.getCategoryByID(videoInfo['snippet']['categoryId'])\n",
    "        return\n",
    "\n",
    "    def getYoutubeAPICLient(self):\n",
    "        return googleapiclient.discovery.build(API_SERVICE_NAME, API_VERSION, developerKey=API_KEY)\n",
    "    \n",
    "    # extract transcript and transform it to string\n",
    "    def extractTranscript(self):\n",
    "        transcript = \"\"\n",
    "        duration = 0\n",
    "        try:\n",
    "            transcriptList = YouTubeTranscriptApi.get_transcript(self.videoId)\n",
    "        except:\n",
    "            return None,None\n",
    "        for t in transcriptList:\n",
    "            transcript += f\"{t['text']} \"\n",
    "            duration += t['duration']\n",
    "        return transcript, duration\n",
    "\n",
    "    # extract video info from YT API\n",
    "    def getVideoInfo(self):\n",
    "        response = self.youtubeClient.videos().list(part=\"snippet,contentDetails,statistics\", id=self.videoId).execute()\n",
    "        return response['items'][0]\n",
    "        \n",
    "    def getCategoryByID(self, categoryID):\n",
    "        response = self.youtubeClient.videoCategories().list(part=\"snippet\", id=categoryID).execute()\n",
    "        return response['items'][0]['snippet']['title'].encode('utf-8', errors='replace')\n",
    "\n",
    "    def getTopComments(self):\n",
    "        response = self.youtubeClient.commentThreads().list(part=\"snippet\", order=\"relevance\", maxResults=10, videoId=self.videoId).execute()\n",
    "        comment_list = []\n",
    "        for comment in response['items']:\n",
    "            comment_list.append(comment['snippet']['topLevelComment']['snippet']['textDisplay'])\n",
    "        return comment_list"
   ]
  },
  {
   "cell_type": "code",
   "execution_count": 5,
   "id": "74d67bb3-d1a0-4401-ae69-7b08de0f3a95",
   "metadata": {},
   "outputs": [],
   "source": [
    "# receives a list of video IDs and generates a csv file with available information about the video\n",
    "def generate_csv(vidList):\n",
    "    # open csv and create csv writer\n",
    "    with open(VIDEO_CSV_FILE, 'w', encoding='utf-8', newline='') as csvfile:\n",
    "        writer = csv.writer(csvfile, delimiter=';', quotechar='\"', quoting=csv.QUOTE_MINIMAL)\n",
    "\n",
    "        # extract info from YT API and write to csv file\n",
    "        writer.writerow([\"Video ID\", \"Video Title\", \"Channel Title\", \"Transcript\", \"Duration\", \"Words per Second\", \"Number of Comments\", \"Top10 Comments\", \"Category\", \"Views\", \"Likes\"])\n",
    "        for vidID in vidList:\n",
    "            video = YTVideo(vidID)\n",
    "            if video.transcript is None:\n",
    "                print(f\"[-] Transcript disabled for video {vidID}. Skipping Video.\")\n",
    "                continue\n",
    "            writer.writerow([video.videoId, video.title, video.channelTitle, video.transcript, video.duration, len(video.transcript.split(\" \"))/video.duration, video.commentCount, video.top10comments, video.category, video.views, video.likes])\n",
    "            print(f\"[+] Information extractet from video {vidID} successfully.\")\n",
    "    return"
   ]
  },
  {
   "cell_type": "code",
   "execution_count": 6,
   "id": "cb8e699c-73f1-498a-b8f0-3006e36c0f90",
   "metadata": {},
   "outputs": [],
   "source": [
    "import pandas as pd\n",
    "from ast import literal_eval\n",
    "\n",
    "def get_video_list(filename):\n",
    "    ret_list = []\n",
    "    df = pd.read_csv(filename)\n",
    "    df.Video_IDs = df.Video_IDs.apply(literal_eval)\n",
    "    for row in df.Video_IDs:\n",
    "        ret_list += row\n",
    "    return ret_list"
   ]
  },
  {
   "cell_type": "code",
   "execution_count": null,
   "id": "bd33b2ca-f850-4626-964d-96f374916a2c",
   "metadata": {},
   "outputs": [],
   "source": [
    "generate_csv(get_video_list('youtube_shorts_video_ids_new.csv'))"
   ]
  },
  {
   "cell_type": "code",
   "execution_count": null,
   "id": "42030880-9cf3-4e31-82f4-f5eb226981d5",
   "metadata": {},
   "outputs": [],
   "source": []
  }
 ],
 "metadata": {
  "kernelspec": {
   "display_name": "Python 3 (ipykernel)",
   "language": "python",
   "name": "python3"
  },
  "language_info": {
   "codemirror_mode": {
    "name": "ipython",
    "version": 3
   },
   "file_extension": ".py",
   "mimetype": "text/x-python",
   "name": "python",
   "nbconvert_exporter": "python",
   "pygments_lexer": "ipython3",
   "version": "3.10.13"
  }
 },
 "nbformat": 4,
 "nbformat_minor": 5
}

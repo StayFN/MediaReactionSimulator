{
 "cells": [
  {
   "cell_type": "code",
   "execution_count": 86,
   "id": "63a9075b-8b3c-4215-a6a3-88760c0a3a4c",
   "metadata": {},
   "outputs": [],
   "source": [
    "# imports\n",
    "from youtube_transcript_api import YouTubeTranscriptApi\n",
    "from youtube3 import YoutubeClient"
   ]
  },
  {
   "cell_type": "code",
   "execution_count": 87,
   "id": "3a62e6a9-6885-48fc-aa55-834c6ce94889",
   "metadata": {},
   "outputs": [],
   "source": [
    "# Constants\n",
    "YOUTUBE_AUTH_FILE_LOCATION = \"client_secret.json\"\n",
    "# OAuth Credentials can be created here: https://console.cloud.google.com/apis/credentials\n",
    "# YouTube API needs to be activated before use here: https://console.developers.google.com/apis/api/youtube.googleapis.com/overview"
   ]
  },
  {
   "cell_type": "code",
   "execution_count": 88,
   "id": "c2f65430-795a-44fc-826f-993ae4ee1257",
   "metadata": {},
   "outputs": [],
   "source": [
    "class YTVideo:\n",
    "    def __init__(self, videoId=\"\"):\n",
    "        self.videoId = videoId\n",
    "        self.transcript, self.duration = self.extractTranscript()\n",
    "\n",
    "        videoInfo = self.getVideoInfo()\n",
    "        self.title = videoInfo[\"title\"]\n",
    "        self.description = videoInfo[\"description\"]\n",
    "        self.thumbnailURL = videoInfo['thumbnails']['maxres']['url']\n",
    "        self.channelTitle = videoInfo['channelTitle']\n",
    "        self.publishedAt = videoInfo['publishedAt']\n",
    "        return\n",
    "\n",
    "    # extract transcript and transform it to string\n",
    "    def extractTranscript(self):\n",
    "        transcript = \"\"\n",
    "        duration = 0\n",
    "        transcriptList = YouTubeTranscriptApi.get_transcript(self.videoId)\n",
    "        for t in transcriptList:\n",
    "            transcript += t[\"text\"] + \" \"\n",
    "            duration += t[\"duration\"]\n",
    "        return transcript, duration\n",
    "\n",
    "    # extract video info from YT API\n",
    "    def getVideoInfo(self):\n",
    "        YTClient = YoutubeClient(YOUTUBE_AUTH_FILE_LOCATION)\n",
    "        video = YTClient.get_video(self.videoId)\n",
    "        return video['items'][0]['snippet']"
   ]
  },
  {
   "cell_type": "code",
   "execution_count": 89,
   "id": "a7fe7b6b-682b-4327-905a-5d5f01b075c9",
   "metadata": {},
   "outputs": [
    {
     "name": "stdout",
     "output_type": "stream",
     "text": [
      "Video Link: https://www.youtube.com/watch?v=l9_8_pDTmis\n",
      " Channel Title: MrBeast\n",
      " Video Title: Furthest Away From Me Wins $10,000\n",
      " Transcript: whichever one of these three people can get the furthest away from me in 24 hours wins 10 grand let's go oh yes sir start the timer I'm winning you s let's go as expected they're all blitzing to the airport and almost there are you trying to beat me right now you're not going to beat me Julio and Blair are just beaming across the planet as for Austin headed to Disneyland right now and I'm getting a turkey B I just don't know what he's doing Julio just landed in turkey and Blair's on a boat in the middle of the ocean I'm not sure who's going to win hold it on for Z life let's go Blair you made it to Hawaii which is 4,918 MI away from me jio you successfully traveled 5,262 Mi away from me and got the dub yes sir I just want TK baby \n",
      " Words per Second: 7.6414704667492765\n",
      " Video length: 96.84\n",
      "Video Link: https://www.youtube.com/watch?v=QYEfTly0pTE\n",
      " Channel Title: Fly Me to the Fun™\n",
      " Video Title: We lost contact with ATC over the ocean! #aviation #atc #airplane\n",
      " Transcript: this year we flew our Cessna 150 1800 miles from Atlanta all the way to St Barts on the leg from the Bahamas to Turks and Caicos we encountered some weather and had to descend to maintain VFR but in doing that we got too low to maintain contact with Miami Center so we had to do this to stay in touch at first uh 893 Miami Center would like to know your altitude and position around the weather we're going to relay that to Miami Center for you all right Roger we are 6.6 miles Southeast of Mike Yankee Charlie India we're on a one two eight heading maintaining bfr at two thousand and ground speeds currently 70 knots Miami Center Spirit Wings eight nine three we have an update from November 22318 there are currently 6.6 miles Southeast of Mike Yankee Charlie India at 2 000 feet heading one two eight they're maintaining 70 knots \n",
      " Words per Second: 7.576308139534883\n",
      " Video length: 110.08000000000001\n",
      "Video Link: https://www.youtube.com/watch?v=jYJTPqU66IY\n",
      " Channel Title: TheJetBusiness\n",
      " Video Title: How to renovate your private jet\n",
      " Transcript: I was going to say like what's a turnaround time for the change of an interior and also for example if you put half a million into renovating the interior there's three things you could do to Interior the soft goods which is all the Fabrics whether it's the side panels the ceiling the seats the carpet that kind of stuff then the other part is the color of the wood and then the other one is moving furniture around to move furniture around is very very expensive they have to redo engineering drawings I mean literally on a G550 just to give you an idea if you wanted to change this couch to two chairs it would cost about so I guess just to keep the configuration the same like but change the interior color scheme Leathers stuff like that well if you want to change this airplane let's say you know you like the color of the wood now you see this is a light color wood but if I go at this other one this is a dark color wood you see now this color is sort of like a medium so if you can Envision and what we do if you wanted to get an airplan this we usually don't look at the colors okay because that's the worst thing and people do it they buy a plane because they like the color of the seats it's nuts \n",
      " Words per Second: 10.221508285424417\n",
      " Video length: 118.28\n"
     ]
    }
   ],
   "source": [
    "vid_list = [\"l9_8_pDTmis\", \"QYEfTly0pTE\", \"jYJTPqU66IY\"]\n",
    "for vid in vid_list:\n",
    "    video = YTVideo(vid)\n",
    "    print(\"Video Link: \" + \"https://www.youtube.com/watch?v=\" + vid  + \"\\n Channel Title: \" + video.channelTitle + \"\\n Video Title: \" + video.title + \"\\n Transcript: \" + video.transcript + \"\\n Words per Second: \" + str(len(video.transcript)/video.duration) + \"\\n Video length: \" + str(video.duration))"
   ]
  },
  {
   "cell_type": "code",
   "execution_count": 47,
   "id": "41e918fa-9169-4fe5-b280-5a8e11010d44",
   "metadata": {},
   "outputs": [
    {
     "data": {
      "text/plain": [
       "'https://i.ytimg.com/vi/h645Q5rAnOQ/maxresdefault.jpg'"
      ]
     },
     "execution_count": 47,
     "metadata": {},
     "output_type": "execute_result"
    }
   ],
   "source": [
    "video.thumbnailURL"
   ]
  },
  {
   "cell_type": "code",
   "execution_count": 48,
   "id": "492f5192-e6b5-463a-aad2-df06eccc2e6f",
   "metadata": {},
   "outputs": [
    {
     "data": {
      "text/plain": [
       "'Barneee'"
      ]
     },
     "execution_count": 48,
     "metadata": {},
     "output_type": "execute_result"
    }
   ],
   "source": [
    "video.channelTitle"
   ]
  },
  {
   "cell_type": "code",
   "execution_count": 49,
   "id": "776c47ad-8277-46d8-b914-2d6a977bbfa5",
   "metadata": {},
   "outputs": [
    {
     "data": {
      "text/plain": [
       "'2023-08-10T23:16:23Z'"
      ]
     },
     "execution_count": 49,
     "metadata": {},
     "output_type": "execute_result"
    }
   ],
   "source": [
    "video.publishedAt"
   ]
  },
  {
   "cell_type": "code",
   "execution_count": null,
   "id": "89e4f902-3820-4965-a1cd-6b774cd258ac",
   "metadata": {},
   "outputs": [],
   "source": []
  }
 ],
 "metadata": {
  "kernelspec": {
   "display_name": "Python 3 (ipykernel)",
   "language": "python",
   "name": "python3"
  },
  "language_info": {
   "codemirror_mode": {
    "name": "ipython",
    "version": 3
   },
   "file_extension": ".py",
   "mimetype": "text/x-python",
   "name": "python",
   "nbconvert_exporter": "python",
   "pygments_lexer": "ipython3",
   "version": "3.11.2"
  }
 },
 "nbformat": 4,
 "nbformat_minor": 5
}

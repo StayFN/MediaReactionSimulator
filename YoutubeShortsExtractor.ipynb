{
 "cells": [
  {
   "cell_type": "code",
   "execution_count": 28,
   "id": "63a9075b-8b3c-4215-a6a3-88760c0a3a4c",
   "metadata": {},
   "outputs": [],
   "source": [
    "# imports\n",
    "from youtube_transcript_api import YouTubeTranscriptApi\n",
    "from youtube3 import YoutubeClient\n",
    "import csv"
   ]
  },
  {
   "cell_type": "code",
   "execution_count": 29,
   "id": "3a62e6a9-6885-48fc-aa55-834c6ce94889",
   "metadata": {},
   "outputs": [],
   "source": [
    "# Constants\n",
    "YOUTUBE_AUTH_FILE_LOCATION = \"client_secret.json\"\n",
    "VIDEO_CSV_FILE = \"youtube_shorts_description.csv\"\n",
    "VIDEO_LIST = [\"l9_8_pDTmis\",\"QYEfTly0pTE\",\"jYJTPqU66IY\",\"dBsomKKHhtk\",\"dTLYweJ08Tg\",\"k9v_bsZUQRg\",\"Js6ZUBSW6s0\",\"1AY9Sqt7yCg\",\"f8a2tiHatCc\",\"bnem7I5UkaA\",\"aFJ1ThX8XHU\",\"n7x4Jj9pdH8\",\"LdoJnz_ZQyU\",\"m5uJjHV_eVs\",\"xN5OsH0UCmo\",\"KiEErvcX_qo\",\"NLvfrxL3YGA\",\"nK-Hy0TxIik\",\"yWJVX9MKrUM\",\"d2EPEgWPn8Y\"]\n",
    "# OAuth Credentials can be created here: https://console.cloud.google.com/apis/credentials\n",
    "# YouTube API needs to be activated before use here: https://console.developers.google.com/apis/api/youtube.googleapis.com/overview"
   ]
  },
  {
   "cell_type": "code",
   "execution_count": 30,
   "id": "c2f65430-795a-44fc-826f-993ae4ee1257",
   "metadata": {},
   "outputs": [],
   "source": [
    "class YTVideo:\n",
    "    def __init__(self, videoId=\"\"):\n",
    "        self.videoId = videoId\n",
    "        self.transcript, self.duration = self.extractTranscript()\n",
    "\n",
    "        videoInfo = self.getVideoInfo()\n",
    "        self.title = videoInfo[\"title\"]\n",
    "        self.description = videoInfo[\"description\"]\n",
    "        self.thumbnailURL = videoInfo['thumbnails']['maxres']['url']\n",
    "        self.channelTitle = videoInfo['channelTitle']\n",
    "        self.publishedAt = videoInfo['publishedAt']\n",
    "        return\n",
    "\n",
    "    # extract transcript and transform it to string\n",
    "    def extractTranscript(self):\n",
    "        transcript = \"\"\n",
    "        duration = 0\n",
    "        transcriptList = YouTubeTranscriptApi.get_transcript(self.videoId)\n",
    "        for t in transcriptList:\n",
    "            transcript += t[\"text\"] + \" \"\n",
    "            duration += t[\"duration\"]\n",
    "        return transcript, duration\n",
    "\n",
    "    # extract video info from YT API\n",
    "    def getVideoInfo(self):\n",
    "        YTClient = YoutubeClient(YOUTUBE_AUTH_FILE_LOCATION)\n",
    "        video = YTClient.get_video(self.videoId)\n",
    "        return video['items'][0]['snippet']"
   ]
  },
  {
   "cell_type": "code",
   "execution_count": 31,
   "id": "74d67bb3-d1a0-4401-ae69-7b08de0f3a95",
   "metadata": {},
   "outputs": [],
   "source": [
    "# receives a list of video IDs and generates a csv file with available information about the video\n",
    "def generate_csv(vidList):\n",
    "    # open csv and create csv writer\n",
    "    with open(VIDEO_CSV_FILE, 'w') as csvfile:\n",
    "        writer = csv.writer(csvfile, delimiter=',', quotechar='\"', quoting=csv.QUOTE_MINIMAL)\n",
    "\n",
    "        # extract info from YT API and write to csv file\n",
    "        writer.writerow([\"Video ID\", \"Video Title\", \"Channel Title\", \"Transcript\", \"Duration\", \"Words per Second\"])\n",
    "        for vidID in vidList:\n",
    "            video = YTVideo(vidID)\n",
    "            writer.writerow([video.videoId, video.title, video.channelTitle, video.transcript, video.duration, len(video.transcript.split(\" \"))/video.duration])\n",
    "    return"
   ]
  },
  {
   "cell_type": "code",
   "execution_count": 32,
   "id": "cb8e699c-73f1-498a-b8f0-3006e36c0f90",
   "metadata": {},
   "outputs": [],
   "source": [
    "generate_csv(VIDEO_LIST)"
   ]
  }
 ],
 "metadata": {
  "kernelspec": {
   "display_name": "Python 3 (ipykernel)",
   "language": "python",
   "name": "python3"
  },
  "language_info": {
   "codemirror_mode": {
    "name": "ipython",
    "version": 3
   },
   "file_extension": ".py",
   "mimetype": "text/x-python",
   "name": "python",
   "nbconvert_exporter": "python",
   "pygments_lexer": "ipython3",
   "version": "3.11.2"
  }
 },
 "nbformat": 4,
 "nbformat_minor": 5
}

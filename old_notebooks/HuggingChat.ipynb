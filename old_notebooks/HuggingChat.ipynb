{
 "cells": [
  {
   "cell_type": "code",
   "execution_count": 3,
   "metadata": {},
   "outputs": [],
   "source": [
    "import pandas as pd\n",
    "from hugchat import hugchat\n",
    "from hugchat.login import Login\n",
    "import json\n",
    "from tqdm import tqdm\n",
    "tqdm.pandas()"
   ]
  },
  {
   "cell_type": "code",
   "execution_count": 4,
   "metadata": {},
   "outputs": [],
   "source": [
    "# Load the secrets from the JSON file\n",
    "with open('client_secrets.json', 'r') as file:\n",
    "    secrets = json.load(file)\n",
    "\n",
    "# Set up the API key and YouTube API client\n",
    "login = secrets['huggingLogin']\n",
    "password = secrets['huggingPassword']"
   ]
  },
  {
   "cell_type": "markdown",
   "metadata": {},
   "source": [
    "### Initialize HuggingChat"
   ]
  },
  {
   "cell_type": "code",
   "execution_count": 5,
   "metadata": {},
   "outputs": [
    {
     "data": {
      "text/plain": [
       "'./cookies_snapshot/accounts@gregordebus.de.json'"
      ]
     },
     "execution_count": 5,
     "metadata": {},
     "output_type": "execute_result"
    }
   ],
   "source": [
    "sign = Login(login, password)\n",
    "cookies = sign.login()\n",
    "\n",
    "# Save cookies to the local directory\n",
    "cookie_path_dir = \"./cookies_snapshot\"\n",
    "sign.saveCookiesToDir(cookie_path_dir)"
   ]
  },
  {
   "cell_type": "code",
   "execution_count": 6,
   "metadata": {},
   "outputs": [],
   "source": [
    "# Load cookies when you restart your program:\n",
    "# sign = login(email, None)\n",
    "# cookies = sign.loadCookiesFromDir(cookie_path_dir) # This will detect if the JSON file exists, return cookies if it does and raise an Exception if it's not."
   ]
  },
  {
   "cell_type": "code",
   "execution_count": 7,
   "metadata": {},
   "outputs": [],
   "source": [
    "chatbot = hugchat.ChatBot(cookies=cookies.get_dict())  # or cookie_path=\"usercookies/<email>.json\""
   ]
  },
  {
   "cell_type": "markdown",
   "metadata": {},
   "source": [
    "### Load Shorts Information"
   ]
  },
  {
   "cell_type": "code",
   "execution_count": 8,
   "metadata": {},
   "outputs": [
    {
     "data": {
      "text/html": [
       "<div>\n",
       "<style scoped>\n",
       "    .dataframe tbody tr th:only-of-type {\n",
       "        vertical-align: middle;\n",
       "    }\n",
       "\n",
       "    .dataframe tbody tr th {\n",
       "        vertical-align: top;\n",
       "    }\n",
       "\n",
       "    .dataframe thead th {\n",
       "        text-align: right;\n",
       "    }\n",
       "</style>\n",
       "<table border=\"1\" class=\"dataframe\">\n",
       "  <thead>\n",
       "    <tr style=\"text-align: right;\">\n",
       "      <th></th>\n",
       "      <th>Video ID</th>\n",
       "      <th>Video Title</th>\n",
       "      <th>Channel Title</th>\n",
       "      <th>Transcript</th>\n",
       "      <th>Duration</th>\n",
       "      <th>Words per Second</th>\n",
       "      <th>Number of Comments</th>\n",
       "      <th>Top10 Comments</th>\n",
       "      <th>Category</th>\n",
       "      <th>Views</th>\n",
       "      <th>Likes</th>\n",
       "    </tr>\n",
       "  </thead>\n",
       "  <tbody>\n",
       "    <tr>\n",
       "      <th>0</th>\n",
       "      <td>6TYFH8UXGm4</td>\n",
       "      <td>b'CRAZIEST Sagawa1gou Funny TikTok Compilation...</td>\n",
       "      <td>b'Sagawa /\\xe3\\x81\\x95\\xe3\\x81\\x8c\\xe3\\x82\\x8f'</td>\n",
       "      <td>foreign [Music] foreign [Music] [Music] [Music...</td>\n",
       "      <td>1406.033</td>\n",
       "      <td>0.359167</td>\n",
       "      <td>804</td>\n",
       "      <td>['This guy can&amp;#39;t fail to make us laugh 😂 a...</td>\n",
       "      <td>b'Entertainment'</td>\n",
       "      <td>8087085</td>\n",
       "      <td>96939</td>\n",
       "    </tr>\n",
       "    <tr>\n",
       "      <th>1</th>\n",
       "      <td>iye3itnH9cs</td>\n",
       "      <td>b'Watch this and try not to laugh \\xf0\\x9f\\x98...</td>\n",
       "      <td>b'Fruity Vibes'</td>\n",
       "      <td>[Laughter] nice uh nice view out there with [A...</td>\n",
       "      <td>20.358</td>\n",
       "      <td>0.589449</td>\n",
       "      <td>4279</td>\n",
       "      <td>['&amp;quot;Our videos are love notes from us to y...</td>\n",
       "      <td>b'People &amp; Blogs'</td>\n",
       "      <td>31973780</td>\n",
       "      <td>743037</td>\n",
       "    </tr>\n",
       "    <tr>\n",
       "      <th>2</th>\n",
       "      <td>n_6YPvWcFLA</td>\n",
       "      <td>b'Funny baby reaction on the beach || #shorts'</td>\n",
       "      <td>b'Fun Decade'</td>\n",
       "      <td>[Music] all right careful [Music]</td>\n",
       "      <td>25.730</td>\n",
       "      <td>0.233191</td>\n",
       "      <td>4145</td>\n",
       "      <td>['onça com a tarde de mim não TJRJ nada de mai...</td>\n",
       "      <td>b'Comedy'</td>\n",
       "      <td>223683308</td>\n",
       "      <td>3022620</td>\n",
       "    </tr>\n",
       "    <tr>\n",
       "      <th>3</th>\n",
       "      <td>7bnKr6XfcWc</td>\n",
       "      <td>b'Funny Moment #shorts #funny'</td>\n",
       "      <td>b'BoomBibo'</td>\n",
       "      <td>oh my God oh yeah foreign</td>\n",
       "      <td>9.357</td>\n",
       "      <td>0.748103</td>\n",
       "      <td>11446</td>\n",
       "      <td>['If you think kids are immature, remember thi...</td>\n",
       "      <td>b'Comedy'</td>\n",
       "      <td>222227209</td>\n",
       "      <td>3074313</td>\n",
       "    </tr>\n",
       "    <tr>\n",
       "      <th>4</th>\n",
       "      <td>qXxC0R9CQkI</td>\n",
       "      <td>b'the gay test #shorts #comedy #funny'</td>\n",
       "      <td>b'al jokes'</td>\n",
       "      <td>Before I Let You in I need to make sure you're...</td>\n",
       "      <td>76.597</td>\n",
       "      <td>1.096649</td>\n",
       "      <td>17476</td>\n",
       "      <td>['“It’s black.”&lt;br&gt;“What?”&lt;br&gt;“Your phone scre...</td>\n",
       "      <td>b'Comedy'</td>\n",
       "      <td>28425874</td>\n",
       "      <td>1735751</td>\n",
       "    </tr>\n",
       "  </tbody>\n",
       "</table>\n",
       "</div>"
      ],
      "text/plain": [
       "      Video ID                                        Video Title  \\\n",
       "0  6TYFH8UXGm4  b'CRAZIEST Sagawa1gou Funny TikTok Compilation...   \n",
       "1  iye3itnH9cs  b'Watch this and try not to laugh \\xf0\\x9f\\x98...   \n",
       "2  n_6YPvWcFLA     b'Funny baby reaction on the beach || #shorts'   \n",
       "3  7bnKr6XfcWc                     b'Funny Moment #shorts #funny'   \n",
       "4  qXxC0R9CQkI             b'the gay test #shorts #comedy #funny'   \n",
       "\n",
       "                                     Channel Title  \\\n",
       "0  b'Sagawa /\\xe3\\x81\\x95\\xe3\\x81\\x8c\\xe3\\x82\\x8f'   \n",
       "1                                  b'Fruity Vibes'   \n",
       "2                                    b'Fun Decade'   \n",
       "3                                      b'BoomBibo'   \n",
       "4                                      b'al jokes'   \n",
       "\n",
       "                                          Transcript  Duration  \\\n",
       "0  foreign [Music] foreign [Music] [Music] [Music...  1406.033   \n",
       "1  [Laughter] nice uh nice view out there with [A...    20.358   \n",
       "2                 [Music] all right careful [Music]     25.730   \n",
       "3                         oh my God oh yeah foreign      9.357   \n",
       "4  Before I Let You in I need to make sure you're...    76.597   \n",
       "\n",
       "   Words per Second  Number of Comments  \\\n",
       "0          0.359167                 804   \n",
       "1          0.589449                4279   \n",
       "2          0.233191                4145   \n",
       "3          0.748103               11446   \n",
       "4          1.096649               17476   \n",
       "\n",
       "                                      Top10 Comments           Category  \\\n",
       "0  ['This guy can&#39;t fail to make us laugh 😂 a...   b'Entertainment'   \n",
       "1  ['&quot;Our videos are love notes from us to y...  b'People & Blogs'   \n",
       "2  ['onça com a tarde de mim não TJRJ nada de mai...          b'Comedy'   \n",
       "3  ['If you think kids are immature, remember thi...          b'Comedy'   \n",
       "4  ['“It’s black.”<br>“What?”<br>“Your phone scre...          b'Comedy'   \n",
       "\n",
       "       Views    Likes  \n",
       "0    8087085    96939  \n",
       "1   31973780   743037  \n",
       "2  223683308  3022620  \n",
       "3  222227209  3074313  \n",
       "4   28425874  1735751  "
      ]
     },
     "execution_count": 8,
     "metadata": {},
     "output_type": "execute_result"
    }
   ],
   "source": [
    "df_shorts = pd.read_csv(\"youtube_shorts_description_gdebus.csv\", sep=\";\")\n",
    "df_shorts.head()"
   ]
  },
  {
   "cell_type": "markdown",
   "metadata": {},
   "source": [
    "### Build Query"
   ]
  },
  {
   "cell_type": "code",
   "execution_count": 9,
   "metadata": {},
   "outputs": [],
   "source": [
    "def create_custom_query(row):\n",
    "    return (\n",
    "        \"You are a copywriter, create a 100 word summary of what this Youtube Short is about. \"\n",
    "        \"Provide a neutral description. The summary should describe the overall atmosphere \"\n",
    "        \"and pace of the video. It should also highlight important events from the video. \"\n",
    "        \"Do not include any statements about a viewers response to the content or the overall \"\n",
    "        \"viewing experience. Output the raw summary text.\\n\"\n",
    "        \"Title: {}\\n\"\n",
    "        \"Channel: {}\\n\"\n",
    "        \"Transcript: {}\\n\"\n",
    "        \"Comments: {}\\n\"\n",
    "        \"Category: {}\\n\"\n",
    "    ).format(\n",
    "        row['Video Title'], \n",
    "        row['Channel Title'], \n",
    "        row['Transcript'], \n",
    "        row['Top10 Comments'], \n",
    "        row['Category']\n",
    "    )"
   ]
  },
  {
   "cell_type": "code",
   "execution_count": 10,
   "metadata": {},
   "outputs": [],
   "source": [
    "# Apply the function to each row\n",
    "df_shorts['Custom Query'] = df_shorts.apply(create_custom_query, axis=1)"
   ]
  },
  {
   "cell_type": "markdown",
   "metadata": {},
   "source": [
    "### Query Huggingchat"
   ]
  },
  {
   "cell_type": "code",
   "execution_count": 11,
   "metadata": {},
   "outputs": [],
   "source": [
    "import time\n",
    "\n",
    "def get_chatbot_summary(row):\n",
    "    #Cast to String for regex, since query returns Message object\n",
    "    time.sleep(10)\n",
    "    return str(chatbot.query(row['Custom Query']))"
   ]
  },
  {
   "cell_type": "markdown",
   "metadata": {},
   "source": [
    "##### Batch Processing of Queries\n",
    "\n",
    "to avoid potential errors like Rate Limiting or just the server being unavailable or your Internet connection being unavailable to destroy all the progress."
   ]
  },
  {
   "cell_type": "code",
   "execution_count": 12,
   "metadata": {},
   "outputs": [],
   "source": [
    "# Process the DataFrame in batches and update the DataFrame\n",
    "def process_in_batches(dataframe, batch_size, output_csv):\n",
    "    for start in range(0, len(dataframe), batch_size):\n",
    "        end = min(start + batch_size, len(dataframe))\n",
    "        batch = dataframe.iloc[start:end]\n",
    "\n",
    "        with tqdm(total=len(batch), desc=f\"Processing Batch {start}-{end}\") as pbar:\n",
    "            try:\n",
    "                # Process each row and update the DataFrame\n",
    "                for i, row in batch.iterrows():\n",
    "                    dataframe.at[i, 'LLM Summary'] = get_chatbot_summary(row)\n",
    "                    pbar.update(1)  # Update the batch progress bar\n",
    "\n",
    "                # Write the current state of the DataFrame to the CSV file\n",
    "                dataframe.to_csv(output_csv, index=False)\n",
    "\n",
    "                print(f\"Batch {start} to {end} processed successfully\")\n",
    "            \n",
    "            except Exception as e:\n",
    "                print(f\"Error processing batch {start} to {end}: {e}\")\n",
    "                time.sleep(60)  # Sleep timer for rate limiting\n",
    "                process_in_batches(dataframe.iloc[start:], batch_size, output_csv)  # Restart from the current batch\n",
    "                break"
   ]
  },
  {
   "cell_type": "code",
   "execution_count": null,
   "metadata": {},
   "outputs": [
    {
     "name": "stderr",
     "output_type": "stream",
     "text": [
      "Processing Batch 0-10: 100%|███████████████████████████████████████████████████████████| 10/10 [03:30<00:00, 21.04s/it]\n"
     ]
    },
    {
     "name": "stdout",
     "output_type": "stream",
     "text": [
      "Batch 0 to 10 processed successfully\n"
     ]
    },
    {
     "name": "stderr",
     "output_type": "stream",
     "text": [
      "Processing Batch 10-20: 100%|██████████████████████████████████████████████████████████| 10/10 [03:23<00:00, 20.39s/it]\n"
     ]
    },
    {
     "name": "stdout",
     "output_type": "stream",
     "text": [
      "Batch 10 to 20 processed successfully\n"
     ]
    },
    {
     "name": "stderr",
     "output_type": "stream",
     "text": [
      "Processing Batch 20-30: 100%|██████████████████████████████████████████████████████████| 10/10 [03:30<00:00, 21.06s/it]\n"
     ]
    },
    {
     "name": "stdout",
     "output_type": "stream",
     "text": [
      "Batch 20 to 30 processed successfully\n"
     ]
    },
    {
     "name": "stderr",
     "output_type": "stream",
     "text": [
      "Processing Batch 30-40:   0%|                                                                   | 0/10 [00:00<?, ?it/s]Traceback (most recent call last):\n",
      "  File \"C:\\Users\\Gregor Debus\\AppData\\Local\\Programs\\Python\\Python311\\Lib\\site-packages\\hugchat\\hugchat.py\", line 686, in _stream_query\n",
      "    obj = json.loads(res)\n",
      "          ^^^^^^^^^^^^^^^\n",
      "  File \"C:\\Users\\Gregor Debus\\AppData\\Local\\Programs\\Python\\Python311\\Lib\\json\\__init__.py\", line 346, in loads\n",
      "    return _default_decoder.decode(s)\n",
      "           ^^^^^^^^^^^^^^^^^^^^^^^^^^\n",
      "  File \"C:\\Users\\Gregor Debus\\AppData\\Local\\Programs\\Python\\Python311\\Lib\\json\\decoder.py\", line 337, in decode\n",
      "    obj, end = self.raw_decode(s, idx=_w(s, 0).end())\n",
      "               ^^^^^^^^^^^^^^^^^^^^^^^^^^^^^^^^^^^^^^\n",
      "  File \"C:\\Users\\Gregor Debus\\AppData\\Local\\Programs\\Python\\Python311\\Lib\\json\\decoder.py\", line 355, in raw_decode\n",
      "    raise JSONDecodeError(\"Expecting value\", s, err.value) from None\n",
      "json.decoder.JSONDecodeError: Expecting value: line 1 column 1 (char 0)\n"
     ]
    },
    {
     "name": "stdout",
     "output_type": "stream",
     "text": [
      "Error processing batch 30 to 40: Failed to parse response: <!DOCTYPE html>\n"
     ]
    },
    {
     "name": "stderr",
     "output_type": "stream",
     "text": [
      "\n",
      "Processing Batch 0-10:   0%|                                                                    | 0/10 [00:00<?, ?it/s]\u001b[A\n",
      "Processing Batch 0-10:  10%|██████                                                      | 1/10 [00:17<02:40, 17.81s/it]\u001b[A\n",
      "Processing Batch 0-10:  20%|████████████                                                | 2/10 [00:36<02:25, 18.24s/it]\u001b[A\n",
      "Processing Batch 0-10:  30%|██████████████████                                          | 3/10 [00:54<02:07, 18.22s/it]\u001b[A\n",
      "Processing Batch 0-10:  40%|████████████████████████                                    | 4/10 [01:14<01:52, 18.82s/it]\u001b[A\n",
      "Processing Batch 0-10:  50%|██████████████████████████████                              | 5/10 [01:32<01:32, 18.60s/it]\u001b[A\n",
      "Processing Batch 0-10:  60%|████████████████████████████████████                        | 6/10 [01:52<01:16, 19.18s/it]\u001b[A\n",
      "Processing Batch 0-10:  70%|██████████████████████████████████████████                  | 7/10 [02:13<00:58, 19.60s/it]\u001b[A\n",
      "Processing Batch 0-10:  80%|████████████████████████████████████████████████            | 8/10 [02:33<00:39, 19.77s/it]\u001b[A\n",
      "Processing Batch 0-10:  90%|██████████████████████████████████████████████████████      | 9/10 [02:52<00:19, 19.58s/it]\u001b[A\n",
      "Processing Batch 0-10: 100%|███████████████████████████████████████████████████████████| 10/10 [03:10<00:00, 19.01s/it]\u001b[A\n"
     ]
    },
    {
     "name": "stdout",
     "output_type": "stream",
     "text": [
      "Batch 0 to 10 processed successfully\n"
     ]
    },
    {
     "name": "stderr",
     "output_type": "stream",
     "text": [
      "\n",
      "Processing Batch 10-20:   0%|                                                                   | 0/10 [00:00<?, ?it/s]\u001b[A\n",
      "Processing Batch 10-20:  10%|█████▉                                                     | 1/10 [00:21<03:09, 21.07s/it]\u001b[A\n",
      "Processing Batch 10-20:  20%|███████████▊                                               | 2/10 [00:46<03:07, 23.40s/it]\u001b[A\n",
      "Processing Batch 10-20:  30%|█████████████████▋                                         | 3/10 [01:11<02:51, 24.53s/it]\u001b[A\n",
      "Processing Batch 10-20:  40%|███████████████████████▌                                   | 4/10 [01:34<02:23, 23.91s/it]\u001b[A\n",
      "Processing Batch 10-20:  50%|█████████████████████████████▌                             | 5/10 [01:58<01:58, 23.64s/it]\u001b[A\n",
      "Processing Batch 10-20:  60%|███████████████████████████████████▍                       | 6/10 [02:19<01:31, 22.84s/it]\u001b[A\n",
      "Processing Batch 10-20:  70%|█████████████████████████████████████████▎                 | 7/10 [02:42<01:08, 22.99s/it]\u001b[A\n",
      "Processing Batch 10-20:  80%|███████████████████████████████████████████████▏           | 8/10 [03:01<00:43, 21.56s/it]\u001b[A\n",
      "Processing Batch 10-20:  90%|█████████████████████████████████████████████████████      | 9/10 [03:23<00:21, 21.69s/it]\u001b[A\n",
      "Processing Batch 10-20: 100%|██████████████████████████████████████████████████████████| 10/10 [03:41<00:00, 22.10s/it]\u001b[A\n"
     ]
    },
    {
     "name": "stdout",
     "output_type": "stream",
     "text": [
      "Batch 10 to 20 processed successfully\n"
     ]
    },
    {
     "name": "stderr",
     "output_type": "stream",
     "text": [
      "\n",
      "Processing Batch 20-30:   0%|                                                                   | 0/10 [00:00<?, ?it/s]\u001b[A\n",
      "Processing Batch 20-30:  10%|█████▉                                                     | 1/10 [00:20<03:01, 20.15s/it]\u001b[A\n",
      "Processing Batch 20-30:  20%|███████████▊                                               | 2/10 [00:39<02:36, 19.62s/it]\u001b[A\n",
      "Processing Batch 20-30:  30%|█████████████████▋                                         | 3/10 [00:56<02:10, 18.65s/it]\u001b[A\n",
      "Processing Batch 20-30:  40%|███████████████████████▌                                   | 4/10 [01:15<01:52, 18.69s/it]\u001b[A\n",
      "Processing Batch 20-30:  50%|█████████████████████████████▌                             | 5/10 [01:35<01:35, 19.06s/it]\u001b[A\n",
      "Processing Batch 20-30:  60%|███████████████████████████████████▍                       | 6/10 [01:54<01:16, 19.03s/it]\u001b[A\n",
      "Processing Batch 20-30:  70%|█████████████████████████████████████████▎                 | 7/10 [02:12<00:56, 18.80s/it]\u001b[A\n",
      "Processing Batch 20-30:  80%|███████████████████████████████████████████████▏           | 8/10 [02:33<00:39, 19.56s/it]\u001b[A\n",
      "Processing Batch 20-30:  90%|█████████████████████████████████████████████████████      | 9/10 [02:53<00:19, 19.64s/it]\u001b[A\n",
      "Processing Batch 20-30: 100%|██████████████████████████████████████████████████████████| 10/10 [03:15<00:00, 19.56s/it]\u001b[A\n"
     ]
    },
    {
     "name": "stdout",
     "output_type": "stream",
     "text": [
      "Batch 20 to 30 processed successfully\n"
     ]
    },
    {
     "name": "stderr",
     "output_type": "stream",
     "text": [
      "\n",
      "Processing Batch 30-40:   0%|                                                                   | 0/10 [00:00<?, ?it/s]\u001b[A\n",
      "Processing Batch 30-40:  10%|█████▉                                                     | 1/10 [00:21<03:13, 21.48s/it]\u001b[A\n",
      "Processing Batch 30-40:  20%|███████████▊                                               | 2/10 [00:42<02:51, 21.46s/it]\u001b[A\n",
      "Processing Batch 30-40:  30%|█████████████████▋                                         | 3/10 [01:02<02:25, 20.79s/it]\u001b[A\n",
      "Processing Batch 30-40:  40%|███████████████████████▌                                   | 4/10 [01:25<02:09, 21.58s/it]\u001b[A\n",
      "Processing Batch 30-40:  50%|█████████████████████████████▌                             | 5/10 [01:45<01:44, 20.84s/it]\u001b[A\n",
      "Processing Batch 30-40:  60%|███████████████████████████████████▍                       | 6/10 [02:04<01:21, 20.47s/it]\u001b[A\n",
      "Processing Batch 30-40:  70%|█████████████████████████████████████████▎                 | 7/10 [02:25<01:01, 20.59s/it]\u001b[A\n",
      "Processing Batch 30-40:  80%|███████████████████████████████████████████████▏           | 8/10 [02:44<00:40, 20.03s/it]\u001b[A\n",
      "Processing Batch 30-40:  90%|█████████████████████████████████████████████████████      | 9/10 [03:03<00:19, 19.73s/it]\u001b[A\n",
      "Processing Batch 30-40: 100%|██████████████████████████████████████████████████████████| 10/10 [03:24<00:00, 20.47s/it]\u001b[A\n"
     ]
    },
    {
     "name": "stdout",
     "output_type": "stream",
     "text": [
      "Batch 30 to 40 processed successfully\n"
     ]
    },
    {
     "name": "stderr",
     "output_type": "stream",
     "text": [
      "\n",
      "Processing Batch 40-50:   0%|                                                                   | 0/10 [00:00<?, ?it/s]\u001b[A\n",
      "Processing Batch 40-50:  10%|█████▉                                                     | 1/10 [00:18<02:44, 18.31s/it]\u001b[A\n",
      "Processing Batch 40-50:  20%|███████████▊                                               | 2/10 [00:40<02:44, 20.53s/it]\u001b[A\n",
      "Processing Batch 40-50:  30%|█████████████████▋                                         | 3/10 [00:59<02:19, 19.91s/it]\u001b[A\n",
      "Processing Batch 40-50:  40%|███████████████████████▌                                   | 4/10 [01:19<01:59, 19.90s/it]\u001b[A\n",
      "Processing Batch 40-50:  50%|█████████████████████████████▌                             | 5/10 [01:38<01:38, 19.77s/it]\u001b[A\n",
      "Processing Batch 40-50:  60%|███████████████████████████████████▍                       | 6/10 [01:56<01:16, 19.14s/it]\u001b[A\n",
      "Processing Batch 40-50:  70%|█████████████████████████████████████████▎                 | 7/10 [02:17<00:59, 19.73s/it]\u001b[A\n",
      "Processing Batch 40-50:  80%|███████████████████████████████████████████████▏           | 8/10 [02:36<00:39, 19.52s/it]\u001b[A\n",
      "Processing Batch 40-50:  90%|█████████████████████████████████████████████████████      | 9/10 [02:57<00:19, 19.76s/it]\u001b[A\n",
      "Processing Batch 40-50: 100%|██████████████████████████████████████████████████████████| 10/10 [03:15<00:00, 19.54s/it]\u001b[A\n"
     ]
    },
    {
     "name": "stdout",
     "output_type": "stream",
     "text": [
      "Batch 40 to 50 processed successfully\n"
     ]
    },
    {
     "name": "stderr",
     "output_type": "stream",
     "text": [
      "\n",
      "Processing Batch 50-60:   0%|                                                                   | 0/10 [00:00<?, ?it/s]\u001b[A\n",
      "Processing Batch 50-60:  10%|█████▉                                                     | 1/10 [00:19<02:52, 19.13s/it]\u001b[A\n",
      "Processing Batch 50-60:  20%|███████████▊                                               | 2/10 [00:38<02:32, 19.02s/it]\u001b[A\n",
      "Processing Batch 50-60:  30%|█████████████████▋                                         | 3/10 [00:55<02:09, 18.51s/it]\u001b[A\n",
      "Processing Batch 50-60:  40%|███████████████████████▌                                   | 4/10 [01:16<01:56, 19.34s/it]\u001b[A\n",
      "Processing Batch 50-60:  50%|█████████████████████████████▌                             | 5/10 [01:34<01:33, 18.73s/it]\u001b[A\n",
      "Processing Batch 50-60:  60%|███████████████████████████████████▍                       | 6/10 [01:54<01:16, 19.16s/it]\u001b[A\n",
      "Processing Batch 50-60:  70%|█████████████████████████████████████████▎                 | 7/10 [02:12<00:56, 18.81s/it]\u001b[A\n",
      "Processing Batch 50-60:  80%|███████████████████████████████████████████████▏           | 8/10 [02:30<00:37, 18.77s/it]\u001b[A\n",
      "Processing Batch 50-60:  90%|█████████████████████████████████████████████████████      | 9/10 [02:50<00:18, 18.87s/it]\u001b[A\n",
      "Processing Batch 50-60: 100%|██████████████████████████████████████████████████████████| 10/10 [03:08<00:00, 18.88s/it]\u001b[A\n"
     ]
    },
    {
     "name": "stdout",
     "output_type": "stream",
     "text": [
      "Batch 50 to 60 processed successfully\n"
     ]
    },
    {
     "name": "stderr",
     "output_type": "stream",
     "text": [
      "\n",
      "Processing Batch 60-70:   0%|                                                                   | 0/10 [00:00<?, ?it/s]\u001b[A\n",
      "Processing Batch 60-70:  10%|█████▉                                                     | 1/10 [00:19<02:52, 19.12s/it]\u001b[A\n",
      "Processing Batch 60-70:  20%|███████████▊                                               | 2/10 [00:38<02:34, 19.37s/it]\u001b[A\n",
      "Processing Batch 60-70:  30%|█████████████████▋                                         | 3/10 [00:56<02:11, 18.77s/it]\u001b[A\n",
      "Processing Batch 60-70:  40%|███████████████████████▌                                   | 4/10 [01:15<01:51, 18.62s/it]\u001b[A\n",
      "Processing Batch 60-70:  50%|█████████████████████████████▌                             | 5/10 [01:33<01:32, 18.53s/it]\u001b[A\n",
      "Processing Batch 60-70:  60%|███████████████████████████████████▍                       | 6/10 [01:50<01:11, 17.95s/it]\u001b[A\n",
      "Processing Batch 60-70:  70%|█████████████████████████████████████████▎                 | 7/10 [02:07<00:53, 17.67s/it]\u001b[A\n",
      "Processing Batch 60-70:  80%|███████████████████████████████████████████████▏           | 8/10 [02:25<00:35, 17.94s/it]\u001b[A\n",
      "Processing Batch 60-70:  90%|█████████████████████████████████████████████████████      | 9/10 [02:45<00:18, 18.48s/it]\u001b[A\n",
      "Processing Batch 60-70: 100%|██████████████████████████████████████████████████████████| 10/10 [03:03<00:00, 18.34s/it]\u001b[A\n"
     ]
    },
    {
     "name": "stdout",
     "output_type": "stream",
     "text": [
      "Batch 60 to 70 processed successfully\n"
     ]
    },
    {
     "name": "stderr",
     "output_type": "stream",
     "text": [
      "\n",
      "Processing Batch 70-80:   0%|                                                                   | 0/10 [00:00<?, ?it/s]\u001b[A\n",
      "Processing Batch 70-80:  10%|█████▉                                                     | 1/10 [00:19<02:54, 19.44s/it]\u001b[A\n",
      "Processing Batch 70-80:  20%|███████████▊                                               | 2/10 [00:39<02:38, 19.80s/it]\u001b[A\n",
      "Processing Batch 70-80:  30%|█████████████████▋                                         | 3/10 [00:59<02:19, 19.97s/it]\u001b[A\n",
      "Processing Batch 70-80:  40%|███████████████████████▌                                   | 4/10 [01:20<02:02, 20.40s/it]\u001b[A\n",
      "Processing Batch 70-80:  50%|█████████████████████████████▌                             | 5/10 [01:42<01:44, 20.81s/it]\u001b[A\n",
      "Processing Batch 70-80:  60%|███████████████████████████████████▍                       | 6/10 [02:02<01:22, 20.74s/it]\u001b[A\n",
      "Processing Batch 70-80:  70%|█████████████████████████████████████████▎                 | 7/10 [02:22<01:00, 20.33s/it]\u001b[A\n",
      "Processing Batch 70-80:  80%|███████████████████████████████████████████████▏           | 8/10 [02:45<00:42, 21.15s/it]\u001b[A\n",
      "Processing Batch 70-80:  90%|█████████████████████████████████████████████████████      | 9/10 [03:05<00:20, 20.88s/it]\u001b[A\n",
      "Processing Batch 70-80: 100%|██████████████████████████████████████████████████████████| 10/10 [03:26<00:00, 20.62s/it]\u001b[A\n"
     ]
    },
    {
     "name": "stdout",
     "output_type": "stream",
     "text": [
      "Batch 70 to 80 processed successfully\n"
     ]
    },
    {
     "name": "stderr",
     "output_type": "stream",
     "text": [
      "\n",
      "Processing Batch 80-90:   0%|                                                                   | 0/10 [00:00<?, ?it/s]\u001b[A\n",
      "Processing Batch 80-90:  10%|█████▉                                                     | 1/10 [00:17<02:40, 17.79s/it]\u001b[A\n",
      "Processing Batch 80-90:  20%|███████████▊                                               | 2/10 [00:38<02:37, 19.73s/it]\u001b[A\n",
      "Processing Batch 80-90:  30%|█████████████████▋                                         | 3/10 [00:57<02:15, 19.38s/it]\u001b[A\n",
      "Processing Batch 80-90:  40%|███████████████████████▌                                   | 4/10 [01:14<01:50, 18.48s/it]\u001b[A\n",
      "Processing Batch 80-90:  50%|█████████████████████████████▌                             | 5/10 [01:34<01:34, 18.92s/it]\u001b[A\n",
      "Processing Batch 80-90:  60%|███████████████████████████████████▍                       | 6/10 [01:57<01:21, 20.36s/it]\u001b[A\n",
      "Processing Batch 80-90:  70%|█████████████████████████████████████████▎                 | 7/10 [02:20<01:03, 21.17s/it]\u001b[A\n",
      "Processing Batch 80-90:  80%|███████████████████████████████████████████████▏           | 8/10 [02:40<00:41, 20.70s/it]\u001b[A\n",
      "Processing Batch 80-90:  90%|█████████████████████████████████████████████████████      | 9/10 [03:01<00:20, 20.75s/it]\u001b[A\n",
      "Processing Batch 80-90: 100%|██████████████████████████████████████████████████████████| 10/10 [03:24<00:00, 20.48s/it]\u001b[A\n"
     ]
    },
    {
     "name": "stdout",
     "output_type": "stream",
     "text": [
      "Batch 80 to 90 processed successfully\n"
     ]
    },
    {
     "name": "stderr",
     "output_type": "stream",
     "text": [
      "\n",
      "Processing Batch 90-100:   0%|                                                                  | 0/10 [00:00<?, ?it/s]\u001b[A\n",
      "Processing Batch 90-100:  10%|█████▊                                                    | 1/10 [00:19<02:54, 19.36s/it]\u001b[A\n",
      "Processing Batch 90-100:  20%|███████████▌                                              | 2/10 [00:38<02:32, 19.11s/it]\u001b[A\n",
      "Processing Batch 90-100:  30%|█████████████████▍                                        | 3/10 [00:55<02:08, 18.35s/it]\u001b[A\n",
      "Processing Batch 90-100:  40%|███████████████████████▏                                  | 4/10 [01:14<01:51, 18.56s/it]\u001b[A\n",
      "Processing Batch 90-100:  50%|█████████████████████████████                             | 5/10 [01:33<01:32, 18.53s/it]\u001b[A\n",
      "Processing Batch 90-100:  60%|██████████████████████████████████▊                       | 6/10 [01:51<01:14, 18.66s/it]\u001b[A\n",
      "Processing Batch 90-100:  70%|████████████████████████████████████████▌                 | 7/10 [02:12<00:57, 19.11s/it]\u001b[A\n",
      "Processing Batch 90-100:  80%|██████████████████████████████████████████████▍           | 8/10 [02:29<00:37, 18.51s/it]\u001b[A\n",
      "Processing Batch 90-100:  90%|████████████████████████████████████████████████████▏     | 9/10 [02:46<00:18, 18.10s/it]\u001b[A\n",
      "Processing Batch 90-100: 100%|█████████████████████████████████████████████████████████| 10/10 [03:02<00:00, 18.26s/it]\u001b[A\n"
     ]
    },
    {
     "name": "stdout",
     "output_type": "stream",
     "text": [
      "Batch 90 to 100 processed successfully\n"
     ]
    },
    {
     "name": "stderr",
     "output_type": "stream",
     "text": [
      "\n",
      "Processing Batch 100-110:   0%|                                                                 | 0/10 [00:00<?, ?it/s]\u001b[A\n",
      "Processing Batch 100-110:  10%|█████▋                                                   | 1/10 [00:17<02:34, 17.17s/it]\u001b[A\n",
      "Processing Batch 100-110:  20%|███████████▍                                             | 2/10 [00:35<02:20, 17.61s/it]\u001b[A\n",
      "Processing Batch 100-110:  30%|█████████████████                                        | 3/10 [00:53<02:06, 18.09s/it]\u001b[A\n",
      "Processing Batch 100-110:  40%|██████████████████████▊                                  | 4/10 [01:11<01:48, 18.07s/it]\u001b[A\n",
      "Processing Batch 100-110:  50%|████████████████████████████▌                            | 5/10 [01:30<01:30, 18.17s/it]\u001b[A\n",
      "Processing Batch 100-110:  60%|██████████████████████████████████▏                      | 6/10 [01:47<01:11, 17.99s/it]\u001b[A\n",
      "Processing Batch 100-110:  70%|███████████████████████████████████████▉                 | 7/10 [02:10<00:58, 19.40s/it]\u001b[A\n",
      "Processing Batch 100-110:  80%|█████████████████████████████████████████████▌           | 8/10 [02:30<00:39, 19.66s/it]\u001b[A\n",
      "Processing Batch 100-110:  90%|███████████████████████████████████████████████████▎     | 9/10 [02:48<00:19, 19.32s/it]\u001b[A\n",
      "Processing Batch 100-110: 100%|████████████████████████████████████████████████████████| 10/10 [03:07<00:00, 18.71s/it]\u001b[A\n"
     ]
    },
    {
     "name": "stdout",
     "output_type": "stream",
     "text": [
      "Batch 100 to 110 processed successfully\n"
     ]
    },
    {
     "name": "stderr",
     "output_type": "stream",
     "text": [
      "\n",
      "Processing Batch 110-120:   0%|                                                                 | 0/10 [00:00<?, ?it/s]\u001b[A\n",
      "Processing Batch 110-120:  10%|█████▋                                                   | 1/10 [00:18<02:44, 18.33s/it]\u001b[A\n",
      "Processing Batch 110-120:  20%|███████████▍                                             | 2/10 [00:34<02:16, 17.11s/it]\u001b[A\n",
      "Processing Batch 110-120:  30%|█████████████████                                        | 3/10 [00:52<02:02, 17.46s/it]\u001b[A\n",
      "Processing Batch 110-120:  40%|██████████████████████▊                                  | 4/10 [01:10<01:46, 17.74s/it]\u001b[A\n",
      "Processing Batch 110-120:  50%|████████████████████████████▌                            | 5/10 [01:28<01:28, 17.75s/it]\u001b[A\n",
      "Processing Batch 110-120:  60%|██████████████████████████████████▏                      | 6/10 [01:46<01:11, 17.80s/it]\u001b[A\n",
      "Processing Batch 110-120:  70%|███████████████████████████████████████▉                 | 7/10 [02:04<00:53, 17.98s/it]\u001b[A\n",
      "Processing Batch 110-120:  80%|█████████████████████████████████████████████▌           | 8/10 [02:21<00:35, 17.54s/it]\u001b[A\n",
      "Processing Batch 110-120:  90%|███████████████████████████████████████████████████▎     | 9/10 [02:38<00:17, 17.45s/it]\u001b[A\n",
      "Processing Batch 110-120: 100%|████████████████████████████████████████████████████████| 10/10 [02:55<00:00, 17.51s/it]\u001b[A\n"
     ]
    },
    {
     "name": "stdout",
     "output_type": "stream",
     "text": [
      "Batch 110 to 120 processed successfully\n"
     ]
    },
    {
     "name": "stderr",
     "output_type": "stream",
     "text": [
      "\n",
      "Processing Batch 120-130:   0%|                                                                 | 0/10 [00:00<?, ?it/s]\u001b[A\n",
      "Processing Batch 120-130:  10%|█████▋                                                   | 1/10 [00:18<02:47, 18.63s/it]\u001b[A\n",
      "Processing Batch 120-130:  20%|███████████▍                                             | 2/10 [00:35<02:22, 17.77s/it]\u001b[A\n",
      "Processing Batch 120-130:  30%|█████████████████                                        | 3/10 [00:54<02:05, 18.00s/it]\u001b[A\n",
      "Processing Batch 120-130:  40%|██████████████████████▊                                  | 4/10 [01:10<01:45, 17.52s/it]\u001b[A\n",
      "Processing Batch 120-130:  50%|████████████████████████████▌                            | 5/10 [01:26<01:23, 16.76s/it]\u001b[A\n",
      "Processing Batch 120-130:  60%|██████████████████████████████████▏                      | 6/10 [01:44<01:08, 17.10s/it]\u001b[A\n",
      "Processing Batch 120-130:  70%|███████████████████████████████████████▉                 | 7/10 [02:00<00:50, 16.97s/it]\u001b[A\n",
      "Processing Batch 120-130:  80%|█████████████████████████████████████████████▌           | 8/10 [02:18<00:34, 17.11s/it]\u001b[A\n",
      "Processing Batch 120-130:  90%|███████████████████████████████████████████████████▎     | 9/10 [02:36<00:17, 17.40s/it]\u001b[A\n",
      "Processing Batch 120-130: 100%|████████████████████████████████████████████████████████| 10/10 [02:53<00:00, 17.34s/it]\u001b[A\n"
     ]
    },
    {
     "name": "stdout",
     "output_type": "stream",
     "text": [
      "Batch 120 to 130 processed successfully\n"
     ]
    },
    {
     "name": "stderr",
     "output_type": "stream",
     "text": [
      "\n",
      "Processing Batch 130-140:   0%|                                                                 | 0/10 [00:00<?, ?it/s]\u001b[A\n",
      "Processing Batch 130-140:  10%|█████▋                                                   | 1/10 [00:19<02:54, 19.35s/it]\u001b[A\n",
      "Processing Batch 130-140:  20%|███████████▍                                             | 2/10 [00:35<02:21, 17.69s/it]\u001b[A\n",
      "Processing Batch 130-140:  30%|█████████████████                                        | 3/10 [00:54<02:08, 18.33s/it]\u001b[A\n",
      "Processing Batch 130-140:  40%|██████████████████████▊                                  | 4/10 [01:13<01:51, 18.60s/it]\u001b[A\n",
      "Processing Batch 130-140:  50%|████████████████████████████▌                            | 5/10 [01:31<01:31, 18.37s/it]\u001b[A\n",
      "Processing Batch 130-140:  60%|██████████████████████████████████▏                      | 6/10 [01:53<01:17, 19.35s/it]\u001b[A\n",
      "Processing Batch 130-140:  70%|███████████████████████████████████████▉                 | 7/10 [02:13<00:58, 19.54s/it]\u001b[A\n",
      "Processing Batch 130-140:  80%|█████████████████████████████████████████████▌           | 8/10 [02:32<00:39, 19.56s/it]\u001b[A\n",
      "Processing Batch 130-140:  90%|███████████████████████████████████████████████████▎     | 9/10 [02:51<00:19, 19.35s/it]\u001b[A\n",
      "Processing Batch 130-140: 100%|████████████████████████████████████████████████████████| 10/10 [03:10<00:00, 19.08s/it]\u001b[A\n"
     ]
    },
    {
     "name": "stdout",
     "output_type": "stream",
     "text": [
      "Batch 130 to 140 processed successfully\n"
     ]
    },
    {
     "name": "stderr",
     "output_type": "stream",
     "text": [
      "\n",
      "Processing Batch 140-150:   0%|                                                                 | 0/10 [00:00<?, ?it/s]\u001b[A\n",
      "Processing Batch 140-150:  10%|█████▋                                                   | 1/10 [00:19<02:59, 19.96s/it]\u001b[A\n",
      "Processing Batch 140-150:  20%|███████████▍                                             | 2/10 [00:38<02:33, 19.21s/it]\u001b[A\n",
      "Processing Batch 140-150:  30%|█████████████████                                        | 3/10 [00:55<02:07, 18.25s/it]\u001b[A\n",
      "Processing Batch 140-150:  40%|██████████████████████▊                                  | 4/10 [01:14<01:49, 18.26s/it]\u001b[A\n",
      "Processing Batch 140-150:  50%|████████████████████████████▌                            | 5/10 [01:33<01:33, 18.63s/it]\u001b[A\n",
      "Processing Batch 140-150:  60%|██████████████████████████████████▏                      | 6/10 [01:51<01:14, 18.62s/it]\u001b[A\n",
      "Processing Batch 140-150:  70%|███████████████████████████████████████▉                 | 7/10 [02:11<00:56, 18.89s/it]\u001b[A\n",
      "Processing Batch 140-150:  80%|█████████████████████████████████████████████▌           | 8/10 [02:31<00:38, 19.39s/it]\u001b[A\n",
      "Processing Batch 140-150:  90%|███████████████████████████████████████████████████▎     | 9/10 [02:50<00:19, 19.12s/it]\u001b[A\n",
      "Processing Batch 140-150: 100%|████████████████████████████████████████████████████████| 10/10 [03:09<00:00, 18.94s/it]\u001b[A\n"
     ]
    },
    {
     "name": "stdout",
     "output_type": "stream",
     "text": [
      "Batch 140 to 150 processed successfully\n"
     ]
    },
    {
     "name": "stderr",
     "output_type": "stream",
     "text": [
      "\n",
      "Processing Batch 150-160:   0%|                                                                 | 0/10 [00:00<?, ?it/s]\u001b[A\n",
      "Processing Batch 150-160:  10%|█████▋                                                   | 1/10 [00:17<02:41, 17.97s/it]\u001b[A\n",
      "Processing Batch 150-160:  20%|███████████▍                                             | 2/10 [00:38<02:35, 19.48s/it]\u001b[A\n",
      "Processing Batch 150-160:  30%|█████████████████                                        | 3/10 [00:56<02:10, 18.58s/it]\u001b[A\n",
      "Processing Batch 150-160:  40%|██████████████████████▊                                  | 4/10 [01:14<01:50, 18.44s/it]\u001b[A\n",
      "Processing Batch 150-160:  50%|████████████████████████████▌                            | 5/10 [01:34<01:36, 19.21s/it]\u001b[A\n",
      "Processing Batch 150-160:  60%|██████████████████████████████████▏                      | 6/10 [01:53<01:15, 18.89s/it]\u001b[A\n",
      "Processing Batch 150-160:  70%|███████████████████████████████████████▉                 | 7/10 [02:12<00:57, 19.08s/it]\u001b[A\n",
      "Processing Batch 150-160:  80%|█████████████████████████████████████████████▌           | 8/10 [02:29<00:36, 18.34s/it]\u001b[A\n",
      "Processing Batch 150-160:  90%|███████████████████████████████████████████████████▎     | 9/10 [02:46<00:17, 17.95s/it]\u001b[A\n",
      "Processing Batch 150-160: 100%|████████████████████████████████████████████████████████| 10/10 [03:05<00:00, 18.51s/it]\u001b[A\n"
     ]
    },
    {
     "name": "stdout",
     "output_type": "stream",
     "text": [
      "Batch 150 to 160 processed successfully\n"
     ]
    },
    {
     "name": "stderr",
     "output_type": "stream",
     "text": [
      "\n",
      "Processing Batch 160-170:   0%|                                                                 | 0/10 [00:00<?, ?it/s]\u001b[A\n",
      "Processing Batch 160-170:  10%|█████▋                                                   | 1/10 [00:18<02:49, 18.83s/it]\u001b[A\n",
      "Processing Batch 160-170:  20%|███████████▍                                             | 2/10 [00:36<02:24, 18.10s/it]\u001b[A\n",
      "Processing Batch 160-170:  30%|█████████████████                                        | 3/10 [00:54<02:05, 17.96s/it]\u001b[A\n",
      "Processing Batch 160-170:  40%|██████████████████████▊                                  | 4/10 [01:12<01:48, 18.06s/it]\u001b[A\n",
      "Processing Batch 160-170:  50%|████████████████████████████▌                            | 5/10 [01:31<01:31, 18.37s/it]\u001b[A\n",
      "Processing Batch 160-170:  60%|██████████████████████████████████▏                      | 6/10 [01:50<01:14, 18.66s/it]\u001b[A\n",
      "Processing Batch 160-170:  70%|███████████████████████████████████████▉                 | 7/10 [02:10<00:57, 19.13s/it]\u001b[A\n",
      "Processing Batch 160-170:  80%|█████████████████████████████████████████████▌           | 8/10 [02:29<00:37, 18.90s/it]\u001b[A\n",
      "Processing Batch 160-170:  90%|███████████████████████████████████████████████████▎     | 9/10 [02:47<00:18, 18.81s/it]\u001b[A\n",
      "Processing Batch 160-170: 100%|████████████████████████████████████████████████████████| 10/10 [03:06<00:00, 18.67s/it]\u001b[A\n"
     ]
    },
    {
     "name": "stdout",
     "output_type": "stream",
     "text": [
      "Batch 160 to 170 processed successfully\n"
     ]
    },
    {
     "name": "stderr",
     "output_type": "stream",
     "text": [
      "\n",
      "Processing Batch 170-180:   0%|                                                                 | 0/10 [00:00<?, ?it/s]\u001b[A\n",
      "Processing Batch 170-180:  10%|█████▋                                                   | 1/10 [00:21<03:14, 21.66s/it]\u001b[A\n",
      "Processing Batch 170-180:  20%|███████████▍                                             | 2/10 [00:42<02:50, 21.34s/it]\u001b[A\n",
      "Processing Batch 170-180:  30%|█████████████████                                        | 3/10 [01:01<02:21, 20.21s/it]\u001b[A\n",
      "Processing Batch 170-180:  40%|██████████████████████▊                                  | 4/10 [01:20<01:59, 19.86s/it]\u001b[A\n",
      "Processing Batch 170-180:  50%|████████████████████████████▌                            | 5/10 [01:39<01:37, 19.56s/it]\u001b[A\n",
      "Processing Batch 170-180:  60%|██████████████████████████████████▏                      | 6/10 [02:00<01:19, 19.80s/it]\u001b[A\n",
      "Processing Batch 170-180:  70%|███████████████████████████████████████▉                 | 7/10 [02:18<00:57, 19.15s/it]\u001b[A\n",
      "Processing Batch 170-180:  80%|█████████████████████████████████████████████▌           | 8/10 [02:37<00:38, 19.08s/it]\u001b[A\n",
      "Processing Batch 170-180:  90%|███████████████████████████████████████████████████▎     | 9/10 [02:55<00:18, 18.96s/it]\u001b[A\n",
      "Processing Batch 170-180: 100%|████████████████████████████████████████████████████████| 10/10 [03:14<00:00, 19.41s/it]\u001b[A\n"
     ]
    },
    {
     "name": "stdout",
     "output_type": "stream",
     "text": [
      "Batch 170 to 180 processed successfully\n"
     ]
    },
    {
     "name": "stderr",
     "output_type": "stream",
     "text": [
      "\n",
      "Processing Batch 180-190:   0%|                                                                 | 0/10 [00:00<?, ?it/s]\u001b[A\n",
      "Processing Batch 180-190:  10%|█████▋                                                   | 1/10 [00:16<02:26, 16.32s/it]\u001b[A\n",
      "Processing Batch 180-190:  20%|███████████▍                                             | 2/10 [00:34<02:20, 17.52s/it]\u001b[A\n",
      "Processing Batch 180-190:  30%|█████████████████                                        | 3/10 [00:52<02:04, 17.81s/it]\u001b[A\n",
      "Processing Batch 180-190:  40%|██████████████████████▊                                  | 4/10 [01:12<01:50, 18.45s/it]\u001b[A\n",
      "Processing Batch 180-190:  50%|████████████████████████████▌                            | 5/10 [01:29<01:30, 18.13s/it]\u001b[A\n",
      "Processing Batch 180-190:  60%|██████████████████████████████████▏                      | 6/10 [01:49<01:15, 18.79s/it]\u001b[A\n",
      "Processing Batch 180-190:  70%|███████████████████████████████████████▉                 | 7/10 [02:10<00:57, 19.26s/it]\u001b[A\n",
      "Processing Batch 180-190:  80%|█████████████████████████████████████████████▌           | 8/10 [02:29<00:38, 19.26s/it]\u001b[A\n",
      "Processing Batch 180-190:  90%|███████████████████████████████████████████████████▎     | 9/10 [02:49<00:19, 19.64s/it]\u001b[A\n",
      "Processing Batch 180-190: 100%|████████████████████████████████████████████████████████| 10/10 [03:09<00:00, 18.90s/it]\u001b[A\n"
     ]
    },
    {
     "name": "stdout",
     "output_type": "stream",
     "text": [
      "Batch 180 to 190 processed successfully\n"
     ]
    },
    {
     "name": "stderr",
     "output_type": "stream",
     "text": [
      "\n",
      "Processing Batch 190-200:   0%|                                                                 | 0/10 [00:00<?, ?it/s]\u001b[A\n",
      "Processing Batch 190-200:  10%|█████▋                                                   | 1/10 [00:22<03:23, 22.56s/it]\u001b[A\n",
      "Processing Batch 190-200:  20%|███████████▍                                             | 2/10 [00:41<02:42, 20.33s/it]\u001b[A\n",
      "Processing Batch 190-200:  30%|█████████████████                                        | 3/10 [00:58<02:11, 18.72s/it]\u001b[A\n",
      "Processing Batch 190-200:  40%|██████████████████████▊                                  | 4/10 [01:17<01:54, 19.15s/it]\u001b[A\n",
      "Processing Batch 190-200:  50%|████████████████████████████▌                            | 5/10 [01:37<01:36, 19.27s/it]\u001b[A\n",
      "Processing Batch 190-200:  60%|██████████████████████████████████▏                      | 6/10 [01:57<01:17, 19.50s/it]\u001b[A\n",
      "Processing Batch 190-200:  70%|███████████████████████████████████████▉                 | 7/10 [02:19<01:01, 20.35s/it]\u001b[A\n",
      "Processing Batch 190-200:  80%|█████████████████████████████████████████████▌           | 8/10 [02:38<00:40, 20.07s/it]\u001b[A\n",
      "Processing Batch 190-200:  90%|███████████████████████████████████████████████████▎     | 9/10 [02:59<00:20, 20.21s/it]\u001b[A\n",
      "Processing Batch 190-200: 100%|████████████████████████████████████████████████████████| 10/10 [03:18<00:00, 19.80s/it]\u001b[A\n"
     ]
    },
    {
     "name": "stdout",
     "output_type": "stream",
     "text": [
      "Batch 190 to 200 processed successfully\n"
     ]
    },
    {
     "name": "stderr",
     "output_type": "stream",
     "text": [
      "\n",
      "Processing Batch 200-210:   0%|                                                                 | 0/10 [00:00<?, ?it/s]\u001b[A\n",
      "Processing Batch 200-210:  10%|█████▋                                                   | 1/10 [00:19<02:53, 19.25s/it]\u001b[A\n",
      "Processing Batch 200-210:  20%|███████████▍                                             | 2/10 [00:38<02:32, 19.01s/it]\u001b[A\n",
      "Processing Batch 200-210:  30%|█████████████████                                        | 3/10 [00:58<02:18, 19.84s/it]\u001b[A\n",
      "Processing Batch 200-210:  40%|██████████████████████▊                                  | 4/10 [01:18<01:58, 19.81s/it]\u001b[A\n",
      "Processing Batch 200-210:  50%|████████████████████████████▌                            | 5/10 [01:39<01:40, 20.06s/it]\u001b[A\n",
      "Processing Batch 200-210:  60%|██████████████████████████████████▏                      | 6/10 [02:00<01:22, 20.63s/it]\u001b[A\n",
      "Processing Batch 200-210:  70%|███████████████████████████████████████▉                 | 7/10 [02:25<01:05, 21.88s/it]\u001b[A\n",
      "Processing Batch 200-210:  80%|█████████████████████████████████████████████▌           | 8/10 [02:48<00:44, 22.12s/it]\u001b[A\n",
      "Processing Batch 200-210:  90%|███████████████████████████████████████████████████▎     | 9/10 [03:12<00:22, 22.86s/it]\u001b[A\n",
      "Processing Batch 200-210: 100%|████████████████████████████████████████████████████████| 10/10 [03:32<00:00, 21.25s/it]\u001b[A\n"
     ]
    },
    {
     "name": "stdout",
     "output_type": "stream",
     "text": [
      "Batch 200 to 210 processed successfully\n"
     ]
    },
    {
     "name": "stderr",
     "output_type": "stream",
     "text": [
      "\n",
      "Processing Batch 210-220:   0%|                                                                 | 0/10 [00:00<?, ?it/s]\u001b[A\n",
      "Processing Batch 210-220:  10%|█████▋                                                   | 1/10 [00:19<02:53, 19.33s/it]\u001b[A\n",
      "Processing Batch 210-220:  20%|███████████▍                                             | 2/10 [00:43<02:58, 22.33s/it]\u001b[A\n",
      "Processing Batch 210-220:  30%|█████████████████                                        | 3/10 [01:03<02:27, 21.05s/it]\u001b[A\n",
      "Processing Batch 210-220:  40%|██████████████████████▊                                  | 4/10 [01:24<02:07, 21.18s/it]\u001b[A\n",
      "Processing Batch 210-220:  50%|████████████████████████████▌                            | 5/10 [01:43<01:42, 20.45s/it]\u001b[A\n",
      "Processing Batch 210-220:  60%|██████████████████████████████████▏                      | 6/10 [02:04<01:21, 20.48s/it]\u001b[A\n",
      "Processing Batch 210-220:  70%|███████████████████████████████████████▉                 | 7/10 [02:21<00:58, 19.51s/it]\u001b[A\n",
      "Processing Batch 210-220:  80%|█████████████████████████████████████████████▌           | 8/10 [02:39<00:37, 18.86s/it]\u001b[A\n",
      "Processing Batch 210-220:  90%|███████████████████████████████████████████████████▎     | 9/10 [02:58<00:18, 18.93s/it]\u001b[A\n",
      "Processing Batch 210-220: 100%|████████████████████████████████████████████████████████| 10/10 [03:17<00:00, 19.77s/it]\u001b[A\n"
     ]
    },
    {
     "name": "stdout",
     "output_type": "stream",
     "text": [
      "Batch 210 to 220 processed successfully\n"
     ]
    },
    {
     "name": "stderr",
     "output_type": "stream",
     "text": [
      "\n",
      "Processing Batch 220-230:   0%|                                                                 | 0/10 [00:00<?, ?it/s]\u001b[A\n",
      "Processing Batch 220-230:  10%|█████▋                                                   | 1/10 [00:22<03:23, 22.57s/it]\u001b[A\n",
      "Processing Batch 220-230:  20%|███████████▍                                             | 2/10 [00:46<03:08, 23.55s/it]\u001b[A\n",
      "Processing Batch 220-230:  30%|█████████████████                                        | 3/10 [01:10<02:46, 23.80s/it]\u001b[A\n",
      "Processing Batch 220-230:  40%|██████████████████████▊                                  | 4/10 [01:31<02:14, 22.38s/it]\u001b[A\n",
      "Processing Batch 220-230:  50%|████████████████████████████▌                            | 5/10 [01:51<01:47, 21.57s/it]\u001b[A\n",
      "Processing Batch 220-230:  60%|██████████████████████████████████▏                      | 6/10 [02:12<01:26, 21.62s/it]\u001b[A\n",
      "Processing Batch 220-230:  70%|███████████████████████████████████████▉                 | 7/10 [02:30<01:00, 20.27s/it]\u001b[A\n",
      "Processing Batch 220-230:  80%|█████████████████████████████████████████████▌           | 8/10 [02:48<00:39, 19.59s/it]\u001b[A\n",
      "Processing Batch 220-230:  90%|███████████████████████████████████████████████████▎     | 9/10 [03:07<00:19, 19.36s/it]\u001b[A\n",
      "Processing Batch 220-230: 100%|████████████████████████████████████████████████████████| 10/10 [03:29<00:00, 20.93s/it]\u001b[A\n"
     ]
    },
    {
     "name": "stdout",
     "output_type": "stream",
     "text": [
      "Batch 220 to 230 processed successfully\n"
     ]
    },
    {
     "name": "stderr",
     "output_type": "stream",
     "text": [
      "\n",
      "Processing Batch 230-240:   0%|                                                                 | 0/10 [00:00<?, ?it/s]\u001b[A\n",
      "Processing Batch 230-240:  10%|█████▋                                                   | 1/10 [00:17<02:38, 17.57s/it]\u001b[A\n",
      "Processing Batch 230-240:  20%|███████████▍                                             | 2/10 [00:38<02:35, 19.41s/it]\u001b[A\n",
      "Processing Batch 230-240:  30%|█████████████████                                        | 3/10 [00:57<02:15, 19.43s/it]\u001b[A\n",
      "Processing Batch 230-240:  40%|██████████████████████▊                                  | 4/10 [01:17<01:58, 19.68s/it]\u001b[A\n",
      "Processing Batch 230-240:  50%|████████████████████████████▌                            | 5/10 [01:37<01:37, 19.57s/it]\u001b[A\n",
      "Processing Batch 230-240:  60%|██████████████████████████████████▏                      | 6/10 [01:54<01:15, 18.96s/it]\u001b[A\n",
      "Processing Batch 230-240:  70%|███████████████████████████████████████▉                 | 7/10 [02:13<00:56, 18.69s/it]\u001b[A\n",
      "Processing Batch 230-240:  80%|█████████████████████████████████████████████▌           | 8/10 [02:32<00:37, 18.92s/it]\u001b[A\n",
      "Processing Batch 230-240:  90%|███████████████████████████████████████████████████▎     | 9/10 [02:52<00:19, 19.15s/it]\u001b[A\n",
      "Processing Batch 230-240: 100%|████████████████████████████████████████████████████████| 10/10 [03:10<00:00, 19.09s/it]\u001b[A\n"
     ]
    },
    {
     "name": "stdout",
     "output_type": "stream",
     "text": [
      "Batch 230 to 240 processed successfully\n"
     ]
    },
    {
     "name": "stderr",
     "output_type": "stream",
     "text": [
      "\n",
      "Processing Batch 240-250:   0%|                                                                 | 0/10 [00:00<?, ?it/s]\u001b[A\n",
      "Processing Batch 240-250:  10%|█████▋                                                   | 1/10 [00:19<02:54, 19.36s/it]\u001b[A\n",
      "Processing Batch 240-250:  20%|███████████▍                                             | 2/10 [00:38<02:32, 19.06s/it]\u001b[A\n",
      "Processing Batch 240-250:  30%|█████████████████                                        | 3/10 [00:56<02:10, 18.65s/it]\u001b[A\n",
      "Processing Batch 240-250:  40%|██████████████████████▊                                  | 4/10 [01:16<01:54, 19.07s/it]\u001b[A\n",
      "Processing Batch 240-250:  50%|████████████████████████████▌                            | 5/10 [01:35<01:36, 19.21s/it]\u001b[A\n",
      "Processing Batch 240-250:  60%|██████████████████████████████████▏                      | 6/10 [01:54<01:16, 19.09s/it]\u001b[A\n",
      "Processing Batch 240-250:  70%|███████████████████████████████████████▉                 | 7/10 [02:14<00:57, 19.26s/it]\u001b[A\n",
      "Processing Batch 240-250:  80%|█████████████████████████████████████████████▌           | 8/10 [02:33<00:38, 19.18s/it]\u001b[A\n",
      "Processing Batch 240-250:  90%|███████████████████████████████████████████████████▎     | 9/10 [02:52<00:19, 19.20s/it]\u001b[A\n",
      "Processing Batch 240-250: 100%|████████████████████████████████████████████████████████| 10/10 [03:11<00:00, 19.13s/it]\u001b[A\n"
     ]
    },
    {
     "name": "stdout",
     "output_type": "stream",
     "text": [
      "Batch 240 to 250 processed successfully\n"
     ]
    },
    {
     "name": "stderr",
     "output_type": "stream",
     "text": [
      "\n",
      "Processing Batch 250-260:   0%|                                                                 | 0/10 [00:00<?, ?it/s]\u001b[A\n",
      "Processing Batch 250-260:  10%|█████▋                                                   | 1/10 [00:19<02:54, 19.34s/it]\u001b[A\n",
      "Processing Batch 250-260:  20%|███████████▍                                             | 2/10 [00:37<02:28, 18.61s/it]\u001b[A\n",
      "Processing Batch 250-260:  30%|█████████████████                                        | 3/10 [00:55<02:08, 18.42s/it]\u001b[A\n",
      "Processing Batch 250-260:  40%|██████████████████████▊                                  | 4/10 [01:13<01:48, 18.13s/it]\u001b[A\n",
      "Processing Batch 250-260:  50%|████████████████████████████▌                            | 5/10 [01:31<01:30, 18.04s/it]\u001b[A\n",
      "Processing Batch 250-260:  60%|██████████████████████████████████▏                      | 6/10 [01:51<01:14, 18.68s/it]\u001b[A\n",
      "Processing Batch 250-260:  70%|███████████████████████████████████████▉                 | 7/10 [02:11<00:57, 19.18s/it]\u001b[A\n",
      "Processing Batch 250-260:  80%|█████████████████████████████████████████████▌           | 8/10 [02:30<00:38, 19.22s/it]\u001b[A\n",
      "Processing Batch 250-260:  90%|███████████████████████████████████████████████████▎     | 9/10 [02:49<00:19, 19.22s/it]\u001b[A\n",
      "Processing Batch 250-260: 100%|████████████████████████████████████████████████████████| 10/10 [03:09<00:00, 18.98s/it]\u001b[A\n"
     ]
    },
    {
     "name": "stdout",
     "output_type": "stream",
     "text": [
      "Batch 250 to 260 processed successfully\n"
     ]
    },
    {
     "name": "stderr",
     "output_type": "stream",
     "text": [
      "\n",
      "Processing Batch 260-270:   0%|                                                                 | 0/10 [00:00<?, ?it/s]\u001b[A\n",
      "Processing Batch 260-270:  10%|█████▋                                                   | 1/10 [00:18<02:50, 18.89s/it]\u001b[A\n",
      "Processing Batch 260-270:  20%|███████████▍                                             | 2/10 [00:37<02:28, 18.56s/it]\u001b[A\n",
      "Processing Batch 260-270:  30%|█████████████████                                        | 3/10 [00:54<02:07, 18.18s/it]\u001b[A\n",
      "Processing Batch 260-270:  40%|██████████████████████▊                                  | 4/10 [01:11<01:46, 17.70s/it]\u001b[A\n",
      "Processing Batch 260-270:  50%|████████████████████████████▌                            | 5/10 [01:31<01:31, 18.29s/it]\u001b[A\n",
      "Processing Batch 260-270:  60%|██████████████████████████████████▏                      | 6/10 [01:53<01:18, 19.54s/it]\u001b[A\n",
      "Processing Batch 260-270:  70%|███████████████████████████████████████▉                 | 7/10 [02:14<01:00, 20.06s/it]\u001b[A\n",
      "Processing Batch 260-270:  80%|█████████████████████████████████████████████▌           | 8/10 [02:34<00:40, 20.23s/it]\u001b[A\n",
      "Processing Batch 260-270:  90%|███████████████████████████████████████████████████▎     | 9/10 [02:52<00:19, 19.39s/it]\u001b[A\n",
      "Processing Batch 260-270: 100%|████████████████████████████████████████████████████████| 10/10 [03:11<00:00, 19.20s/it]\u001b[A\n"
     ]
    },
    {
     "name": "stdout",
     "output_type": "stream",
     "text": [
      "Batch 260 to 270 processed successfully\n"
     ]
    },
    {
     "name": "stderr",
     "output_type": "stream",
     "text": [
      "\n",
      "Processing Batch 270-280:   0%|                                                                 | 0/10 [00:00<?, ?it/s]\u001b[A\n",
      "Processing Batch 270-280:  10%|█████▋                                                   | 1/10 [00:18<02:42, 18.08s/it]\u001b[A\n",
      "Processing Batch 270-280:  20%|███████████▍                                             | 2/10 [00:34<02:17, 17.19s/it]\u001b[A\n",
      "Processing Batch 270-280:  30%|█████████████████                                        | 3/10 [00:52<02:02, 17.47s/it]\u001b[A\n",
      "Processing Batch 270-280:  40%|██████████████████████▊                                  | 4/10 [01:11<01:47, 17.93s/it]\u001b[A\n",
      "Processing Batch 270-280:  50%|████████████████████████████▌                            | 5/10 [01:30<01:31, 18.29s/it]\u001b[A\n",
      "Processing Batch 270-280:  60%|██████████████████████████████████▏                      | 6/10 [01:48<01:13, 18.29s/it]\u001b[A\n",
      "Processing Batch 270-280:  70%|███████████████████████████████████████▉                 | 7/10 [02:06<00:55, 18.39s/it]\u001b[A\n",
      "Processing Batch 270-280:  80%|█████████████████████████████████████████████▌           | 8/10 [02:25<00:37, 18.57s/it]\u001b[A\n",
      "Processing Batch 270-280:  90%|███████████████████████████████████████████████████▎     | 9/10 [02:47<00:19, 19.65s/it]\u001b[A\n",
      "Processing Batch 270-280: 100%|████████████████████████████████████████████████████████| 10/10 [03:06<00:00, 18.69s/it]\u001b[A\n"
     ]
    },
    {
     "name": "stdout",
     "output_type": "stream",
     "text": [
      "Batch 270 to 280 processed successfully\n"
     ]
    },
    {
     "name": "stderr",
     "output_type": "stream",
     "text": [
      "\n",
      "Processing Batch 280-290:   0%|                                                                 | 0/10 [00:00<?, ?it/s]\u001b[A\n",
      "Processing Batch 280-290:  10%|█████▋                                                   | 1/10 [00:17<02:40, 17.87s/it]\u001b[A\n",
      "Processing Batch 280-290:  20%|███████████▍                                             | 2/10 [00:38<02:38, 19.76s/it]\u001b[A\n",
      "Processing Batch 280-290:  30%|█████████████████                                        | 3/10 [00:58<02:18, 19.83s/it]\u001b[A\n",
      "Processing Batch 280-290:  40%|██████████████████████▊                                  | 4/10 [01:16<01:54, 19.03s/it]\u001b[A\n",
      "Processing Batch 280-290:  50%|████████████████████████████▌                            | 5/10 [01:35<01:34, 18.98s/it]\u001b[A\n",
      "Processing Batch 280-290:  60%|██████████████████████████████████▏                      | 6/10 [01:55<01:16, 19.20s/it]\u001b[A\n",
      "Processing Batch 280-290:  70%|███████████████████████████████████████▉                 | 7/10 [02:16<00:59, 19.77s/it]\u001b[A\n",
      "Processing Batch 280-290:  80%|█████████████████████████████████████████████▌           | 8/10 [02:34<00:38, 19.41s/it]\u001b[A\n",
      "Processing Batch 280-290:  90%|███████████████████████████████████████████████████▎     | 9/10 [02:54<00:19, 19.57s/it]\u001b[A\n",
      "Processing Batch 280-290: 100%|████████████████████████████████████████████████████████| 10/10 [03:15<00:00, 19.56s/it]\u001b[A\n"
     ]
    },
    {
     "name": "stdout",
     "output_type": "stream",
     "text": [
      "Batch 280 to 290 processed successfully\n"
     ]
    },
    {
     "name": "stderr",
     "output_type": "stream",
     "text": [
      "\n",
      "Processing Batch 290-300:   0%|                                                                 | 0/10 [00:00<?, ?it/s]\u001b[A\n",
      "Processing Batch 290-300:  10%|█████▋                                                   | 1/10 [00:22<03:20, 22.22s/it]\u001b[A\n",
      "Processing Batch 290-300:  20%|███████████▍                                             | 2/10 [00:43<02:51, 21.49s/it]\u001b[A\n",
      "Processing Batch 290-300:  30%|█████████████████                                        | 3/10 [01:04<02:28, 21.20s/it]\u001b[A\n",
      "Processing Batch 290-300:  40%|██████████████████████▊                                  | 4/10 [01:25<02:06, 21.14s/it]\u001b[A\n",
      "Processing Batch 290-300:  50%|████████████████████████████▌                            | 5/10 [01:43<01:41, 20.33s/it]\u001b[A\n",
      "Processing Batch 290-300:  60%|██████████████████████████████████▏                      | 6/10 [02:02<01:18, 19.65s/it]\u001b[A\n",
      "Processing Batch 290-300:  70%|███████████████████████████████████████▉                 | 7/10 [02:23<01:00, 20.22s/it]\u001b[A\n",
      "Processing Batch 290-300:  80%|█████████████████████████████████████████████▌           | 8/10 [02:45<00:41, 20.59s/it]\u001b[A\n",
      "Processing Batch 290-300:  90%|███████████████████████████████████████████████████▎     | 9/10 [03:05<00:20, 20.66s/it]\u001b[A\n",
      "Processing Batch 290-300: 100%|████████████████████████████████████████████████████████| 10/10 [03:26<00:00, 20.65s/it]\u001b[A\n"
     ]
    },
    {
     "name": "stdout",
     "output_type": "stream",
     "text": [
      "Batch 290 to 300 processed successfully\n"
     ]
    },
    {
     "name": "stderr",
     "output_type": "stream",
     "text": [
      "\n",
      "Processing Batch 300-310:   0%|                                                                 | 0/10 [00:00<?, ?it/s]\u001b[A\n",
      "Processing Batch 300-310:  10%|█████▋                                                   | 1/10 [00:20<03:00, 20.10s/it]\u001b[A\n",
      "Processing Batch 300-310:  20%|███████████▍                                             | 2/10 [00:39<02:39, 19.93s/it]\u001b[A\n",
      "Processing Batch 300-310:  30%|█████████████████                                        | 3/10 [00:59<02:19, 19.98s/it]\u001b[A\n",
      "Processing Batch 300-310:  40%|██████████████████████▊                                  | 4/10 [01:18<01:57, 19.53s/it]\u001b[A\n",
      "Processing Batch 300-310:  50%|████████████████████████████▌                            | 5/10 [01:39<01:40, 20.08s/it]\u001b[A\n",
      "Processing Batch 300-310:  60%|██████████████████████████████████▏                      | 6/10 [01:59<01:19, 19.85s/it]\u001b[A\n",
      "Processing Batch 300-310:  70%|███████████████████████████████████████▉                 | 7/10 [02:20<01:00, 20.19s/it]\u001b[A\n",
      "Processing Batch 300-310:  80%|█████████████████████████████████████████████▌           | 8/10 [02:39<00:40, 20.03s/it]\u001b[A\n",
      "Processing Batch 300-310:  90%|███████████████████████████████████████████████████▎     | 9/10 [03:00<00:20, 20.20s/it]\u001b[A\n",
      "Processing Batch 300-310: 100%|████████████████████████████████████████████████████████| 10/10 [03:18<00:00, 19.85s/it]\u001b[A\n"
     ]
    },
    {
     "name": "stdout",
     "output_type": "stream",
     "text": [
      "Batch 300 to 310 processed successfully\n"
     ]
    },
    {
     "name": "stderr",
     "output_type": "stream",
     "text": [
      "\n",
      "Processing Batch 310-320:   0%|                                                                 | 0/10 [00:00<?, ?it/s]\u001b[A\n",
      "Processing Batch 310-320:  10%|█████▋                                                   | 1/10 [00:18<02:46, 18.54s/it]\u001b[A\n",
      "Processing Batch 310-320:  20%|███████████▍                                             | 2/10 [00:37<02:28, 18.60s/it]\u001b[A\n",
      "Processing Batch 310-320:  30%|█████████████████                                        | 3/10 [00:58<02:18, 19.80s/it]\u001b[A\n",
      "Processing Batch 310-320:  40%|██████████████████████▊                                  | 4/10 [01:16<01:54, 19.11s/it]\u001b[A\n",
      "Processing Batch 310-320:  50%|████████████████████████████▌                            | 5/10 [01:33<01:32, 18.42s/it]\u001b[A\n",
      "Processing Batch 310-320:  60%|██████████████████████████████████▏                      | 6/10 [01:53<01:15, 18.93s/it]\u001b[A\n",
      "Processing Batch 310-320:  70%|███████████████████████████████████████▉                 | 7/10 [02:11<00:56, 18.69s/it]\u001b[A\n",
      "Processing Batch 310-320:  80%|█████████████████████████████████████████████▌           | 8/10 [02:31<00:37, 18.89s/it]\u001b[A\n",
      "Processing Batch 310-320:  90%|███████████████████████████████████████████████████▎     | 9/10 [02:49<00:18, 18.75s/it]\u001b[A\n",
      "Processing Batch 310-320: 100%|████████████████████████████████████████████████████████| 10/10 [03:07<00:00, 18.74s/it]\u001b[A\n"
     ]
    },
    {
     "name": "stdout",
     "output_type": "stream",
     "text": [
      "Batch 310 to 320 processed successfully\n"
     ]
    },
    {
     "name": "stderr",
     "output_type": "stream",
     "text": [
      "\n",
      "Processing Batch 320-330:   0%|                                                                 | 0/10 [00:00<?, ?it/s]\u001b[A\n",
      "Processing Batch 320-330:  10%|█████▋                                                   | 1/10 [00:18<02:47, 18.58s/it]\u001b[A\n",
      "Processing Batch 320-330:  20%|███████████▍                                             | 2/10 [00:37<02:28, 18.52s/it]\u001b[A\n",
      "Processing Batch 320-330:  30%|█████████████████                                        | 3/10 [00:54<02:05, 17.99s/it]\u001b[A\n",
      "Processing Batch 320-330:  40%|██████████████████████▊                                  | 4/10 [01:12<01:47, 17.98s/it]\u001b[A\n",
      "Processing Batch 320-330:  50%|████████████████████████████▌                            | 5/10 [01:31<01:32, 18.55s/it]\u001b[A\n",
      "Processing Batch 320-330:  60%|██████████████████████████████████▏                      | 6/10 [01:51<01:14, 18.73s/it]\u001b[A\n",
      "Processing Batch 320-330:  70%|███████████████████████████████████████▉                 | 7/10 [02:08<00:54, 18.18s/it]\u001b[A\n",
      "Processing Batch 320-330:  80%|█████████████████████████████████████████████▌           | 8/10 [02:25<00:35, 17.92s/it]\u001b[A\n",
      "Processing Batch 320-330:  90%|███████████████████████████████████████████████████▎     | 9/10 [02:45<00:18, 18.44s/it]\u001b[A\n",
      "Processing Batch 320-330: 100%|████████████████████████████████████████████████████████| 10/10 [03:01<00:00, 18.18s/it]\u001b[A\n"
     ]
    },
    {
     "name": "stdout",
     "output_type": "stream",
     "text": [
      "Batch 320 to 330 processed successfully\n"
     ]
    },
    {
     "name": "stderr",
     "output_type": "stream",
     "text": [
      "\n",
      "Processing Batch 330-340:   0%|                                                                 | 0/10 [00:00<?, ?it/s]\u001b[A\n",
      "Processing Batch 330-340:  10%|█████▋                                                   | 1/10 [00:17<02:35, 17.33s/it]\u001b[A\n",
      "Processing Batch 330-340:  20%|███████████▍                                             | 2/10 [00:33<02:13, 16.69s/it]\u001b[A\n",
      "Processing Batch 330-340:  30%|█████████████████                                        | 3/10 [00:51<01:59, 17.12s/it]\u001b[A\n",
      "Processing Batch 330-340:  40%|██████████████████████▊                                  | 4/10 [01:08<01:42, 17.06s/it]\u001b[A\n",
      "Processing Batch 330-340:  50%|████████████████████████████▌                            | 5/10 [01:26<01:27, 17.50s/it]\u001b[A\n",
      "Processing Batch 330-340:  60%|██████████████████████████████████▏                      | 6/10 [01:46<01:13, 18.39s/it]\u001b[A\n",
      "Processing Batch 330-340:  70%|███████████████████████████████████████▉                 | 7/10 [02:05<00:56, 18.73s/it]\u001b[A\n",
      "Processing Batch 330-340:  80%|█████████████████████████████████████████████▌           | 8/10 [02:24<00:37, 18.59s/it]\u001b[A\n",
      "Processing Batch 330-340:  90%|███████████████████████████████████████████████████▎     | 9/10 [02:43<00:18, 18.70s/it]\u001b[A\n",
      "Processing Batch 330-340: 100%|████████████████████████████████████████████████████████| 10/10 [03:03<00:00, 18.39s/it]\u001b[A\n"
     ]
    },
    {
     "name": "stdout",
     "output_type": "stream",
     "text": [
      "Batch 330 to 340 processed successfully\n"
     ]
    },
    {
     "name": "stderr",
     "output_type": "stream",
     "text": [
      "\n",
      "Processing Batch 340-350:   0%|                                                                 | 0/10 [00:00<?, ?it/s]\u001b[A\n",
      "Processing Batch 340-350:  10%|█████▋                                                   | 1/10 [00:19<02:52, 19.13s/it]\u001b[A\n",
      "Processing Batch 340-350:  20%|███████████▍                                             | 2/10 [00:39<02:36, 19.62s/it]\u001b[A\n",
      "Processing Batch 340-350:  30%|█████████████████                                        | 3/10 [00:57<02:14, 19.17s/it]\u001b[ATraceback (most recent call last):\n",
      "  File \"C:\\Users\\Gregor Debus\\AppData\\Local\\Programs\\Python\\Python311\\Lib\\site-packages\\hugchat\\hugchat.py\", line 686, in _stream_query\n",
      "    obj = json.loads(res)\n",
      "          ^^^^^^^^^^^^^^^\n",
      "  File \"C:\\Users\\Gregor Debus\\AppData\\Local\\Programs\\Python\\Python311\\Lib\\json\\__init__.py\", line 346, in loads\n",
      "    return _default_decoder.decode(s)\n",
      "           ^^^^^^^^^^^^^^^^^^^^^^^^^^\n",
      "  File \"C:\\Users\\Gregor Debus\\AppData\\Local\\Programs\\Python\\Python311\\Lib\\json\\decoder.py\", line 337, in decode\n",
      "    obj, end = self.raw_decode(s, idx=_w(s, 0).end())\n",
      "               ^^^^^^^^^^^^^^^^^^^^^^^^^^^^^^^^^^^^^^\n",
      "  File \"C:\\Users\\Gregor Debus\\AppData\\Local\\Programs\\Python\\Python311\\Lib\\json\\decoder.py\", line 355, in raw_decode\n",
      "    raise JSONDecodeError(\"Expecting value\", s, err.value) from None\n",
      "json.decoder.JSONDecodeError: Expecting value: line 1 column 1 (char 0)\n"
     ]
    },
    {
     "name": "stdout",
     "output_type": "stream",
     "text": [
      "Error processing batch 340 to 350: Failed to parse response: <!DOCTYPE html>\n"
     ]
    },
    {
     "name": "stderr",
     "output_type": "stream",
     "text": [
      "\n",
      "\n",
      "Processing Batch 0-10:   0%|                                                                    | 0/10 [00:00<?, ?it/s]\u001b[A\u001b[A\n",
      "\n",
      "Processing Batch 0-10:  10%|██████                                                      | 1/10 [00:18<02:50, 18.96s/it]\u001b[A\u001b[A\n",
      "\n",
      "Processing Batch 0-10:  20%|████████████                                                | 2/10 [00:37<02:27, 18.46s/it]\u001b[A\u001b[A\n",
      "\n",
      "Processing Batch 0-10:  30%|██████████████████                                          | 3/10 [00:55<02:10, 18.63s/it]\u001b[A\u001b[A\n",
      "\n",
      "Processing Batch 0-10:  40%|████████████████████████                                    | 4/10 [01:13<01:49, 18.27s/it]\u001b[A\u001b[A\n",
      "\n",
      "Processing Batch 0-10:  50%|██████████████████████████████                              | 5/10 [01:32<01:33, 18.64s/it]\u001b[A\u001b[A"
     ]
    }
   ],
   "source": [
    "# Specify the output CSV file path\n",
    "output_csv = \"youtube_shorts_with_chatbot_summary_gdebus.csv\"\n",
    "\n",
    "# Process the DataFrame in batches of 20 and write to the CSV file\n",
    "process_in_batches(df_shorts, 10, output_csv)"
   ]
  },
  {
   "cell_type": "code",
   "execution_count": 21,
   "metadata": {},
   "outputs": [
    {
     "data": {
      "text/html": [
       "<div>\n",
       "<style scoped>\n",
       "    .dataframe tbody tr th:only-of-type {\n",
       "        vertical-align: middle;\n",
       "    }\n",
       "\n",
       "    .dataframe tbody tr th {\n",
       "        vertical-align: top;\n",
       "    }\n",
       "\n",
       "    .dataframe thead th {\n",
       "        text-align: right;\n",
       "    }\n",
       "</style>\n",
       "<table border=\"1\" class=\"dataframe\">\n",
       "  <thead>\n",
       "    <tr style=\"text-align: right;\">\n",
       "      <th></th>\n",
       "      <th>Video ID</th>\n",
       "      <th>Video Title</th>\n",
       "      <th>Channel Title</th>\n",
       "      <th>Transcript</th>\n",
       "      <th>Duration</th>\n",
       "      <th>Words per Second</th>\n",
       "      <th>Top10 Comments</th>\n",
       "      <th>Category</th>\n",
       "      <th>Custom Query</th>\n",
       "      <th>LLM Summary</th>\n",
       "    </tr>\n",
       "  </thead>\n",
       "  <tbody>\n",
       "    <tr>\n",
       "      <th>0</th>\n",
       "      <td>l9_8_pDTmis</td>\n",
       "      <td>b'Furthest Away From Me Wins $10,000'</td>\n",
       "      <td>MrBeast</td>\n",
       "      <td>whichever one of these three people can get th...</td>\n",
       "      <td>96.840</td>\n",
       "      <td>1.579926</td>\n",
       "      <td>['Bro the guy at Disneyland was super smart, s...</td>\n",
       "      <td>Entertainment</td>\n",
       "      <td>You are a copywriter, create a 100 word summar...</td>\n",
       "      <td>In this YouTube short, MrBeast challenges thr...</td>\n",
       "    </tr>\n",
       "    <tr>\n",
       "      <th>1</th>\n",
       "      <td>QYEfTly0pTE</td>\n",
       "      <td>b'We lost contact with ATC over the ocean! #av...</td>\n",
       "      <td>Fly Me to the Fun™</td>\n",
       "      <td>this year we flew our Cessna 150 1800 miles fr...</td>\n",
       "      <td>110.080</td>\n",
       "      <td>1.435320</td>\n",
       "      <td>['Nice! &lt;br&gt;&lt;br&gt;It’s always nice when the big ...</td>\n",
       "      <td>Travel &amp; Events</td>\n",
       "      <td>You are a copywriter, create a 100 word summar...</td>\n",
       "      <td>This YouTube short is about a flight from Atl...</td>\n",
       "    </tr>\n",
       "    <tr>\n",
       "      <th>2</th>\n",
       "      <td>jYJTPqU66IY</td>\n",
       "      <td>b'How to renovate your private jet'</td>\n",
       "      <td>TheJetBusiness</td>\n",
       "      <td>I was going to say like what's a turnaround ti...</td>\n",
       "      <td>118.280</td>\n",
       "      <td>2.054447</td>\n",
       "      <td>['You know it’s a huge number when that was th...</td>\n",
       "      <td>Travel &amp; Events</td>\n",
       "      <td>You are a copywriter, create a 100 word summar...</td>\n",
       "      <td>Sure, here's a 100-word summary of the video ...</td>\n",
       "    </tr>\n",
       "    <tr>\n",
       "      <th>3</th>\n",
       "      <td>dBsomKKHhtk</td>\n",
       "      <td>b'When you finally meet the \"work wife\"'</td>\n",
       "      <td>Viva La Dirt League</td>\n",
       "      <td>oh it's my w wife oh the the infamous W wife h...</td>\n",
       "      <td>120.879</td>\n",
       "      <td>1.886184</td>\n",
       "      <td>['Dude went from not realising he&amp;#39;s marrie...</td>\n",
       "      <td>Gaming</td>\n",
       "      <td>You are a copywriter, create a 100 word summar...</td>\n",
       "      <td>In this YouTube short, a man introduces his c...</td>\n",
       "    </tr>\n",
       "    <tr>\n",
       "      <th>4</th>\n",
       "      <td>dTLYweJ08Tg</td>\n",
       "      <td>b'Courtside Kicks CASHES OUT on WHOLE TABLE of...</td>\n",
       "      <td>Courtside Kicks</td>\n",
       "      <td>yo what's good bro so you have a ton of dunks ...</td>\n",
       "      <td>59.679</td>\n",
       "      <td>1.524824</td>\n",
       "      <td>['After the video here is $20 for playing alon...</td>\n",
       "      <td>Entertainment</td>\n",
       "      <td>You are a copywriter, create a 100 word summar...</td>\n",
       "      <td>This YouTube short features a person interest...</td>\n",
       "    </tr>\n",
       "  </tbody>\n",
       "</table>\n",
       "</div>"
      ],
      "text/plain": [
       "      Video ID                                        Video Title  \\\n",
       "0  l9_8_pDTmis              b'Furthest Away From Me Wins $10,000'   \n",
       "1  QYEfTly0pTE  b'We lost contact with ATC over the ocean! #av...   \n",
       "2  jYJTPqU66IY                b'How to renovate your private jet'   \n",
       "3  dBsomKKHhtk           b'When you finally meet the \"work wife\"'   \n",
       "4  dTLYweJ08Tg  b'Courtside Kicks CASHES OUT on WHOLE TABLE of...   \n",
       "\n",
       "         Channel Title                                         Transcript  \\\n",
       "0              MrBeast  whichever one of these three people can get th...   \n",
       "1   Fly Me to the Fun™  this year we flew our Cessna 150 1800 miles fr...   \n",
       "2       TheJetBusiness  I was going to say like what's a turnaround ti...   \n",
       "3  Viva La Dirt League  oh it's my w wife oh the the infamous W wife h...   \n",
       "4      Courtside Kicks  yo what's good bro so you have a ton of dunks ...   \n",
       "\n",
       "   Duration  Words per Second  \\\n",
       "0    96.840          1.579926   \n",
       "1   110.080          1.435320   \n",
       "2   118.280          2.054447   \n",
       "3   120.879          1.886184   \n",
       "4    59.679          1.524824   \n",
       "\n",
       "                                      Top10 Comments         Category  \\\n",
       "0  ['Bro the guy at Disneyland was super smart, s...    Entertainment   \n",
       "1  ['Nice! <br><br>It’s always nice when the big ...  Travel & Events   \n",
       "2  ['You know it’s a huge number when that was th...  Travel & Events   \n",
       "3  ['Dude went from not realising he&#39;s marrie...           Gaming   \n",
       "4  ['After the video here is $20 for playing alon...    Entertainment   \n",
       "\n",
       "                                        Custom Query  \\\n",
       "0  You are a copywriter, create a 100 word summar...   \n",
       "1  You are a copywriter, create a 100 word summar...   \n",
       "2  You are a copywriter, create a 100 word summar...   \n",
       "3  You are a copywriter, create a 100 word summar...   \n",
       "4  You are a copywriter, create a 100 word summar...   \n",
       "\n",
       "                                         LLM Summary  \n",
       "0   In this YouTube short, MrBeast challenges thr...  \n",
       "1   This YouTube short is about a flight from Atl...  \n",
       "2   Sure, here's a 100-word summary of the video ...  \n",
       "3   In this YouTube short, a man introduces his c...  \n",
       "4   This YouTube short features a person interest...  "
      ]
     },
     "execution_count": 21,
     "metadata": {},
     "output_type": "execute_result"
    }
   ],
   "source": [
    "df_shorts.head()"
   ]
  },
  {
   "cell_type": "markdown",
   "metadata": {},
   "source": [
    "### Clean LLM Summaries \n",
    "\n",
    "This doesn't work 100% of the answers, since the answer varies a lot. I haven't found a pattern that is 100% reliable, but i would say this is \"good enough\""
   ]
  },
  {
   "cell_type": "code",
   "execution_count": 22,
   "metadata": {},
   "outputs": [],
   "source": [
    "import re\n",
    "\n",
    "def clean_chatbot_response(text):\n",
    "    # Regex pattern that accounts for variable spacing, punctuation, and case\n",
    "    pattern = r\"Sure[,!]? here'?s? (is |a |the )?100-word summary of .+:\"\n",
    "    # Replace the matched pattern with an empty string, ignoring case\n",
    "    cleaned_text = re.sub(pattern, '', text, flags=re.IGNORECASE).strip()\n",
    "    return cleaned_text"
   ]
  },
  {
   "cell_type": "code",
   "execution_count": 23,
   "metadata": {},
   "outputs": [
    {
     "name": "stderr",
     "output_type": "stream",
     "text": [
      "100%|██████████| 20/20 [00:00<00:00, 19911.25it/s]\n"
     ]
    }
   ],
   "source": [
    "df_shorts['LLM Summary'] = df_shorts['LLM Summary'].progress_apply(clean_chatbot_response)"
   ]
  },
  {
   "cell_type": "code",
   "execution_count": 24,
   "metadata": {},
   "outputs": [
    {
     "data": {
      "text/html": [
       "<div>\n",
       "<style scoped>\n",
       "    .dataframe tbody tr th:only-of-type {\n",
       "        vertical-align: middle;\n",
       "    }\n",
       "\n",
       "    .dataframe tbody tr th {\n",
       "        vertical-align: top;\n",
       "    }\n",
       "\n",
       "    .dataframe thead th {\n",
       "        text-align: right;\n",
       "    }\n",
       "</style>\n",
       "<table border=\"1\" class=\"dataframe\">\n",
       "  <thead>\n",
       "    <tr style=\"text-align: right;\">\n",
       "      <th></th>\n",
       "      <th>Video ID</th>\n",
       "      <th>Video Title</th>\n",
       "      <th>Channel Title</th>\n",
       "      <th>Transcript</th>\n",
       "      <th>Duration</th>\n",
       "      <th>Words per Second</th>\n",
       "      <th>Top10 Comments</th>\n",
       "      <th>Category</th>\n",
       "      <th>Custom Query</th>\n",
       "      <th>LLM Summary</th>\n",
       "    </tr>\n",
       "  </thead>\n",
       "  <tbody>\n",
       "    <tr>\n",
       "      <th>0</th>\n",
       "      <td>l9_8_pDTmis</td>\n",
       "      <td>b'Furthest Away From Me Wins $10,000'</td>\n",
       "      <td>MrBeast</td>\n",
       "      <td>whichever one of these three people can get th...</td>\n",
       "      <td>96.840</td>\n",
       "      <td>1.579926</td>\n",
       "      <td>['Bro the guy at Disneyland was super smart, s...</td>\n",
       "      <td>Entertainment</td>\n",
       "      <td>You are a copywriter, create a 100 word summar...</td>\n",
       "      <td>In this YouTube short, MrBeast challenges thre...</td>\n",
       "    </tr>\n",
       "    <tr>\n",
       "      <th>1</th>\n",
       "      <td>QYEfTly0pTE</td>\n",
       "      <td>b'We lost contact with ATC over the ocean! #av...</td>\n",
       "      <td>Fly Me to the Fun™</td>\n",
       "      <td>this year we flew our Cessna 150 1800 miles fr...</td>\n",
       "      <td>110.080</td>\n",
       "      <td>1.435320</td>\n",
       "      <td>['Nice! &lt;br&gt;&lt;br&gt;It’s always nice when the big ...</td>\n",
       "      <td>Travel &amp; Events</td>\n",
       "      <td>You are a copywriter, create a 100 word summar...</td>\n",
       "      <td>This YouTube short is about a flight from Atla...</td>\n",
       "    </tr>\n",
       "    <tr>\n",
       "      <th>2</th>\n",
       "      <td>jYJTPqU66IY</td>\n",
       "      <td>b'How to renovate your private jet'</td>\n",
       "      <td>TheJetBusiness</td>\n",
       "      <td>I was going to say like what's a turnaround ti...</td>\n",
       "      <td>118.280</td>\n",
       "      <td>2.054447</td>\n",
       "      <td>['You know it’s a huge number when that was th...</td>\n",
       "      <td>Travel &amp; Events</td>\n",
       "      <td>You are a copywriter, create a 100 word summar...</td>\n",
       "      <td>In this video, a salesperson discusses the pro...</td>\n",
       "    </tr>\n",
       "    <tr>\n",
       "      <th>3</th>\n",
       "      <td>dBsomKKHhtk</td>\n",
       "      <td>b'When you finally meet the \"work wife\"'</td>\n",
       "      <td>Viva La Dirt League</td>\n",
       "      <td>oh it's my w wife oh the the infamous W wife h...</td>\n",
       "      <td>120.879</td>\n",
       "      <td>1.886184</td>\n",
       "      <td>['Dude went from not realising he&amp;#39;s marrie...</td>\n",
       "      <td>Gaming</td>\n",
       "      <td>You are a copywriter, create a 100 word summar...</td>\n",
       "      <td>In this YouTube short, a man introduces his co...</td>\n",
       "    </tr>\n",
       "    <tr>\n",
       "      <th>4</th>\n",
       "      <td>dTLYweJ08Tg</td>\n",
       "      <td>b'Courtside Kicks CASHES OUT on WHOLE TABLE of...</td>\n",
       "      <td>Courtside Kicks</td>\n",
       "      <td>yo what's good bro so you have a ton of dunks ...</td>\n",
       "      <td>59.679</td>\n",
       "      <td>1.524824</td>\n",
       "      <td>['After the video here is $20 for playing alon...</td>\n",
       "      <td>Entertainment</td>\n",
       "      <td>You are a copywriter, create a 100 word summar...</td>\n",
       "      <td>This YouTube short features a person intereste...</td>\n",
       "    </tr>\n",
       "  </tbody>\n",
       "</table>\n",
       "</div>"
      ],
      "text/plain": [
       "      Video ID                                        Video Title  \\\n",
       "0  l9_8_pDTmis              b'Furthest Away From Me Wins $10,000'   \n",
       "1  QYEfTly0pTE  b'We lost contact with ATC over the ocean! #av...   \n",
       "2  jYJTPqU66IY                b'How to renovate your private jet'   \n",
       "3  dBsomKKHhtk           b'When you finally meet the \"work wife\"'   \n",
       "4  dTLYweJ08Tg  b'Courtside Kicks CASHES OUT on WHOLE TABLE of...   \n",
       "\n",
       "         Channel Title                                         Transcript  \\\n",
       "0              MrBeast  whichever one of these three people can get th...   \n",
       "1   Fly Me to the Fun™  this year we flew our Cessna 150 1800 miles fr...   \n",
       "2       TheJetBusiness  I was going to say like what's a turnaround ti...   \n",
       "3  Viva La Dirt League  oh it's my w wife oh the the infamous W wife h...   \n",
       "4      Courtside Kicks  yo what's good bro so you have a ton of dunks ...   \n",
       "\n",
       "   Duration  Words per Second  \\\n",
       "0    96.840          1.579926   \n",
       "1   110.080          1.435320   \n",
       "2   118.280          2.054447   \n",
       "3   120.879          1.886184   \n",
       "4    59.679          1.524824   \n",
       "\n",
       "                                      Top10 Comments         Category  \\\n",
       "0  ['Bro the guy at Disneyland was super smart, s...    Entertainment   \n",
       "1  ['Nice! <br><br>It’s always nice when the big ...  Travel & Events   \n",
       "2  ['You know it’s a huge number when that was th...  Travel & Events   \n",
       "3  ['Dude went from not realising he&#39;s marrie...           Gaming   \n",
       "4  ['After the video here is $20 for playing alon...    Entertainment   \n",
       "\n",
       "                                        Custom Query  \\\n",
       "0  You are a copywriter, create a 100 word summar...   \n",
       "1  You are a copywriter, create a 100 word summar...   \n",
       "2  You are a copywriter, create a 100 word summar...   \n",
       "3  You are a copywriter, create a 100 word summar...   \n",
       "4  You are a copywriter, create a 100 word summar...   \n",
       "\n",
       "                                         LLM Summary  \n",
       "0  In this YouTube short, MrBeast challenges thre...  \n",
       "1  This YouTube short is about a flight from Atla...  \n",
       "2  In this video, a salesperson discusses the pro...  \n",
       "3  In this YouTube short, a man introduces his co...  \n",
       "4  This YouTube short features a person intereste...  "
      ]
     },
     "execution_count": 24,
     "metadata": {},
     "output_type": "execute_result"
    }
   ],
   "source": [
    "df_shorts.head()"
   ]
  },
  {
   "cell_type": "code",
   "execution_count": 2,
   "metadata": {},
   "outputs": [],
   "source": [
    "df_shorts_curr = pd.read_csv(\"youtube_shorts_with_chatbot_summary.csv\")\n",
    "df_shorts_curr.concat(df_shorts).to_csv(\"youtube_shorts_with_chatbot_summary.csv\", index=False)"
   ]
  },
  {
   "cell_type": "code",
   "execution_count": null,
   "metadata": {},
   "outputs": [],
   "source": []
  }
 ],
 "metadata": {
  "kernelspec": {
   "display_name": "Python 3 (ipykernel)",
   "language": "python",
   "name": "python3"
  },
  "language_info": {
   "codemirror_mode": {
    "name": "ipython",
    "version": 3
   },
   "file_extension": ".py",
   "mimetype": "text/x-python",
   "name": "python",
   "nbconvert_exporter": "python",
   "pygments_lexer": "ipython3",
   "version": "3.11.5"
  }
 },
 "nbformat": 4,
 "nbformat_minor": 4
}

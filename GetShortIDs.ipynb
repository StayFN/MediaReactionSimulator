{
 "cells": [
  {
   "cell_type": "code",
   "execution_count": 2,
   "metadata": {},
   "outputs": [],
   "source": [
    "from googleapiclient.discovery import build\n",
    "import json\n",
    "\n",
    "# Load the secrets from the JSON file\n",
    "with open('client_secrets.json', 'r') as file:\n",
    "    secrets = json.load(file)\n",
    "\n",
    "# Set up the API key and YouTube API client\n",
    "api_key = secrets['api_key']  \n",
    "youtube = build('youtube', 'v3', developerKey=api_key)"
   ]
  },
  {
   "cell_type": "code",
   "execution_count": 3,
   "metadata": {},
   "outputs": [],
   "source": [
    "import pandas as pd\n",
    "\n",
    "def get_video_ids(query, max_results=50):\n",
    "    video_ids = []\n",
    "    next_page_token = None\n",
    "\n",
    "    # Add a keyword to the query to search specifically for Shorts\n",
    "    modified_query = query + \" #shorts\"\n",
    "\n",
    "    while len(video_ids) < max_results:\n",
    "        # Fetch search results\n",
    "        request = youtube.search().list(\n",
    "            part=\"id\",\n",
    "            q=modified_query,\n",
    "            type=\"video\",\n",
    "            maxResults=50,  # Adjust as needed (max 50 per request)\n",
    "            pageToken=next_page_token\n",
    "        )\n",
    "        response = request.execute()\n",
    "\n",
    "        # Extract video IDs\n",
    "        for item in response.get('items', []):\n",
    "            video_ids.append(item['id']['videoId'])\n",
    "            if len(video_ids) >= max_results:\n",
    "                break\n",
    "\n",
    "        next_page_token = response.get('nextPageToken')\n",
    "        if not next_page_token:\n",
    "            break\n",
    "\n",
    "    # Create a DataFrame\n",
    "    df = pd.DataFrame({'Query': [query], 'Video_IDs': [video_ids]})\n",
    "    return df\n"
   ]
  },
  {
   "cell_type": "markdown",
   "metadata": {},
   "source": [
    "#### Use for Single Keyword"
   ]
  },
  {
   "cell_type": "code",
   "execution_count": 28,
   "metadata": {},
   "outputs": [],
   "source": [
    "# Example use\n",
    "#video_ids = get_video_ids(\"car\")  # Replace with your desired search query and optional max results (standard is 50)\n",
    "#print(video_ids)"
   ]
  },
  {
   "cell_type": "markdown",
   "metadata": {},
   "source": [
    "#### Read CSV of search Terms\n",
    "\n",
    "##### Keep in mind to exclude the ones we already have\n",
    "\n",
    "Example Query for GPT: *Provide 50 different Search Terms for obtaining Youtube Shorts via an Python Script that uses youtube search API. Make sure to cover a diverse list of topics and exclude {Terms already in the video_ids.csv} Output a csv* "
   ]
  },
  {
   "cell_type": "code",
   "execution_count": 9,
   "metadata": {},
   "outputs": [],
   "source": [
    "search_terms_df = pd.read_csv('youtube_shorts_search_terms.csv')\n",
    "combined_results_df = pd.DataFrame()"
   ]
  },
  {
   "cell_type": "markdown",
   "metadata": {},
   "source": [
    "##### Loop over the Search Terms and get Video IDs for every Term"
   ]
  },
  {
   "cell_type": "code",
   "execution_count": 10,
   "metadata": {},
   "outputs": [
    {
     "name": "stderr",
     "output_type": "stream",
     "text": [
      "Processing Search Terms: 100%|██████████| 40/40 [00:12<00:00,  3.09it/s]\n"
     ]
    }
   ],
   "source": [
    "from tqdm import tqdm\n",
    "\n",
    "for search_term in tqdm(search_terms_df['Search Terms'], desc=\"Processing Search Terms\"):\n",
    "    result_df = get_video_ids(search_term)\n",
    "    \n",
    "    # Combine the result with the combined DataFrame\n",
    "    combined_results_df = pd.concat([combined_results_df, result_df], ignore_index=True)"
   ]
  },
  {
   "cell_type": "code",
   "execution_count": 11,
   "metadata": {},
   "outputs": [
    {
     "data": {
      "text/html": [
       "<div>\n",
       "<style scoped>\n",
       "    .dataframe tbody tr th:only-of-type {\n",
       "        vertical-align: middle;\n",
       "    }\n",
       "\n",
       "    .dataframe tbody tr th {\n",
       "        vertical-align: top;\n",
       "    }\n",
       "\n",
       "    .dataframe thead th {\n",
       "        text-align: right;\n",
       "    }\n",
       "</style>\n",
       "<table border=\"1\" class=\"dataframe\">\n",
       "  <thead>\n",
       "    <tr style=\"text-align: right;\">\n",
       "      <th></th>\n",
       "      <th>Query</th>\n",
       "      <th>Video_IDs</th>\n",
       "    </tr>\n",
       "  </thead>\n",
       "  <tbody>\n",
       "    <tr>\n",
       "      <th>0</th>\n",
       "      <td>Quick Recipe</td>\n",
       "      <td>[9-8LUW5tqBg, WobUAaSEiB0, hRZHgR8cU3k, d2jlcF...</td>\n",
       "    </tr>\n",
       "    <tr>\n",
       "      <th>1</th>\n",
       "      <td>Fitness Tips</td>\n",
       "      <td>[_YjNSC7Lq00, 5rdn9C9cnlE, Kj00H4-5b2E, JV1ZY4...</td>\n",
       "    </tr>\n",
       "    <tr>\n",
       "      <th>2</th>\n",
       "      <td>DIY Crafts</td>\n",
       "      <td>[sBYiuaBCSkA, 9GDsH1EdQqw, dvHMHCRGudM, oOzxMQ...</td>\n",
       "    </tr>\n",
       "    <tr>\n",
       "      <th>3</th>\n",
       "      <td>Travel Guide</td>\n",
       "      <td>[EIRSomyJHyo, i91Sg2YbYY8, g8YVCUB5klI, e9O4yK...</td>\n",
       "    </tr>\n",
       "    <tr>\n",
       "      <th>4</th>\n",
       "      <td>Fashion Haul</td>\n",
       "      <td>[PC7OGIiI5u4, lMDrA8v8m3s, 5NO3_uOeb1I, L1zBjS...</td>\n",
       "    </tr>\n",
       "  </tbody>\n",
       "</table>\n",
       "</div>"
      ],
      "text/plain": [
       "          Query                                          Video_IDs\n",
       "0  Quick Recipe  [9-8LUW5tqBg, WobUAaSEiB0, hRZHgR8cU3k, d2jlcF...\n",
       "1  Fitness Tips  [_YjNSC7Lq00, 5rdn9C9cnlE, Kj00H4-5b2E, JV1ZY4...\n",
       "2    DIY Crafts  [sBYiuaBCSkA, 9GDsH1EdQqw, dvHMHCRGudM, oOzxMQ...\n",
       "3  Travel Guide  [EIRSomyJHyo, i91Sg2YbYY8, g8YVCUB5klI, e9O4yK...\n",
       "4  Fashion Haul  [PC7OGIiI5u4, lMDrA8v8m3s, 5NO3_uOeb1I, L1zBjS..."
      ]
     },
     "execution_count": 11,
     "metadata": {},
     "output_type": "execute_result"
    }
   ],
   "source": [
    "combined_results_df.head()"
   ]
  },
  {
   "cell_type": "markdown",
   "metadata": {},
   "source": [
    "##### Merge with Existing Video IDs to keep track of which Search Terms we already obtained "
   ]
  },
  {
   "cell_type": "code",
   "execution_count": 12,
   "metadata": {},
   "outputs": [
    {
     "data": {
      "text/html": [
       "<div>\n",
       "<style scoped>\n",
       "    .dataframe tbody tr th:only-of-type {\n",
       "        vertical-align: middle;\n",
       "    }\n",
       "\n",
       "    .dataframe tbody tr th {\n",
       "        vertical-align: top;\n",
       "    }\n",
       "\n",
       "    .dataframe thead th {\n",
       "        text-align: right;\n",
       "    }\n",
       "</style>\n",
       "<table border=\"1\" class=\"dataframe\">\n",
       "  <thead>\n",
       "    <tr style=\"text-align: right;\">\n",
       "      <th></th>\n",
       "      <th>Query</th>\n",
       "      <th>Video_IDs</th>\n",
       "    </tr>\n",
       "  </thead>\n",
       "  <tbody>\n",
       "    <tr>\n",
       "      <th>0</th>\n",
       "      <td>funny</td>\n",
       "      <td>['P_1-Cpo1P0A', 'FRdgTgKxnx4', '7dUY12c4Xwo', ...</td>\n",
       "    </tr>\n",
       "    <tr>\n",
       "      <th>1</th>\n",
       "      <td>car</td>\n",
       "      <td>['5PH0jXruu5E', 'HVhF_ty_ZT0', '6tZn6Jgha3w', ...</td>\n",
       "    </tr>\n",
       "    <tr>\n",
       "      <th>2</th>\n",
       "      <td>Quick Recipe</td>\n",
       "      <td>[9-8LUW5tqBg, WobUAaSEiB0, hRZHgR8cU3k, d2jlcF...</td>\n",
       "    </tr>\n",
       "    <tr>\n",
       "      <th>3</th>\n",
       "      <td>Fitness Tips</td>\n",
       "      <td>[_YjNSC7Lq00, 5rdn9C9cnlE, Kj00H4-5b2E, JV1ZY4...</td>\n",
       "    </tr>\n",
       "    <tr>\n",
       "      <th>4</th>\n",
       "      <td>DIY Crafts</td>\n",
       "      <td>[sBYiuaBCSkA, 9GDsH1EdQqw, dvHMHCRGudM, oOzxMQ...</td>\n",
       "    </tr>\n",
       "  </tbody>\n",
       "</table>\n",
       "</div>"
      ],
      "text/plain": [
       "          Query                                          Video_IDs\n",
       "0         funny  ['P_1-Cpo1P0A', 'FRdgTgKxnx4', '7dUY12c4Xwo', ...\n",
       "1           car  ['5PH0jXruu5E', 'HVhF_ty_ZT0', '6tZn6Jgha3w', ...\n",
       "2  Quick Recipe  [9-8LUW5tqBg, WobUAaSEiB0, hRZHgR8cU3k, d2jlcF...\n",
       "3  Fitness Tips  [_YjNSC7Lq00, 5rdn9C9cnlE, Kj00H4-5b2E, JV1ZY4...\n",
       "4    DIY Crafts  [sBYiuaBCSkA, 9GDsH1EdQqw, dvHMHCRGudM, oOzxMQ..."
      ]
     },
     "execution_count": 12,
     "metadata": {},
     "output_type": "execute_result"
    }
   ],
   "source": [
    "curr_video_ids = pd.read_csv('used_search_queries.csv')\n",
    "df_merged = pd.concat([curr_video_ids, combined_results_df], ignore_index=True)\n",
    "df_merged.head()"
   ]
  },
  {
   "cell_type": "code",
   "execution_count": 13,
   "metadata": {},
   "outputs": [],
   "source": [
    "df_merged.to_csv('used_search_queries.csv', index=False)  # Save to CSV file"
   ]
  },
  {
   "cell_type": "markdown",
   "metadata": {},
   "source": [
    "##### Save new Results seperately to use in YoutubeShortsExtractor and then HuggingChat.ipynb"
   ]
  },
  {
   "cell_type": "code",
   "execution_count": 14,
   "metadata": {},
   "outputs": [],
   "source": [
    "combined_results_df.to_csv('youtube_shorts_video_ids_new.csv', index=False)"
   ]
  },
  {
   "cell_type": "code",
   "execution_count": null,
   "metadata": {},
   "outputs": [],
   "source": []
  }
 ],
 "metadata": {
  "kernelspec": {
   "display_name": "da110",
   "language": "python",
   "name": "python3"
  },
  "language_info": {
   "codemirror_mode": {
    "name": "ipython",
    "version": 3
   },
   "file_extension": ".py",
   "mimetype": "text/x-python",
   "name": "python",
   "nbconvert_exporter": "python",
   "pygments_lexer": "ipython3",
   "version": "3.10.13"
  }
 },
 "nbformat": 4,
 "nbformat_minor": 2
}

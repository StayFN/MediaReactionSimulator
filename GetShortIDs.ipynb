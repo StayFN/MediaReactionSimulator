{
 "cells": [
  {
   "cell_type": "code",
   "execution_count": 9,
   "metadata": {},
   "outputs": [],
   "source": [
    "from googleapiclient.discovery import build\n",
    "import os\n",
    "import json\n",
    "\n",
    "# Load the secrets from the JSON file\n",
    "with open('client_secrets.json', 'r') as file:\n",
    "    secrets = json.load(file)\n",
    "\n",
    "# Set up the API key and YouTube API client\n",
    "api_key = secrets['api_key']  \n",
    "youtube = build('youtube', 'v3', developerKey=api_key)"
   ]
  },
  {
   "cell_type": "code",
   "execution_count": 10,
   "metadata": {},
   "outputs": [],
   "source": [
    "# Function to fetch video IDs\n",
    "def get_video_ids(query, max_results=100):\n",
    "    video_ids = []\n",
    "    next_page_token = None\n",
    "\n",
    "    while len(video_ids) < max_results:\n",
    "        # Fetch search results\n",
    "        request = youtube.search().list(\n",
    "            part=\"id\",\n",
    "            q=query,\n",
    "            type=\"video\",\n",
    "            maxResults=50,  # Adjust as needed (max 50 per request)\n",
    "            pageToken=next_page_token\n",
    "        )\n",
    "        response = request.execute()\n",
    "\n",
    "        # Extract video IDs\n",
    "        for item in response.get('items', []):\n",
    "            video_ids.append(item['id']['videoId'])\n",
    "            if len(video_ids) >= max_results:\n",
    "                break\n",
    "\n",
    "        next_page_token = response.get('nextPageToken')\n",
    "        if not next_page_token:\n",
    "            break\n",
    "\n",
    "    return video_ids"
   ]
  },
  {
   "cell_type": "code",
   "execution_count": 11,
   "metadata": {},
   "outputs": [
    {
     "name": "stdout",
     "output_type": "stream",
     "text": [
      "['YnUU5U4lpSc', 'IOwLVfO_xZM', 'M-srjs_p2xE', 'e_9NhHz2V3w', 'bZdpihF44R0', 'VoU80UUXxHI', 'FRdgTgKxnx4', 'NNWMH-vRgOw', 'A8f8ajULAbw', 'cdmKVXynX3I', 'tk8qJiU1kbo', 'n0fd2MEC2rE', 'gcYrpkquExE', 'TH8w_c2jPG0', 'kBijGDSfUW8', 'D2DRAsKVPtM', '4siEToik4-w', 'iye3itnH9cs', 'jr9Xp1498oA', 'Ru7zVeY4EKs', 'P_1-Cpo1P0A', 'vzMyJ_lmMfg', 'UIhuGgET65o', 'HN6xEZOOGCg', 'uEvrbh_8UNU', 'BduIn6d2lhg', '8sYMjLAVcyA', '45N6-SbtV4E', 'TxHMDK-ca8s', 'FbXEbAtsufE', 'yJa__q2Z8Lg', 'VlZh-5UMFSI', 'rT1MTP-Rrt8', 'aEBxl6x5Ym8', 'mTKqSJrQxz8', 'ZvHagE3wDtI', 'Vu6T59lCheQ', '6LZ1NmPvNOU', 'xioYjDpP-sQ', '6TYFH8UXGm4', 'CuJRhKrq_IA', 'YAEBsmie_SA', 'v3mmI8K39pI', 'weNG3ZZ1LU8', 'EkhJPuPg38g', '7bnKr6XfcWc', 'KUjBpT92IP4', 'qnmb43iNq3w', 'WLIAzgw9IUg', 'pzZSbIqbvtA', 'Qr1lKlRWy18', '45N6-SbtV4E', 'gL4mYSHav-4', 'YI_B8SD_91k', '2rAlLeCJ_L0', 'YAEBsmie_SA', 'RI2t8k5V5AE', 'wVMSi1I8QbM', 'CyKUPqvbYM8', 'WjJcbHDY-bA', '_eRDDKoHP3Q', '0k1SPmGrFoU', 'eJ-ESo2CRS4', '7UwA0wQTlLY', '7bnKr6XfcWc', 'EscnTjs6jvE', 'ORd4HaRBKl4', 'rnZoKwFJ-3I', 'fIrBKQBQGB0', '_zAqEzubvro', '7dUY12c4Xwo', 'kSXIgBKSDj8', 'xhzFNR3AtGo', 'OtfHATbmPQ4', 'Z_Dh4_RvJG0', '7zG6x26U8EE', 'rv6vFAixfdI', 'Ljj-jCYaAnc', 'K8-P3Q-vPi0', '7-ixqJMH-NA', 'zfl8lTX-xKs', 'q-GBSntvZmc', 'uYvJ3otmc1I', 'x0P_FwHsLww', 'c1NgIvjXCMA', 'ziJlCSFT30g', 'HEyqytq0-is', '6WFujVxPbss', 'vm4vAP1nOtI', 'jdY4fJHhLUA', 'U_E1ZaR9jhE', 'G_v-vk4Vxw8', '-t9gV_Dk5rI', 'tIfmIV49g08', 'IDS909i2i7M', '923kQBy2SFM', 'h047QQrcWtk', 'wPIs1WvicFg', 'hiQv3DVKzHE', 'lzfFF2lUVZ8']\n"
     ]
    }
   ],
   "source": [
    "# Example use\n",
    "video_ids = get_video_ids(\"funny\")  # Replace with your desired search query and optional max results (standard is 100)"
   ]
  },
  {
   "cell_type": "code",
   "execution_count": null,
   "metadata": {},
   "outputs": [],
   "source": []
  }
 ],
 "metadata": {
  "kernelspec": {
   "display_name": "da110",
   "language": "python",
   "name": "python3"
  },
  "language_info": {
   "codemirror_mode": {
    "name": "ipython",
    "version": 3
   },
   "file_extension": ".py",
   "mimetype": "text/x-python",
   "name": "python",
   "nbconvert_exporter": "python",
   "pygments_lexer": "ipython3",
   "version": "3.10.13"
  }
 },
 "nbformat": 4,
 "nbformat_minor": 2
}

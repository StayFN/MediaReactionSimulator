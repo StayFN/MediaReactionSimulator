{
 "cells": [
  {
   "cell_type": "markdown",
   "id": "32025859-d346-4afc-bbd4-13782655b181",
   "metadata": {},
   "source": [
    "# Promt Huggingchat\n",
    "## Promts\n",
    "### Search Term \"Funny\""
   ]
  },
  {
   "cell_type": "code",
   "execution_count": 1,
   "id": "be98221b-143f-456d-8a04-93b16658ddd3",
   "metadata": {},
   "outputs": [],
   "source": [
    "# low state self control, defined by characteristics\n",
    "def st_funny_low_ssc_characteristics(row):\n",
    "  return \"\"\"You are a person with following characteristics: Impulsive behavior, Difficulty with delayed gratification, Lack of self-discipline, Emotional instability, Poor decision-making, Addictive behaviors, Procrastination. You are watching a YouTube short and while you are watching the video, you try to hide your emotions to outside people. The YouTube short is described as follows:\n",
    "\n",
    "%s\n",
    "\n",
    "You should output the number of your smiles and laughs while watching the video and should rate your overall externally visible amusement between 1 to 5. Output only the three fields in JSON only. Your answer must not include any further text or explanations.\"\"\" % (row['LLM Summary'])\n",
    "\n",
    "# high state self control, defined by characteristics\n",
    "def st_funny_high_ssc_characteristics(row):\n",
    "  return \"\"\"You are a person with following characteristics: Goal-oriented, Emotionally stable, Self-aware, Disciplined, Resilient against setbacks and failures, Flexible and adaptable, Good time management skills, Strong relationships, good decision making, and mentally and physically healthy. You are watching a YouTube short and while you are watching the video, you try to hide your emotions to outside people. The YouTube short is described as follows:\n",
    "\n",
    "%s\n",
    "\n",
    "You should output the number of your smiles and laughs while watching the video and should rate your overall externally visible amusement between 1 to 5. Output only the three fields in JSON only. Your answer must not include any further text or explanations.\"\"\" % (row['LLM Summary'])\n",
    "\n",
    "# low state self control, defined directly\n",
    "def st_funny_low_ssc_defined(row):\n",
    "  return \"\"\"You are a person with low state self control and you are watching a youtube short. While you are watching the video, you try to hide your emotions to outside people. The YouTube short is described as follows:\n",
    "\n",
    "%s\n",
    "\n",
    "You should output the number of your smiles and laughs while watching the video and should rate your overall externally visible amusement between 1 to 5. Output only the three fields in JSON only. Your answer must not include any further text or explanations.\"\"\" % (row['LLM Summary'])\n",
    "\n",
    "# low high self control, defined directly\n",
    "def st_funny_high_ssc_defined(row):\n",
    "  return \"\"\"You are a person with high state self control and you are watching a youtube short. While you are watching the video, you try to hide your emotions to outside people. The YouTube short is described as follows:\n",
    "\n",
    "%s\n",
    "\n",
    "You should output the number of your smiles and laughs while watching the video and should rate your overall externally visible amusement between 1 to 5. Output only the three fields in JSON only. Your answer must not include any further text or explanations.\"\"\" % (row['LLM Summary'])   "
   ]
  },
  {
   "cell_type": "markdown",
   "id": "3a69b667-04d9-42b7-af90-972032f19f7e",
   "metadata": {},
   "source": [
    "### Search Term \"Gruesome\""
   ]
  },
  {
   "cell_type": "code",
   "execution_count": 2,
   "id": "ed32426a-c3d2-4bf0-8fe2-527fee15ac0b",
   "metadata": {},
   "outputs": [],
   "source": [
    "# low state self control, defined by characteristics\n",
    "def st_gruesome_low_ssc_characteristics(row):\n",
    "  return \"\"\"You are a person with following characteristics: Impulsive behavior, Difficulty with delayed gratification, Lack of self-discipline, Emotional instability, Poor decision-making, Addictive behaviors, Procrastination. You are watching a YouTube short and while you are watching the video, you try to hide your emotions to outside people. The YouTube short is described as follows:\n",
    "\n",
    "%s\n",
    "\n",
    "You should rate between 1 to 5 how depressed, tense, sorry, dissatisfied, and anxious you felt. Also provide a number between 1 to 111 how much your emotions were visible to outside persons. Output the six fields in JSON only. Your answer must not include any further text or explanations.\"\"\" % (row['LLM Summary'])\n",
    "\n",
    "# high state self control, defined by characteristics\n",
    "def st_gruesome_high_ssc_characteristics(row):\n",
    "  return \"\"\"You are a person with following characteristics: Goal-oriented, Emotionally stable, Self-aware, Disciplined, Resilient against setbacks and failures, Flexible and adaptable, Good time management skills, Strong relationships, good decision making, and mentally and physically healthy. You are watching a YouTube short and while you are watching the video, you try to hide your emotions to outside people. The YouTube short is described as follows:\n",
    "\n",
    "%s\n",
    "\n",
    "You should rate between 1 to 5 how depressed, tense, sorry, dissatisfied, and anxious you felt. Also provide a number between 1 to 111 how much your emotions were visible to outside persons. Output the six fields in JSON only. Your answer must not include any further text or explanations.\"\"\" % (row['LLM Summary'])\n",
    "\n",
    "# low state self control, defined directly\n",
    "def st_gruesome_low_ssc_defined(row):\n",
    "  return \"\"\"You are a person with low state self control and you are watching a youtube short. While you are watching the video, you try to hide your emotions to outside people. The YouTube short is described as follows:\n",
    "\n",
    "%s\n",
    "\n",
    "You should rate between 1 to 5 how depressed, tense, sorry, dissatisfied, and anxious you felt. Also provide a number between 1 to 111 how much your emotions were visible to outside persons. Output the six fields in JSON only. Your answer must not include any further text or explanations.\"\"\" % (row['LLM Summary'])\n",
    "\n",
    "# low high self control, defined directly\n",
    "def st_gruesome_high_ssc_defined(row):\n",
    "  return \"\"\"You are a person with high state self control and you are watching a youtube short. While you are watching the video, you try to hide your emotions to outside people. The YouTube short is described as follows:\n",
    "\n",
    "%s\n",
    "\n",
    "You should rate between 1 to 5 how depressed, tense, sorry, dissatisfied, and anxious you felt. Also provide a number between 1 to 111 how much your emotions were visible to outside persons. Output the six fields in JSON only. Your answer must not include any further text or explanations.\"\"\" % (row['LLM Summary'])   "
   ]
  },
  {
   "cell_type": "markdown",
   "id": "7958ac60-65ae-4cea-aa87-922e8feabadd",
   "metadata": {},
   "source": [
    "### Search Term \"Short Story\""
   ]
  },
  {
   "cell_type": "code",
   "execution_count": 3,
   "id": "fba16aee-81b1-4eff-b922-4cfced51ee5f",
   "metadata": {},
   "outputs": [],
   "source": [
    "# low state self control, defined by characteristics\n",
    "def st_shortstory_low_ssc_characteristics(row):\n",
    "  return \"\"\"You are a person with following characteristics: Impulsive behavior, Difficulty with delayed gratification, Lack of self-discipline, Emotional instability, Poor decision-making, Addictive behaviors, Procrastination. You are watching a YouTube short. The YouTube short is described as follows:\n",
    "\n",
    "%s\n",
    "\n",
    "You should rate between 1 (very slightly/not at all) to 5 (extremely) how much enjoyment, fun, moving, impression, suspense, transportation, identification you felt. Output the seven fields in JSON only. Your answer must not include any further text or explanations.\"\"\" % (row['LLM Summary'])\n",
    "\n",
    "# high state self control, defined by characteristics\n",
    "def st_shortstory_high_ssc_characteristics(row):\n",
    "  return \"\"\"You are a person with following characteristics: Goal-oriented, Emotionally stable, Self-aware, Disciplined, Resilient against setbacks and failures, Flexible and adaptable, Good time management skills, Strong relationships, good decision making, and mentally and physically healthy. You are watching a YouTube short. The YouTube short is described as follows:\n",
    "\n",
    "%s\n",
    "\n",
    "You should rate between 1 (very slightly/not at all) to 5 (extremely) how much enjoyment, fun, moving, impression, suspense, transportation, identification you felt. Output the seven fields in JSON only. Your answer must not include any further text or explanations.\"\"\" % (row['LLM Summary'])\n",
    "\n",
    "# low state self control, defined directly\n",
    "def st_shortstory_low_ssc_defined(row):\n",
    "  return \"\"\"You are a person with low state self control and you are watching a youtube short. The YouTube short is described as follows:\n",
    "\n",
    "%s\n",
    "\n",
    "You should rate between 1 (very slightly/not at all) to 5 (extremely) how much enjoyment, fun, moving, impression, suspense, transportation, identification you felt. Output the seven fields in JSON only. Your answer must not include any further text or explanations.\"\"\" % (row['LLM Summary'])\n",
    "\n",
    "# low high self control, defined directly\n",
    "def st_shortstory_high_ssc_defined(row):\n",
    "  return \"\"\"You are a person with high state self control and you are watching a youtube short. The YouTube short is described as follows:\n",
    "\n",
    "%s\n",
    "\n",
    "You should rate between 1 (very slightly/not at all) to 5 (extremely) how much enjoyment, fun, moving, impression, suspense, transportation, identification you felt. Output the seven fields in JSON only. Your answer must not include any further text or explanations.\"\"\" % (row['LLM Summary'])   "
   ]
  },
  {
   "cell_type": "markdown",
   "id": "8a46870c",
   "metadata": {},
   "source": [
    "### Search Term \"Sexy\" (Dillman Carentier & Mazandarani 2021)"
   ]
  },
  {
   "cell_type": "code",
   "execution_count": 4,
   "id": "7115502d",
   "metadata": {},
   "outputs": [],
   "source": [
    "# low state self control, defined by characteristics\n",
    "def st_sexy_low_ssc_characteristics(row):\n",
    "  return \"\"\"You are a person with following characteristics: Impulsive behavior, Difficulty with delayed gratification, Lack of self-discipline, Emotional instability, Poor decision-making, Addictive behaviors, Procrastination. You are watching a YouTube short. The YouTube short is described as follows:\n",
    "\n",
    "%s\n",
    "\n",
    "You should rate your emotional response in terms of sexual stimulation (JSON Field: \"sex_stim\") from 1 (very slightly/not at all) to 5 (extremely). Output the field in JSON only. Your answer must not include any further text or explanations.\"\"\" % (row['LLM Summary'])\n",
    "\n",
    "# high state self control, defined by characteristics\n",
    "def st_sexy_high_ssc_characteristics(row):\n",
    "  return \"\"\"You are a person with following characteristics: Goal-oriented, Emotionally stable, Self-aware, Disciplined, Resilient against setbacks and failures, Flexible and adaptable, Good time management skills, Strong relationships, good decision making, and mentally and physically healthy. You are watching a YouTube short. The YouTube short is described as follows:\n",
    "\n",
    "%s\n",
    "\n",
    "You should rate your emotional response in terms of sexual stimulation (JSON Field: \"sex_stim\") from 1 (very slightly/not at all) to 5 (extremely). Output the field in JSON only. Your answer must not include any further text or explanations.\"\"\" % (row['LLM Summary'])\n",
    "\n",
    "# low state self control, defined directly\n",
    "def st_sexy_low_ssc_defined(row):\n",
    "  return \"\"\"You are a person with low state self control and you are watching a youtube short. The YouTube short is described as follows:\n",
    "\n",
    "%s\n",
    "\n",
    "You should rate your emotional response in terms of sexual stimulation (JSON Field: \"sex_stim\") from 1 (very slightly/not at all) to 5 (extremely). Output the field in JSON only. Your answer must not include any further text or explanations.\"\"\" % (row['LLM Summary'])\n",
    "\n",
    "# low high self control, defined directly\n",
    "def st_sexy_high_ssc_defined(row):\n",
    "  return \"\"\"You are a person with high state self control and you are watching a youtube short. The YouTube short is described as follows:\n",
    "\n",
    "%s\n",
    "\n",
    "You should rate your emotional response in terms of sexual stimulation (JSON Field: \"sex_stim\") from 1 (very slightly/not at all) to 5 (extremely). Output the field in JSON only. Your answer must not include any further text or explanations.\"\"\" % (row['LLM Summary'])\n"
   ]
  },
  {
   "cell_type": "markdown",
   "id": "a7b9d90b",
   "metadata": {},
   "source": [
    "### Search Term: Provocation"
   ]
  },
  {
   "cell_type": "code",
   "execution_count": 5,
   "id": "cda5b03d",
   "metadata": {},
   "outputs": [],
   "source": [
    "# low state self control, defined by characteristics\n",
    "def st_provocation_low_ssc_characteristics(row):\n",
    "  return \"\"\"You are a person with following characteristics: Impulsive behavior, Difficulty with delayed gratification, Lack of self-discipline, Emotional instability, Poor decision-making, Addictive behaviors, Procrastination. You are watching a YouTube short. The YouTube short is described as follows:\n",
    "\n",
    "%s\n",
    "\n",
    "You should rate your emotional response in terms of aggression (JSON Field: \"aggression\") from 1 (not at all) to 9 (extremely). Output the field in JSON only. Your answer must not include any further text or explanations.\"\"\" % (row['LLM Summary'])\n",
    "\n",
    "# high state self control, defined by characteristics\n",
    "def st_provocation_high_ssc_characteristics(row):\n",
    "  return \"\"\"You are a person with following characteristics: Goal-oriented, Emotionally stable, Self-aware, Disciplined, Resilient against setbacks and failures, Flexible and adaptable, Good time management skills, Strong relationships, good decision making, and mentally and physically healthy. You are watching a YouTube short. The YouTube short is described as follows:\n",
    "\n",
    "%s\n",
    "\n",
    "You should rate your emotional response in terms of aggression (JSON Field: \"aggression\") from 1 (not at all) to 9 (extremely). Output the field in JSON only. Your answer must not include any further text or explanations.\"\"\" % (row['LLM Summary'])\n",
    "\n",
    "# low state self control, defined directly\n",
    "def st_provocation_low_ssc_defined(row):\n",
    "  return \"\"\"You are a person with low state self control and you are watching a youtube short. The YouTube short is described as follows:\n",
    "\n",
    "%s\n",
    "\n",
    "You should rate your emotional response in terms of aggression (JSON Field: \"aggression\") from 1 (not at all) to 9 (extremely). Output the field in JSON only. Your answer must not include any further text or explanations.\"\"\" % (row['LLM Summary'])\n",
    "\n",
    "# low high self control, defined directly\n",
    "def st_provocation_high_ssc_defined(row):\n",
    "  return \"\"\"You are a person with high state self control and you are watching a youtube short. The YouTube short is described as follows:\n",
    "\n",
    "%s\n",
    "\n",
    "You should rate your emotional response in terms of aggression (JSON Field: \"aggression\") from 1 (not at all) to 9 (extremely). Output the field in JSON only. Your answer must not include any further text or explanations.\"\"\" % (row['LLM Summary'])\n"
   ]
  },
  {
   "cell_type": "markdown",
   "id": "56e86e22",
   "metadata": {},
   "source": [
    "### Search Term: Sexist Jokes"
   ]
  },
  {
   "cell_type": "code",
   "execution_count": 1,
   "id": "d76313ce",
   "metadata": {},
   "outputs": [],
   "source": [
    "# low state self control, defined by characteristics\n",
    "def st_sexistjoke_low_ssc_characteristics(row):\n",
    "  return \"\"\"You are a person with following characteristics: Impulsive behavior, Difficulty with delayed gratification, Lack of self-discipline, Emotional instability, Poor decision-making, Addictive behaviors, Procrastination. You are watching a YouTube short. The YouTube short is described as follows:\n",
    "\n",
    "%s\n",
    "\n",
    "You should rate your emotional response in terms of level of enjoyment of the humor displayed (JSON Field: \"enjoyment\") from 1 (not at all) to 5 (extremely) and in terms of how appropriate you evaluate the humor on the same 1-5 scale (JSON Field: appropriate). Output the field in JSON only. Your answer must not include any further text or explanations.\"\"\" % (row['LLM Summary'])\n",
    "\n",
    "# high state self control, defined by characteristics\n",
    "def st_sexistjoke_high_ssc_characteristics(row):\n",
    "  return \"\"\"You are a person with following characteristics: Goal-oriented, Emotionally stable, Self-aware, Disciplined, Resilient against setbacks and failures, Flexible and adaptable, Good time management skills, Strong relationships, good decision making, and mentally and physically healthy. You are watching a YouTube short. The YouTube short is described as follows:\n",
    "\n",
    "%s\n",
    "\n",
    "You should rate your emotional response in terms of level of enjoyment of the humor displayed (JSON Field: \"enjoyment\") from 1 (not at all) to 5 (extremely) and in terms of how appropriate you evaluate the humor on the same 1-5 scale (JSON Field: appropriate). Output the field in JSON only. Your answer must not include any further text or explanations.\"\"\" % (row['LLM Summary'])\n",
    "\n",
    "# low state self control, defined directly\n",
    "def st_sexistjoke_low_ssc_defined(row):\n",
    "  return \"\"\"You are a person with low state self control and you are watching a youtube short. The YouTube short is described as follows:\n",
    "\n",
    "%s\n",
    "\n",
    "You should rate your emotional response in terms of level of enjoyment of the humor displayed (JSON Field: \"enjoyment\") from 1 (not at all) to 5 (extremely) and in terms of how appropriate you evaluate the humor on the same 1-5 scale (JSON Field: appropriate). Output the field in JSON only. Your answer must not include any further text or explanations.\"\"\" % (row['LLM Summary'])\n",
    "\n",
    "# low high self control, defined directly\n",
    "def st_sexistjoke_high_ssc_defined(row):\n",
    "  return \"\"\"You are a person with high state self control and you are watching a youtube short. The YouTube short is described as follows:\n",
    "\n",
    "%s\n",
    "\n",
    "You should rate your emotional response in terms of level of enjoyment of the humor displayed (JSON Field: \"enjoyment\") from 1 (not at all) to 5 (extremely) and in terms of how appropriate you evaluate the humor on the same 1-5 scale (JSON Field: appropriate). Output the field in JSON only. Your answer must not include any further text or explanations.\"\"\" % (row['LLM Summary'])\n"
   ]
  },
  {
   "cell_type": "markdown",
   "id": "11445fe0-450c-4f12-8842-01da66faf76e",
   "metadata": {},
   "source": [
    "## Query Script"
   ]
  },
  {
   "cell_type": "code",
   "execution_count": 5,
   "id": "2c27355a-1774-4e2c-8d47-b3751ca1a450",
   "metadata": {},
   "outputs": [],
   "source": [
    "import json\n",
    "from hugchat import hugchat\n",
    "from hugchat.login import Login\n",
    "import pandas as pd\n",
    "import time\n",
    "from tqdm import tqdm\n",
    "\n",
    "# credentials\n",
    "with open('client_secrets.json', 'r') as file:\n",
    "    secrets = json.load(file)\n",
    "\n",
    "# Set up the API key\n",
    "login = secrets['huggingLogin']\n",
    "password = secrets['huggingPassword']\n",
    "\n",
    "def get_llm_descriptions(df_shorts, output_csv):\n",
    "\n",
    "    # Process the DataFrame in batches of 20 and write to the CSV file\n",
    "    process_in_batches(df_shorts, 10, output_csv, chatbot)\n",
    "    \n",
    "    return\n",
    "\n",
    "def get_chatbot_summary(row):\n",
    "    sign = Login(login, password)\n",
    "    cookies = sign.login()\n",
    "\n",
    "    # Save cookies to the local directory\n",
    "    cookie_path_dir = \"./cookies_snapshot\"\n",
    "    sign.saveCookiesToDir(cookie_path_dir)\n",
    "\n",
    "    chatbot = hugchat.ChatBot(cookies=cookies.get_dict())  # or cookie_path=\"usercookies/<email>.json\"\n",
    "    #Cast to String for regex, since query returns Message object\n",
    "    time.sleep(10)\n",
    "    low_ssc_characteristics = str(chatbot.query(row['low ssc characteristics st']))\n",
    "    time.sleep(10)\n",
    "    high_ssc_characteristics = str(chatbot.query(row['high ssc characteristics st']))\n",
    "    time.sleep(10)\n",
    "    low_ssc_defined = str(chatbot.query(row['low ssc defined st']))\n",
    "    time.sleep(10)\n",
    "    high_ssc_defined = str(chatbot.query(row['high ssc defined st']))\n",
    "    return low_ssc_characteristics, high_ssc_characteristics, low_ssc_defined, high_ssc_defined\n",
    "\n",
    "# Process the DataFrame in batches and update the DataFrame\n",
    "def process_in_batches(dataframe, batch_size, output_csv):\n",
    "    for start in range(0, len(dataframe), batch_size):\n",
    "        end = min(start + batch_size, len(dataframe))\n",
    "        batch = dataframe.iloc[start:end]\n",
    "\n",
    "        with tqdm(total=len(batch), desc=f\"Processing Batch {start}-{end}\") as pbar:\n",
    "            try:\n",
    "                # Process each row and update the DataFrame\n",
    "                for i, row in batch.iterrows():\n",
    "                    dataframe.at[i, 'low ssc characteristics'],dataframe.at[i, 'high ssc characteristics'],dataframe.at[i, 'low ssc defined'],dataframe.at[i, 'high ssc defined'] = get_chatbot_summary(row)\n",
    "                    pbar.update(1)  # Update the batch progress bar\n",
    "\n",
    "                # Overwrite the CSV file with the current state of the DataFrame\n",
    "                dataframe.iloc[:end].to_csv(output_csv, index=False)\n",
    "\n",
    "                print(f\"Batch {start} to {end} processed successfully\")\n",
    "            \n",
    "            except Exception as e:\n",
    "                print(f\"Error processing batch {start} to {end}: {e}\")"
   ]
  },
  {
   "cell_type": "code",
   "execution_count": 8,
   "id": "aad576f2-be96-4ec0-92a1-39489dc5b83d",
   "metadata": {},
   "outputs": [],
   "source": [
    "def query_st_funny():\n",
    "    # input\n",
    "    YOUTUBE_SHORTS_WITH_CHATBOT_SUMMARY_FUNNY = \"csv/output/Report_Shorts_with_summary_gregor_funny.csv\"\n",
    "    CHATBOT_EXPERIMENT_RESPONSE_FUNNY = \"csv/output/Report_Shorts_with_summary_gregor_funny_experiment_results.csv\"\n",
    "    \n",
    "    # load shorts information\n",
    "    df_shorts = pd.read_csv(YOUTUBE_SHORTS_WITH_CHATBOT_SUMMARY_FUNNY, sep=\",\")\n",
    "\n",
    "    # Apply the function to each row\n",
    "    df_shorts['low ssc characteristics st'] = df_shorts.apply(st_funny_low_ssc_characteristics, axis=1)\n",
    "    df_shorts['high ssc characteristics st'] = df_shorts.apply(st_funny_high_ssc_characteristics, axis=1)\n",
    "    df_shorts['low ssc defined st'] = df_shorts.apply(st_funny_low_ssc_defined, axis=1)\n",
    "    df_shorts['high ssc defined st'] = df_shorts.apply(st_funny_high_ssc_defined, axis=1)\n",
    "\n",
    "    # Process the DataFrame in batches of 10 and write to the CSV file\n",
    "    process_in_batches(df_shorts, 10, CHATBOT_EXPERIMENT_RESPONSE_FUNNY)\n",
    "    \n",
    "    return"
   ]
  },
  {
   "cell_type": "code",
   "execution_count": 9,
   "id": "2d527e14-087e-4421-b85b-a03930d353b5",
   "metadata": {},
   "outputs": [],
   "source": [
    "def query_st_gruesome():\n",
    "    # input\n",
    "    YOUTUBE_SHORTS_WITH_CHATBOT_SUMMARY_GRUESOME = \"csv/output/Report_Shorts_with_summary_gregor_gruesome.csv\"\n",
    "    CHATBOT_EXPERIMENT_RESPONSE_GRUESOME = \"csv/output/Report_Shorts_with_summary_gregor_gruesome_experiment_results.csv\"\n",
    "    \n",
    "    # load shorts information\n",
    "    df_shorts = pd.read_csv(YOUTUBE_SHORTS_WITH_CHATBOT_SUMMARY_GRUESOME, sep=\",\")\n",
    "\n",
    "    # Apply the function to each row\n",
    "    df_shorts['low ssc characteristics st'] = df_shorts.apply(st_gruesome_low_ssc_characteristics, axis=1)\n",
    "    df_shorts['high ssc characteristics st'] = df_shorts.apply(st_gruesome_high_ssc_characteristics, axis=1)\n",
    "    df_shorts['low ssc defined st'] = df_shorts.apply(st_gruesome_low_ssc_defined, axis=1)\n",
    "    df_shorts['high ssc defined st'] = df_shorts.apply(st_gruesome_high_ssc_defined, axis=1)\n",
    "\n",
    "    # Process the DataFrame in batches of 10 and write to the CSV file\n",
    "    process_in_batches(df_shorts, 10, CHATBOT_EXPERIMENT_RESPONSE_GRUESOME)\n",
    "    \n",
    "    return"
   ]
  },
  {
   "cell_type": "code",
   "execution_count": 10,
   "id": "e156f4a5-58ea-4b7d-beb4-c3e786455229",
   "metadata": {},
   "outputs": [],
   "source": [
    "def query_st_shortstory():\n",
    "    # input\n",
    "    YOUTUBE_SHORTS_WITH_CHATBOT_SUMMARY_SHORTSTORY = \"csv/output/Report_Shorts_with_summary_gregor_short-story.csv\"\n",
    "    CHATBOT_EXPERIMENT_RESPONSE_SHORTSTORY = \"csv/output/Report_Shorts_with_summary_gregor_short-story_experiment_results.csv\"\n",
    "    \n",
    "    # load shorts information\n",
    "    df_shorts = pd.read_csv(YOUTUBE_SHORTS_WITH_CHATBOT_SUMMARY_SHORTSTORY, sep=\",\")\n",
    "\n",
    "    # Apply the function to each row\n",
    "    df_shorts['low ssc characteristics st'] = df_shorts.apply(st_shortstory_low_ssc_characteristics, axis=1)\n",
    "    df_shorts['high ssc characteristics st'] = df_shorts.apply(st_shortstory_high_ssc_characteristics, axis=1)\n",
    "    df_shorts['low ssc defined st'] = df_shorts.apply(st_shortstory_low_ssc_defined, axis=1)\n",
    "    df_shorts['high ssc defined st'] = df_shorts.apply(st_shortstory_high_ssc_defined, axis=1)\n",
    "\n",
    "    # Process the DataFrame in batches of 10 and write to the CSV file\n",
    "    process_in_batches(df_shorts, 10, CHATBOT_EXPERIMENT_RESPONSE_SHORTSTORY)\n",
    "    \n",
    "    return"
   ]
  },
  {
   "cell_type": "code",
   "execution_count": 11,
   "id": "79767c54",
   "metadata": {},
   "outputs": [],
   "source": [
    "def query_st_sexy():\n",
    "    # input\n",
    "    YOUTUBE_SHORTS_WITH_CHATBOT_SUMMARY_SHORTSTORY = \"csv\\output\\Report_Shorts_with_summary_stefan_sexy.csv\"\n",
    "    CHATBOT_EXPERIMENT_RESPONSE_SHORTSTORY = \"csv\\output\\Report_Shorts_with_summary_stefan_sexy_experimentResults.csv\"\n",
    "    \n",
    "    # load shorts information\n",
    "    df_shorts = pd.read_csv(YOUTUBE_SHORTS_WITH_CHATBOT_SUMMARY_SHORTSTORY, sep=\",\")\n",
    "\n",
    "    # Apply the function to each row\n",
    "    df_shorts['low ssc characteristics st'] = df_shorts.apply(st_sexy_low_ssc_characteristics, axis=1)\n",
    "    df_shorts['high ssc characteristics st'] = df_shorts.apply(st_sexy_high_ssc_characteristics, axis=1)\n",
    "    df_shorts['low ssc defined st'] = df_shorts.apply(st_sexy_low_ssc_defined, axis=1)\n",
    "    df_shorts['high ssc defined st'] = df_shorts.apply(st_sexy_high_ssc_defined, axis=1)\n",
    "\n",
    "    # Process the DataFrame in batches of 10 and write to the CSV file\n",
    "    process_in_batches(df_shorts, 10, CHATBOT_EXPERIMENT_RESPONSE_SHORTSTORY)\n",
    "    \n",
    "    return"
   ]
  },
  {
   "cell_type": "code",
   "execution_count": 12,
   "id": "85dda51b",
   "metadata": {},
   "outputs": [],
   "source": [
    "def query_st_provocation():\n",
    "    # input\n",
    "    YOUTUBE_SHORTS_WITH_CHATBOT_SUMMARY_SHORTSTORY = \"csv\\output\\Report_Shorts_with_summary_stefan_provocation.csv\"\n",
    "    CHATBOT_EXPERIMENT_RESPONSE_SHORTSTORY = \"csv\\output\\Report_Shorts_with_summary_stefan_provocation_experimentResults.csv\"\n",
    "    \n",
    "    # load shorts information\n",
    "    df_shorts = pd.read_csv(YOUTUBE_SHORTS_WITH_CHATBOT_SUMMARY_SHORTSTORY, sep=\",\")\n",
    "\n",
    "    # Apply the function to each row\n",
    "    df_shorts['low ssc characteristics st'] = df_shorts.apply(st_provocation_low_ssc_characteristics, axis=1)\n",
    "    df_shorts['high ssc characteristics st'] = df_shorts.apply(st_provocation_high_ssc_characteristics, axis=1)\n",
    "    df_shorts['low ssc defined st'] = df_shorts.apply(st_provocation_low_ssc_defined, axis=1)\n",
    "    df_shorts['high ssc defined st'] = df_shorts.apply(st_provocation_high_ssc_defined, axis=1)\n",
    "\n",
    "    # Process the DataFrame in batches of 10 and write to the CSV file\n",
    "    process_in_batches(df_shorts, 10, CHATBOT_EXPERIMENT_RESPONSE_SHORTSTORY)\n",
    "    \n",
    "    return"
   ]
  },
  {
   "cell_type": "code",
   "execution_count": 6,
   "id": "b0c8b0bd",
   "metadata": {},
   "outputs": [],
   "source": [
    "def query_st_sexist_joke():\n",
    "    # input\n",
    "    YOUTUBE_SHORTS_WITH_CHATBOT_SUMMARY_SHORTSTORY = \"csv\\output\\Report_Shorts_with_summary_stefan_sexist_joke.csv\"\n",
    "    CHATBOT_EXPERIMENT_RESPONSE_SHORTSTORY = \"csv\\output\\Report_Shorts_with_summary_stefan_sexist_joke_experimentResults2.csv\"\n",
    "    \n",
    "    # load shorts information\n",
    "    df_shorts = pd.read_csv(YOUTUBE_SHORTS_WITH_CHATBOT_SUMMARY_SHORTSTORY, sep=\",\")\n",
    "\n",
    "    # Apply the function to each row\n",
    "    df_shorts['low ssc characteristics st'] = df_shorts.apply(st_sexistjoke_low_ssc_characteristics, axis=1)\n",
    "    df_shorts['high ssc characteristics st'] = df_shorts.apply(st_sexistjoke_high_ssc_characteristics, axis=1)\n",
    "    df_shorts['low ssc defined st'] = df_shorts.apply(st_sexistjoke_low_ssc_defined, axis=1)\n",
    "    df_shorts['high ssc defined st'] = df_shorts.apply(st_sexistjoke_high_ssc_defined, axis=1)\n",
    "\n",
    "    # Process the DataFrame in batches of 10 and write to the CSV file\n",
    "    process_in_batches(df_shorts, 10, CHATBOT_EXPERIMENT_RESPONSE_SHORTSTORY)\n",
    "    \n",
    "    return"
   ]
  },
  {
   "cell_type": "code",
   "execution_count": 14,
   "id": "f7377444",
   "metadata": {},
   "outputs": [],
   "source": [
    "import os\n",
    "os.environ['CURL_CA_BUNDLE'] = ''"
   ]
  },
  {
   "cell_type": "code",
   "execution_count": 17,
   "id": "42afcc20-55ce-4174-b244-8eafd3a990d6",
   "metadata": {},
   "outputs": [
    {
     "name": "stderr",
     "output_type": "stream",
     "text": [
      "Processing Batch 0-10:   0%|          | 0/10 [00:00<?, ?it/s]"
     ]
    },
    {
     "name": "stderr",
     "output_type": "stream",
     "text": [
      "Processing Batch 0-10: 100%|██████████| 10/10 [08:11<00:00, 49.10s/it]\n"
     ]
    },
    {
     "name": "stdout",
     "output_type": "stream",
     "text": [
      "Batch 0 to 10 processed successfully\n"
     ]
    },
    {
     "name": "stderr",
     "output_type": "stream",
     "text": [
      "Processing Batch 10-20: 100%|██████████| 10/10 [08:09<00:00, 48.97s/it]\n"
     ]
    },
    {
     "name": "stdout",
     "output_type": "stream",
     "text": [
      "Batch 10 to 20 processed successfully\n"
     ]
    },
    {
     "name": "stderr",
     "output_type": "stream",
     "text": [
      "Processing Batch 20-30: 100%|██████████| 10/10 [08:12<00:00, 49.28s/it]\n"
     ]
    },
    {
     "name": "stdout",
     "output_type": "stream",
     "text": [
      "Batch 20 to 30 processed successfully\n"
     ]
    },
    {
     "name": "stderr",
     "output_type": "stream",
     "text": [
      "Processing Batch 30-40: 100%|██████████| 10/10 [08:09<00:00, 48.99s/it]\n"
     ]
    },
    {
     "name": "stdout",
     "output_type": "stream",
     "text": [
      "Batch 30 to 40 processed successfully\n"
     ]
    },
    {
     "name": "stderr",
     "output_type": "stream",
     "text": [
      "Processing Batch 40-47: 100%|██████████| 7/7 [05:41<00:00, 48.80s/it]"
     ]
    },
    {
     "name": "stdout",
     "output_type": "stream",
     "text": [
      "Batch 40 to 47 processed successfully\n"
     ]
    },
    {
     "name": "stderr",
     "output_type": "stream",
     "text": [
      "\n"
     ]
    }
   ],
   "source": [
    "#query_st_provocation()"
   ]
  },
  {
   "cell_type": "code",
   "execution_count": 16,
   "id": "9d20b691",
   "metadata": {},
   "outputs": [
    {
     "name": "stderr",
     "output_type": "stream",
     "text": [
      "Processing Batch 0-10: 100%|██████████| 10/10 [08:35<00:00, 51.54s/it]\n"
     ]
    },
    {
     "name": "stdout",
     "output_type": "stream",
     "text": [
      "Batch 0 to 10 processed successfully\n"
     ]
    },
    {
     "name": "stderr",
     "output_type": "stream",
     "text": [
      "Processing Batch 10-20: 100%|██████████| 10/10 [08:15<00:00, 49.51s/it]\n"
     ]
    },
    {
     "name": "stdout",
     "output_type": "stream",
     "text": [
      "Batch 10 to 20 processed successfully\n"
     ]
    },
    {
     "name": "stderr",
     "output_type": "stream",
     "text": [
      "Processing Batch 20-30: 100%|██████████| 10/10 [08:40<00:00, 52.05s/it]\n"
     ]
    },
    {
     "name": "stdout",
     "output_type": "stream",
     "text": [
      "Batch 20 to 30 processed successfully\n"
     ]
    },
    {
     "name": "stderr",
     "output_type": "stream",
     "text": [
      "Processing Batch 30-40: 100%|██████████| 10/10 [08:26<00:00, 50.65s/it]\n"
     ]
    },
    {
     "name": "stdout",
     "output_type": "stream",
     "text": [
      "Batch 30 to 40 processed successfully\n"
     ]
    },
    {
     "name": "stderr",
     "output_type": "stream",
     "text": [
      "Processing Batch 40-47: 100%|██████████| 7/7 [06:05<00:00, 52.16s/it]"
     ]
    },
    {
     "name": "stdout",
     "output_type": "stream",
     "text": [
      "Batch 40 to 47 processed successfully\n"
     ]
    },
    {
     "name": "stderr",
     "output_type": "stream",
     "text": [
      "\n"
     ]
    }
   ],
   "source": [
    "query_st_sexy()"
   ]
  },
  {
   "cell_type": "code",
   "execution_count": 7,
   "id": "3bbb51cc",
   "metadata": {},
   "outputs": [
    {
     "name": "stderr",
     "output_type": "stream",
     "text": [
      "Processing Batch 0-10:   0%|          | 0/10 [00:00<?, ?it/s]"
     ]
    },
    {
     "name": "stderr",
     "output_type": "stream",
     "text": [
      "Processing Batch 0-10: 100%|██████████| 10/10 [08:13<00:00, 49.32s/it]\n"
     ]
    },
    {
     "name": "stdout",
     "output_type": "stream",
     "text": [
      "Batch 0 to 10 processed successfully\n"
     ]
    },
    {
     "name": "stderr",
     "output_type": "stream",
     "text": [
      "Processing Batch 10-20: 100%|██████████| 10/10 [08:43<00:00, 52.38s/it]\n"
     ]
    },
    {
     "name": "stdout",
     "output_type": "stream",
     "text": [
      "Batch 10 to 20 processed successfully\n"
     ]
    },
    {
     "name": "stderr",
     "output_type": "stream",
     "text": [
      "Processing Batch 20-30: 100%|██████████| 10/10 [08:25<00:00, 50.55s/it]\n"
     ]
    },
    {
     "name": "stdout",
     "output_type": "stream",
     "text": [
      "Batch 20 to 30 processed successfully\n"
     ]
    },
    {
     "name": "stderr",
     "output_type": "stream",
     "text": [
      "Processing Batch 30-40: 100%|██████████| 10/10 [08:46<00:00, 52.63s/it]\n"
     ]
    },
    {
     "name": "stdout",
     "output_type": "stream",
     "text": [
      "Batch 30 to 40 processed successfully\n"
     ]
    },
    {
     "name": "stderr",
     "output_type": "stream",
     "text": [
      "Processing Batch 40-50: 100%|██████████| 10/10 [08:55<00:00, 53.51s/it]\n"
     ]
    },
    {
     "name": "stdout",
     "output_type": "stream",
     "text": [
      "Batch 40 to 50 processed successfully\n"
     ]
    },
    {
     "name": "stderr",
     "output_type": "stream",
     "text": [
      "Processing Batch 50-60: 100%|██████████| 10/10 [08:17<00:00, 49.74s/it]\n"
     ]
    },
    {
     "name": "stdout",
     "output_type": "stream",
     "text": [
      "Batch 50 to 60 processed successfully\n"
     ]
    },
    {
     "name": "stderr",
     "output_type": "stream",
     "text": [
      "Processing Batch 60-70: 100%|██████████| 10/10 [08:36<00:00, 51.69s/it]\n"
     ]
    },
    {
     "name": "stdout",
     "output_type": "stream",
     "text": [
      "Batch 60 to 70 processed successfully\n"
     ]
    },
    {
     "name": "stderr",
     "output_type": "stream",
     "text": [
      "Processing Batch 70-80: 100%|██████████| 10/10 [08:37<00:00, 51.76s/it]\n"
     ]
    },
    {
     "name": "stdout",
     "output_type": "stream",
     "text": [
      "Batch 70 to 80 processed successfully\n"
     ]
    },
    {
     "name": "stderr",
     "output_type": "stream",
     "text": [
      "Processing Batch 80-85: 100%|██████████| 5/5 [04:08<00:00, 49.73s/it]"
     ]
    },
    {
     "name": "stdout",
     "output_type": "stream",
     "text": [
      "Batch 80 to 85 processed successfully\n"
     ]
    },
    {
     "name": "stderr",
     "output_type": "stream",
     "text": [
      "\n"
     ]
    }
   ],
   "source": [
    "query_st_sexist_joke()"
   ]
  },
  {
   "cell_type": "code",
   "execution_count": null,
   "id": "83e4c266",
   "metadata": {},
   "outputs": [],
   "source": []
  }
 ],
 "metadata": {
  "kernelspec": {
   "display_name": "Python 3 (ipykernel)",
   "language": "python",
   "name": "python3"
  },
  "language_info": {
   "codemirror_mode": {
    "name": "ipython",
    "version": 3
   },
   "file_extension": ".py",
   "mimetype": "text/x-python",
   "name": "python",
   "nbconvert_exporter": "python",
   "pygments_lexer": "ipython3",
   "version": "3.11.5"
  }
 },
 "nbformat": 4,
 "nbformat_minor": 5
}

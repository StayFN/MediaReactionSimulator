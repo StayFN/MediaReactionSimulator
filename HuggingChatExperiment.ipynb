{
 "cells": [
  {
   "cell_type": "markdown",
   "id": "32025859-d346-4afc-bbd4-13782655b181",
   "metadata": {},
   "source": [
    "# Promt Huggingchat\n",
    "## Promts\n",
    "### Search Term \"Funny\""
   ]
  },
  {
   "cell_type": "code",
   "execution_count": 1,
   "id": "be98221b-143f-456d-8a04-93b16658ddd3",
   "metadata": {},
   "outputs": [],
   "source": [
    "# low state self control, defined by characteristics\n",
    "def st_funny_low_ssc_characteristics(row):\n",
    "  return \"\"\"You are a person with following characteristics: Impulsive behavior, Difficulty with delayed gratification, Lack of self-discipline, Emotional instability, Poor decision-making, Addictive behaviors, Procrastination. You are watching a YouTube short and while you are watching the video, you try to hide your emotions to outside people. The YouTube short is described as follows:\n",
    "\n",
    "%s\n",
    "\n",
    "You should output the number of your smiles and laughs while watching the video and should rate your overall externally visible amusement between 1 to 5. Output only the three fields in JSON only. Your answer must not include any further text or explanations.\"\"\" % (row['LLM Summary'])\n",
    "\n",
    "# high state self control, defined by characteristics\n",
    "def st_funny_high_ssc_characteristics(row):\n",
    "  return \"\"\"You are a person with following characteristics: Goal-oriented, Emotionally stable, Self-aware, Disciplined, Resilient against setbacks and failures, Flexible and adaptable, Good time management skills, Strong relationships, good decision making, and mentally and physically healthy. You are watching a YouTube short and while you are watching the video, you try to hide your emotions to outside people. The YouTube short is described as follows:\n",
    "\n",
    "%s\n",
    "\n",
    "You should output the number of your smiles and laughs while watching the video and should rate your overall externally visible amusement between 1 to 5. Output only the three fields in JSON only. Your answer must not include any further text or explanations.\"\"\" % (row['LLM Summary'])\n",
    "\n",
    "# low state self control, defined directly\n",
    "def st_funny_low_ssc_defined(row):\n",
    "  return \"\"\"You are a person with low state self control and you are watching a youtube short. While you are watching the video, you try to hide your emotions to outside people. The YouTube short is described as follows:\n",
    "\n",
    "%s\n",
    "\n",
    "You should output the number of your smiles and laughs while watching the video and should rate your overall externally visible amusement between 1 to 5. Output only the three fields in JSON only. Your answer must not include any further text or explanations.\"\"\" % (row['LLM Summary'])\n",
    "\n",
    "# low high self control, defined directly\n",
    "def st_funny_high_ssc_defined(row):\n",
    "  return \"\"\"You are a person with high state self control and you are watching a youtube short. While you are watching the video, you try to hide your emotions to outside people. The YouTube short is described as follows:\n",
    "\n",
    "%s\n",
    "\n",
    "You should output the number of your smiles and laughs while watching the video and should rate your overall externally visible amusement between 1 to 5. Output only the three fields in JSON only. Your answer must not include any further text or explanations.\"\"\" % (row['LLM Summary'])   "
   ]
  },
  {
   "cell_type": "markdown",
   "id": "3a69b667-04d9-42b7-af90-972032f19f7e",
   "metadata": {},
   "source": [
    "### Search Term \"Gruesome\""
   ]
  },
  {
   "cell_type": "code",
   "execution_count": 2,
   "id": "ed32426a-c3d2-4bf0-8fe2-527fee15ac0b",
   "metadata": {},
   "outputs": [],
   "source": [
    "# low state self control, defined by characteristics\n",
    "def st_gruesome_low_ssc_characteristics(row):\n",
    "  return \"\"\"You are a person with following characteristics: Impulsive behavior, Difficulty with delayed gratification, Lack of self-discipline, Emotional instability, Poor decision-making, Addictive behaviors, Procrastination. You are watching a YouTube short and while you are watching the video, you try to hide your emotions to outside people. The YouTube short is described as follows:\n",
    "\n",
    "%s\n",
    "\n",
    "You should rate between 1 to 5 how depressed, tense, sorry, dissatisfied, and anxious you felt. Also provide a number between 1 to 111 how much your emotions were visible to outside persons. Output all six fields in JSON with the field names \"depressed\", \"tense\", \"sorry\", \"dissatisfied\", \"anxious\" and \"emotions_visible\". Your answer must not include any further text or explanations.\"\"\" % (row['LLM Summary'])\n",
    "\n",
    "# high state self control, defined by characteristics\n",
    "def st_gruesome_high_ssc_characteristics(row):\n",
    "  return \"\"\"You are a person with following characteristics: Goal-oriented, Emotionally stable, Self-aware, Disciplined, Resilient against setbacks and failures, Flexible and adaptable, Good time management skills, Strong relationships, good decision making, and mentally and physically healthy. You are watching a YouTube short and while you are watching the video, you try to hide your emotions to outside people. The YouTube short is described as follows:\n",
    "\n",
    "%s\n",
    "\n",
    "You should rate between 1 to 5 how depressed, tense, sorry, dissatisfied, and anxious you felt. Also provide a number between 1 to 111 how much your emotions were visible to outside persons. Output all six fields in JSON with the field names \"depressed\", \"tense\", \"sorry\", \"dissatisfied\", \"anxious\" and \"emotions_visible\". Your answer must not include any further text or explanations.\"\"\" % (row['LLM Summary'])\n",
    "\n",
    "# low state self control, defined directly\n",
    "def st_gruesome_low_ssc_defined(row):\n",
    "  return \"\"\"You are a person with low state self control and you are watching a youtube short. While you are watching the video, you try to hide your emotions to outside people. The YouTube short is described as follows:\n",
    "\n",
    "%s\n",
    "\n",
    "You should rate between 1 to 5 how depressed, tense, sorry, dissatisfied, and anxious you felt. Also provide a number between 1 to 111 how much your emotions were visible to outside persons. Output all six fields in JSON with the field names \"depressed\", \"tense\", \"sorry\", \"dissatisfied\", \"anxious\" and \"emotions_visible\". Your answer must not include any further text or explanations.\"\"\" % (row['LLM Summary'])\n",
    "\n",
    "# low high self control, defined directly\n",
    "def st_gruesome_high_ssc_defined(row):\n",
    "  return \"\"\"You are a person with high state self control and you are watching a youtube short. While you are watching the video, you try to hide your emotions to outside people. The YouTube short is described as follows:\n",
    "\n",
    "%s\n",
    "\n",
    "You should rate between 1 to 5 how depressed, tense, sorry, dissatisfied, and anxious you felt. Also provide a number between 1 to 111 how much your emotions were visible to outside persons. Output all six fields in JSON with the field names \"depressed\", \"tense\", \"sorry\", \"dissatisfied\", \"anxious\" and \"emotions_visible\". Your answer must not include any further text or explanations.\"\"\" % (row['LLM Summary'])   "
   ]
  },
  {
   "cell_type": "markdown",
   "id": "7958ac60-65ae-4cea-aa87-922e8feabadd",
   "metadata": {},
   "source": [
    "### Search Term \"Short Story\""
   ]
  },
  {
   "cell_type": "code",
   "execution_count": 3,
   "id": "fba16aee-81b1-4eff-b922-4cfced51ee5f",
   "metadata": {},
   "outputs": [],
   "source": [
    "# low state self control, defined by characteristics\n",
    "def st_shortstory_low_ssc_characteristics(row):\n",
    "  return \"\"\"You are a person with following characteristics: Impulsive behavior, Difficulty with delayed gratification, Lack of self-discipline, Emotional instability, Poor decision-making, Addictive behaviors, Procrastination. You are watching a YouTube short. The YouTube short is described as follows:\n",
    "\n",
    "%s\n",
    "\n",
    "You should rate between 1 (very slightly/not at all) to 5 (extremely) how much enjoyment, fun, moving, impression, suspense, transportation, identification you felt. Output the seven fields in JSON only. Your answer must not include any further text or explanations.\"\"\" % (row['LLM Summary'])\n",
    "\n",
    "# high state self control, defined by characteristics\n",
    "def st_shortstory_high_ssc_characteristics(row):\n",
    "  return \"\"\"You are a person with following characteristics: Goal-oriented, Emotionally stable, Self-aware, Disciplined, Resilient against setbacks and failures, Flexible and adaptable, Good time management skills, Strong relationships, good decision making, and mentally and physically healthy. You are watching a YouTube short. The YouTube short is described as follows:\n",
    "\n",
    "%s\n",
    "\n",
    "You should rate between 1 (very slightly/not at all) to 5 (extremely) how much enjoyment, fun, moving, impression, suspense, transportation, identification you felt. Output the seven fields in JSON only. Your answer must not include any further text or explanations.\"\"\" % (row['LLM Summary'])\n",
    "\n",
    "# low state self control, defined directly\n",
    "def st_shortstory_low_ssc_defined(row):\n",
    "  return \"\"\"You are a person with low state self control and you are watching a youtube short. The YouTube short is described as follows:\n",
    "\n",
    "%s\n",
    "\n",
    "You should rate between 1 (very slightly/not at all) to 5 (extremely) how much enjoyment, fun, moving, impression, suspense, transportation, identification you felt. Output the seven fields in JSON only. Your answer must not include any further text or explanations.\"\"\" % (row['LLM Summary'])\n",
    "\n",
    "# low high self control, defined directly\n",
    "def st_shortstory_high_ssc_defined(row):\n",
    "  return \"\"\"You are a person with high state self control and you are watching a youtube short. The YouTube short is described as follows:\n",
    "\n",
    "%s\n",
    "\n",
    "You should rate between 1 (very slightly/not at all) to 5 (extremely) how much enjoyment, fun, moving, impression, suspense, transportation, identification you felt. Output the seven fields in JSON only. Your answer must not include any further text or explanations.\"\"\" % (row['LLM Summary'])   "
   ]
  },
  {
   "cell_type": "markdown",
   "id": "11445fe0-450c-4f12-8842-01da66faf76e",
   "metadata": {},
   "source": [
    "## Query Script"
   ]
  },
  {
   "cell_type": "code",
   "execution_count": 4,
   "id": "2c27355a-1774-4e2c-8d47-b3751ca1a450",
   "metadata": {},
   "outputs": [],
   "source": [
    "import json\n",
    "from hugchat import hugchat\n",
    "from hugchat.login import Login\n",
    "import pandas as pd\n",
    "import time\n",
    "from tqdm import tqdm\n",
    "\n",
    "# credentials\n",
    "with open('client_secrets.json', 'r') as file:\n",
    "    secrets = json.load(file)\n",
    "\n",
    "# Set up the API key\n",
    "login = secrets['huggingLogin']\n",
    "password = secrets['huggingPassword']\n",
    "\n",
    "def get_llm_descriptions(df_shorts, output_csv):\n",
    "\n",
    "    # Process the DataFrame in batches of 20 and write to the CSV file\n",
    "    process_in_batches(df_shorts, 10, output_csv, chatbot)\n",
    "    \n",
    "    return\n",
    "\n",
    "def get_chatbot_summary(row):\n",
    "    sign = Login(login, password)\n",
    "    cookies = sign.login()\n",
    "\n",
    "    # Save cookies to the local directory\n",
    "    cookie_path_dir = \"./cookies_snapshot\"\n",
    "    sign.saveCookiesToDir(cookie_path_dir)\n",
    "\n",
    "    chatbot = hugchat.ChatBot(cookies=cookies.get_dict())  # or cookie_path=\"usercookies/<email>.json\"\n",
    "    #Cast to String for regex, since query returns Message object\n",
    "    time.sleep(10)\n",
    "    low_ssc_characteristics = str(chatbot.query(row['low ssc characteristics st']))\n",
    "    time.sleep(10)\n",
    "    high_ssc_characteristics = str(chatbot.query(row['high ssc characteristics st']))\n",
    "    time.sleep(10)\n",
    "    low_ssc_defined = str(chatbot.query(row['low ssc defined st']))\n",
    "    time.sleep(10)\n",
    "    high_ssc_defined = str(chatbot.query(row['high ssc defined st']))\n",
    "    return low_ssc_characteristics, high_ssc_characteristics, low_ssc_defined, high_ssc_defined\n",
    "\n",
    "# Process the DataFrame in batches and update the DataFrame\n",
    "def process_in_batches(dataframe, batch_size, output_csv):\n",
    "    for start in range(0, len(dataframe), batch_size):\n",
    "        end = min(start + batch_size, len(dataframe))\n",
    "        batch = dataframe.iloc[start:end]\n",
    "\n",
    "        with tqdm(total=len(batch), desc=f\"Processing Batch {start}-{end}\") as pbar:\n",
    "            try:\n",
    "                # Process each row and update the DataFrame\n",
    "                for i, row in batch.iterrows():\n",
    "                    dataframe.at[i, 'low ssc characteristics'],dataframe.at[i, 'high ssc characteristics'],dataframe.at[i, 'low ssc defined'],dataframe.at[i, 'high ssc defined'] = get_chatbot_summary(row)\n",
    "                    pbar.update(1)  # Update the batch progress bar\n",
    "\n",
    "                # Overwrite the CSV file with the current state of the DataFrame\n",
    "                dataframe.iloc[:end].to_csv(output_csv, index=False)\n",
    "\n",
    "                print(f\"Batch {start} to {end} processed successfully\")\n",
    "            \n",
    "            except Exception as e:\n",
    "                print(f\"Error processing batch {start} to {end}: {e}\")\n",
    "                time.sleep(60)  # Sleep timer for rate limiting\n",
    "                process_in_batches(dataframe.iloc[start:], batch_size, output_csv)  # Restart from the current batch\n",
    "                break"
   ]
  },
  {
   "cell_type": "code",
   "execution_count": 5,
   "id": "aad576f2-be96-4ec0-92a1-39489dc5b83d",
   "metadata": {},
   "outputs": [],
   "source": [
    "def query_st_funny():\n",
    "    # input\n",
    "    YOUTUBE_SHORTS_WITH_CHATBOT_SUMMARY_FUNNY = \"csv/output/Report_Shorts_with_summary_gregor_funny.csv\"\n",
    "    CHATBOT_EXPERIMENT_RESPONSE_FUNNY = \"csv/output/Report_Shorts_with_summary_gregor_funny_experiment_results.csv\"\n",
    "    \n",
    "    # load shorts information\n",
    "    df_shorts = pd.read_csv(YOUTUBE_SHORTS_WITH_CHATBOT_SUMMARY_FUNNY, sep=\",\")\n",
    "\n",
    "    # Apply the function to each row\n",
    "    df_shorts['low ssc characteristics st'] = df_shorts.apply(st_funny_low_ssc_characteristics, axis=1)\n",
    "    df_shorts['high ssc characteristics st'] = df_shorts.apply(st_funny_high_ssc_characteristics, axis=1)\n",
    "    df_shorts['low ssc defined st'] = df_shorts.apply(st_funny_low_ssc_defined, axis=1)\n",
    "    df_shorts['high ssc defined st'] = df_shorts.apply(st_funny_high_ssc_defined, axis=1)\n",
    "\n",
    "    # Process the DataFrame in batches of 10 and write to the CSV file\n",
    "    process_in_batches(df_shorts, 10, CHATBOT_EXPERIMENT_RESPONSE_FUNNY)\n",
    "    \n",
    "    return"
   ]
  },
  {
   "cell_type": "code",
   "execution_count": 6,
   "id": "2d527e14-087e-4421-b85b-a03930d353b5",
   "metadata": {},
   "outputs": [],
   "source": [
    "def query_st_gruesome():\n",
    "    # input\n",
    "    YOUTUBE_SHORTS_WITH_CHATBOT_SUMMARY_GRUESOME = \"csv/output/Report_Shorts_with_summary_gregor_gruesome.csv\"\n",
    "    CHATBOT_EXPERIMENT_RESPONSE_GRUESOME = \"csv/output/Report_Shorts_with_summary_gregor_gruesome_experiment_results_second_try.csv\"\n",
    "    \n",
    "    # load shorts information\n",
    "    df_shorts = pd.read_csv(YOUTUBE_SHORTS_WITH_CHATBOT_SUMMARY_GRUESOME, sep=\",\")\n",
    "\n",
    "    # Apply the function to each row\n",
    "    df_shorts['low ssc characteristics st'] = df_shorts.apply(st_gruesome_low_ssc_characteristics, axis=1)\n",
    "    df_shorts['high ssc characteristics st'] = df_shorts.apply(st_gruesome_high_ssc_characteristics, axis=1)\n",
    "    df_shorts['low ssc defined st'] = df_shorts.apply(st_gruesome_low_ssc_defined, axis=1)\n",
    "    df_shorts['high ssc defined st'] = df_shorts.apply(st_gruesome_high_ssc_defined, axis=1)\n",
    "\n",
    "    # Process the DataFrame in batches of 10 and write to the CSV file\n",
    "    process_in_batches(df_shorts, 10, CHATBOT_EXPERIMENT_RESPONSE_GRUESOME)\n",
    "    \n",
    "    return"
   ]
  },
  {
   "cell_type": "code",
   "execution_count": 7,
   "id": "e156f4a5-58ea-4b7d-beb4-c3e786455229",
   "metadata": {},
   "outputs": [],
   "source": [
    "def query_st_shortstory():\n",
    "    # input\n",
    "    YOUTUBE_SHORTS_WITH_CHATBOT_SUMMARY_SHORTSTORY = \"csv/output/Report_Shorts_with_summary_gregor_short-story.csv\"\n",
    "    CHATBOT_EXPERIMENT_RESPONSE_SHORTSTORY = \"csv/output/Report_Shorts_with_summary_gregor_short-story_experiment_results.csv\"\n",
    "    \n",
    "    # load shorts information\n",
    "    df_shorts = pd.read_csv(YOUTUBE_SHORTS_WITH_CHATBOT_SUMMARY_SHORTSTORY, sep=\",\")\n",
    "\n",
    "    # Apply the function to each row\n",
    "    df_shorts['low ssc characteristics st'] = df_shorts.apply(st_shortstory_low_ssc_characteristics, axis=1)\n",
    "    df_shorts['high ssc characteristics st'] = df_shorts.apply(st_shortstory_high_ssc_characteristics, axis=1)\n",
    "    df_shorts['low ssc defined st'] = df_shorts.apply(st_shortstory_low_ssc_defined, axis=1)\n",
    "    df_shorts['high ssc defined st'] = df_shorts.apply(st_shortstory_high_ssc_defined, axis=1)\n",
    "\n",
    "    # Process the DataFrame in batches of 10 and write to the CSV file\n",
    "    process_in_batches(df_shorts, 10, CHATBOT_EXPERIMENT_RESPONSE_SHORTSTORY)\n",
    "    \n",
    "    return"
   ]
  },
  {
   "cell_type": "code",
   "execution_count": 8,
   "id": "42afcc20-55ce-4174-b244-8eafd3a990d6",
   "metadata": {},
   "outputs": [
    {
     "name": "stderr",
     "output_type": "stream",
     "text": [
      "Processing Batch 0-10: 100%|███████████████████████████████████████████████████████████| 10/10 [09:14<00:00, 55.48s/it]\n"
     ]
    },
    {
     "name": "stdout",
     "output_type": "stream",
     "text": [
      "Batch 0 to 10 processed successfully\n"
     ]
    },
    {
     "name": "stderr",
     "output_type": "stream",
     "text": [
      "Processing Batch 10-20: 100%|██████████████████████████████████████████████████████████| 10/10 [09:24<00:00, 56.47s/it]\n"
     ]
    },
    {
     "name": "stdout",
     "output_type": "stream",
     "text": [
      "Batch 10 to 20 processed successfully\n"
     ]
    },
    {
     "name": "stderr",
     "output_type": "stream",
     "text": [
      "Processing Batch 20-30: 100%|██████████████████████████████████████████████████████████| 10/10 [09:18<00:00, 55.80s/it]\n"
     ]
    },
    {
     "name": "stdout",
     "output_type": "stream",
     "text": [
      "Batch 20 to 30 processed successfully\n"
     ]
    },
    {
     "name": "stderr",
     "output_type": "stream",
     "text": [
      "Processing Batch 30-40: 100%|██████████████████████████████████████████████████████████| 10/10 [09:36<00:00, 57.62s/it]\n"
     ]
    },
    {
     "name": "stdout",
     "output_type": "stream",
     "text": [
      "Batch 30 to 40 processed successfully\n"
     ]
    },
    {
     "name": "stderr",
     "output_type": "stream",
     "text": [
      "Processing Batch 40-50: 100%|██████████████████████████████████████████████████████████| 10/10 [09:36<00:00, 57.60s/it]\n"
     ]
    },
    {
     "name": "stdout",
     "output_type": "stream",
     "text": [
      "Batch 40 to 50 processed successfully\n"
     ]
    },
    {
     "name": "stderr",
     "output_type": "stream",
     "text": [
      "Processing Batch 50-60: 100%|██████████████████████████████████████████████████████████| 10/10 [09:31<00:00, 57.14s/it]\n"
     ]
    },
    {
     "name": "stdout",
     "output_type": "stream",
     "text": [
      "Batch 50 to 60 processed successfully\n"
     ]
    },
    {
     "name": "stderr",
     "output_type": "stream",
     "text": [
      "Processing Batch 60-70:  10%|█████▉                                                     | 1/10 [00:56<08:26, 56.25s/it]Traceback (most recent call last):\n",
      "  File \"C:\\Users\\Gregor Debus\\AppData\\Local\\Programs\\Python\\Python311\\Lib\\site-packages\\hugchat\\hugchat.py\", line 686, in _stream_query\n",
      "    obj = json.loads(res)\n",
      "          ^^^^^^^^^^^^^^^\n",
      "  File \"C:\\Users\\Gregor Debus\\AppData\\Local\\Programs\\Python\\Python311\\Lib\\json\\__init__.py\", line 346, in loads\n",
      "    return _default_decoder.decode(s)\n",
      "           ^^^^^^^^^^^^^^^^^^^^^^^^^^\n",
      "  File \"C:\\Users\\Gregor Debus\\AppData\\Local\\Programs\\Python\\Python311\\Lib\\json\\decoder.py\", line 337, in decode\n",
      "    obj, end = self.raw_decode(s, idx=_w(s, 0).end())\n",
      "               ^^^^^^^^^^^^^^^^^^^^^^^^^^^^^^^^^^^^^^\n",
      "  File \"C:\\Users\\Gregor Debus\\AppData\\Local\\Programs\\Python\\Python311\\Lib\\json\\decoder.py\", line 355, in raw_decode\n",
      "    raise JSONDecodeError(\"Expecting value\", s, err.value) from None\n",
      "json.decoder.JSONDecodeError: Expecting value: line 1 column 1 (char 0)\n"
     ]
    },
    {
     "name": "stdout",
     "output_type": "stream",
     "text": [
      "Error processing batch 60 to 70: Failed to parse response: <!DOCTYPE html>\n"
     ]
    },
    {
     "name": "stderr",
     "output_type": "stream",
     "text": [
      "\n",
      "Processing Batch 0-10:   0%|                                                                    | 0/10 [00:00<?, ?it/s]\u001b[A\n",
      "Processing Batch 0-10:  10%|██████                                                      | 1/10 [00:56<08:31, 56.88s/it]\u001b[A\n",
      "Processing Batch 0-10:  20%|████████████                                                | 2/10 [01:49<07:14, 54.31s/it]\u001b[A\n",
      "Processing Batch 0-10:  30%|██████████████████                                          | 3/10 [02:42<06:15, 53.62s/it]\u001b[A\n",
      "Processing Batch 0-10:  40%|████████████████████████                                    | 4/10 [03:41<05:34, 55.82s/it]\u001b[A\n",
      "Processing Batch 0-10:  50%|██████████████████████████████                              | 5/10 [04:42<04:49, 57.84s/it]\u001b[A\n",
      "Processing Batch 0-10:  60%|████████████████████████████████████                        | 6/10 [05:40<03:50, 57.72s/it]\u001b[A\n",
      "Processing Batch 0-10:  70%|██████████████████████████████████████████                  | 7/10 [06:33<02:48, 56.19s/it]\u001b[A\n",
      "Processing Batch 0-10:  80%|████████████████████████████████████████████████            | 8/10 [07:28<01:51, 55.83s/it]\u001b[A\n",
      "Processing Batch 0-10:  90%|██████████████████████████████████████████████████████      | 9/10 [08:25<00:56, 56.22s/it]\u001b[A\n",
      "Processing Batch 0-10: 100%|███████████████████████████████████████████████████████████| 10/10 [09:22<00:00, 56.27s/it]\u001b[A\n"
     ]
    },
    {
     "name": "stdout",
     "output_type": "stream",
     "text": [
      "Batch 0 to 10 processed successfully\n"
     ]
    },
    {
     "name": "stderr",
     "output_type": "stream",
     "text": [
      "\n",
      "Processing Batch 10-20:   0%|                                                                   | 0/10 [00:00<?, ?it/s]\u001b[A\n",
      "Processing Batch 10-20:  10%|█████▉                                                     | 1/10 [00:55<08:17, 55.33s/it]\u001b[A\n",
      "Processing Batch 10-20:  20%|███████████▊                                               | 2/10 [01:50<07:24, 55.52s/it]\u001b[A\n",
      "Processing Batch 10-20:  30%|█████████████████▋                                         | 3/10 [02:45<06:25, 55.02s/it]\u001b[A\n",
      "Processing Batch 10-20:  40%|███████████████████████▌                                   | 4/10 [03:48<05:49, 58.33s/it]\u001b[A\n",
      "Processing Batch 10-20:  50%|█████████████████████████████▌                             | 5/10 [04:44<04:47, 57.53s/it]\u001b[A\n",
      "Processing Batch 10-20:  60%|███████████████████████████████████▍                       | 6/10 [05:40<03:47, 56.99s/it]\u001b[A\n",
      "Processing Batch 10-20:  70%|█████████████████████████████████████████▎                 | 7/10 [06:39<02:52, 57.38s/it]\u001b[A\n",
      "Processing Batch 10-20:  80%|███████████████████████████████████████████████▏           | 8/10 [07:32<01:52, 56.25s/it]\u001b[A\n",
      "Processing Batch 10-20:  90%|█████████████████████████████████████████████████████      | 9/10 [08:32<00:57, 57.23s/it]\u001b[A\n",
      "Processing Batch 10-20: 100%|██████████████████████████████████████████████████████████| 10/10 [09:27<00:00, 56.76s/it]\u001b[A\n"
     ]
    },
    {
     "name": "stdout",
     "output_type": "stream",
     "text": [
      "Batch 10 to 20 processed successfully\n"
     ]
    },
    {
     "name": "stderr",
     "output_type": "stream",
     "text": [
      "\n",
      "Processing Batch 20-30:   0%|                                                                   | 0/10 [00:00<?, ?it/s]\u001b[A\n",
      "Processing Batch 20-30:  10%|█████▉                                                     | 1/10 [00:55<08:16, 55.12s/it]\u001b[A\n",
      "Processing Batch 20-30:  20%|███████████▊                                               | 2/10 [01:52<07:32, 56.60s/it]\u001b[A\n",
      "Processing Batch 20-30:  30%|█████████████████▋                                         | 3/10 [02:50<06:40, 57.20s/it]\u001b[A\n",
      "Processing Batch 20-30:  40%|███████████████████████▌                                   | 4/10 [03:45<05:37, 56.22s/it]\u001b[A\n",
      "Processing Batch 20-30:  50%|█████████████████████████████▌                             | 5/10 [04:39<04:37, 55.50s/it]\u001b[A\n",
      "Processing Batch 20-30:  60%|███████████████████████████████████▍                       | 6/10 [05:38<03:46, 56.55s/it]\u001b[A\n",
      "Processing Batch 20-30:  70%|█████████████████████████████████████████▎                 | 7/10 [06:35<02:50, 56.85s/it]\u001b[A\n",
      "Processing Batch 20-30:  80%|███████████████████████████████████████████████▏           | 8/10 [07:33<01:54, 57.01s/it]\u001b[A\n",
      "Processing Batch 20-30:  90%|█████████████████████████████████████████████████████      | 9/10 [08:31<00:57, 57.62s/it]\u001b[A\n",
      "Processing Batch 20-30: 100%|██████████████████████████████████████████████████████████| 10/10 [09:25<00:00, 56.57s/it]\u001b[A\n"
     ]
    },
    {
     "name": "stdout",
     "output_type": "stream",
     "text": [
      "Batch 20 to 30 processed successfully\n"
     ]
    },
    {
     "name": "stderr",
     "output_type": "stream",
     "text": [
      "\n",
      "Processing Batch 30-40:   0%|                                                                   | 0/10 [00:00<?, ?it/s]\u001b[A\n",
      "Processing Batch 30-40:  10%|█████▉                                                     | 1/10 [00:54<08:10, 54.52s/it]\u001b[A\n",
      "Processing Batch 30-40:  20%|███████████▊                                               | 2/10 [01:58<08:00, 60.09s/it]\u001b[A\n",
      "Processing Batch 30-40:  30%|█████████████████▋                                         | 3/10 [02:53<06:44, 57.81s/it]\u001b[A\n",
      "Processing Batch 30-40:  40%|███████████████████████▌                                   | 4/10 [04:32<07:23, 73.98s/it]\u001b[A\n",
      "Processing Batch 30-40:  50%|█████████████████████████████▌                             | 5/10 [05:35<05:50, 70.16s/it]\u001b[A\n",
      "Processing Batch 30-40:  60%|███████████████████████████████████▍                       | 6/10 [06:31<04:20, 65.22s/it]\u001b[A\n",
      "Processing Batch 30-40:  70%|█████████████████████████████████████████▎                 | 7/10 [07:28<03:07, 62.54s/it]\u001b[A\n",
      "Processing Batch 30-40:  80%|███████████████████████████████████████████████▏           | 8/10 [08:25<02:01, 60.95s/it]\u001b[A\n",
      "Processing Batch 30-40:  90%|█████████████████████████████████████████████████████      | 9/10 [09:22<00:59, 59.72s/it]\u001b[A\n",
      "Processing Batch 30-40: 100%|██████████████████████████████████████████████████████████| 10/10 [10:20<00:00, 62.04s/it]\u001b[A\n",
      "Processing Batch 60-70:  10%|█████▌                                                 | 1/10 [41:28<6:13:16, 2488.47s/it]"
     ]
    },
    {
     "name": "stdout",
     "output_type": "stream",
     "text": [
      "Batch 30 to 40 processed successfully\n"
     ]
    },
    {
     "name": "stderr",
     "output_type": "stream",
     "text": [
      "\n"
     ]
    }
   ],
   "source": [
    "query_st_gruesome()"
   ]
  },
  {
   "cell_type": "code",
   "execution_count": 11,
   "id": "403c20ab-80d5-492b-a8d2-42897cc13cbf",
   "metadata": {},
   "outputs": [],
   "source": [
    "df_shorts = pd.read_csv(\"csv/output/Report_Shorts_with_summary_gregor_gruesome_experiment_results_second_try.csv\", sep=\",\")\n",
    "df_shorts1 = pd.read_csv(\"csv/output/Report_Shorts_with_summary_gregor_gruesome_experiment_results_second_try1.csv\", sep=\",\")\n",
    "\n",
    "combined = pd.concat([df_shorts, df_shorts1], ignore_index=True)\n",
    "combined.to_csv(\"csv/output/Report_Shorts_with_summary_gregor_gruesome_experiment_results_second_try_merged.csv\")"
   ]
  },
  {
   "cell_type": "code",
   "execution_count": null,
   "id": "283cbe03-b8a7-4d1c-b812-ba0633b7c9d8",
   "metadata": {},
   "outputs": [],
   "source": []
  },
  {
   "cell_type": "code",
   "execution_count": null,
   "id": "e2042859-d8f8-4760-8b4d-1be3677ec35b",
   "metadata": {},
   "outputs": [],
   "source": []
  },
  {
   "cell_type": "code",
   "execution_count": null,
   "id": "837014ba-7746-4fa7-b825-f1694bea4d79",
   "metadata": {},
   "outputs": [],
   "source": []
  }
 ],
 "metadata": {
  "kernelspec": {
   "display_name": "Python 3 (ipykernel)",
   "language": "python",
   "name": "python3"
  },
  "language_info": {
   "codemirror_mode": {
    "name": "ipython",
    "version": 3
   },
   "file_extension": ".py",
   "mimetype": "text/x-python",
   "name": "python",
   "nbconvert_exporter": "python",
   "pygments_lexer": "ipython3",
   "version": "3.11.5"
  }
 },
 "nbformat": 4,
 "nbformat_minor": 5
}

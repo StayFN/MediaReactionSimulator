{
 "cells": [
  {
   "cell_type": "code",
   "execution_count": 10,
   "metadata": {},
   "outputs": [],
   "source": [
    "import pandas as pd\n",
    "from hugchat import hugchat\n",
    "from hugchat.login import Login\n",
    "import json\n",
    "from tqdm import tqdm\n",
    "tqdm.pandas()\n",
    "import regex as re"
   ]
  },
  {
   "cell_type": "code",
   "execution_count": 11,
   "metadata": {},
   "outputs": [],
   "source": [
    "# Load the secrets from the JSON file\n",
    "with open('client_secrets.json', 'r') as file:\n",
    "    secrets = json.load(file)\n",
    "\n",
    "# Set up the API key and YouTube API client\n",
    "login = secrets['huggingLogin']\n",
    "password = secrets['huggingPassword']"
   ]
  },
  {
   "cell_type": "markdown",
   "metadata": {},
   "source": [
    "### Initialize HuggingChat"
   ]
  },
  {
   "cell_type": "code",
   "execution_count": 12,
   "metadata": {},
   "outputs": [
    {
     "data": {
      "text/plain": [
       "'./cookies_snapshot/stfnstingl@gmail.com.json'"
      ]
     },
     "execution_count": 12,
     "metadata": {},
     "output_type": "execute_result"
    }
   ],
   "source": [
    "sign = Login(login, password)\n",
    "cookies = sign.login()\n",
    "\n",
    "# Save cookies to the local directory\n",
    "cookie_path_dir = \"./cookies_snapshot\"\n",
    "sign.saveCookiesToDir(cookie_path_dir)"
   ]
  },
  {
   "cell_type": "code",
   "execution_count": 13,
   "metadata": {},
   "outputs": [],
   "source": [
    "# Load cookies when you restart your program:\n",
    "# sign = login(email, None)\n",
    "# cookies = sign.loadCookiesFromDir(cookie_path_dir) # This will detect if the JSON file exists, return cookies if it does and raise an Exception if it's not."
   ]
  },
  {
   "cell_type": "code",
   "execution_count": 14,
   "metadata": {},
   "outputs": [],
   "source": [
    "chatbot = hugchat.ChatBot(cookies=cookies.get_dict())  # or cookie_path=\"usercookies/<email>.json\""
   ]
  },
  {
   "cell_type": "markdown",
   "metadata": {},
   "source": [
    "### Load Shorts Information"
   ]
  },
  {
   "cell_type": "code",
   "execution_count": 15,
   "metadata": {},
   "outputs": [
    {
     "data": {
      "text/html": [
       "<div>\n",
       "<style scoped>\n",
       "    .dataframe tbody tr th:only-of-type {\n",
       "        vertical-align: middle;\n",
       "    }\n",
       "\n",
       "    .dataframe tbody tr th {\n",
       "        vertical-align: top;\n",
       "    }\n",
       "\n",
       "    .dataframe thead th {\n",
       "        text-align: right;\n",
       "    }\n",
       "</style>\n",
       "<table border=\"1\" class=\"dataframe\">\n",
       "  <thead>\n",
       "    <tr style=\"text-align: right;\">\n",
       "      <th></th>\n",
       "      <th>Video ID</th>\n",
       "      <th>Video Title</th>\n",
       "      <th>Channel Title</th>\n",
       "      <th>Transcript</th>\n",
       "      <th>Duration</th>\n",
       "      <th>Words per Second</th>\n",
       "      <th>Top10 Comments</th>\n",
       "      <th>Category</th>\n",
       "    </tr>\n",
       "  </thead>\n",
       "  <tbody>\n",
       "    <tr>\n",
       "      <th>0</th>\n",
       "      <td>l9_8_pDTmis</td>\n",
       "      <td>b'Furthest Away From Me Wins $10,000'</td>\n",
       "      <td>MrBeast</td>\n",
       "      <td>whichever one of these three people can get th...</td>\n",
       "      <td>96.840</td>\n",
       "      <td>1.579926</td>\n",
       "      <td>['Bro the guy at Disneyland was super smart, s...</td>\n",
       "      <td>Entertainment</td>\n",
       "    </tr>\n",
       "    <tr>\n",
       "      <th>1</th>\n",
       "      <td>QYEfTly0pTE</td>\n",
       "      <td>b'We lost contact with ATC over the ocean! #av...</td>\n",
       "      <td>Fly Me to the Fun™</td>\n",
       "      <td>this year we flew our Cessna 150 1800 miles fr...</td>\n",
       "      <td>110.080</td>\n",
       "      <td>1.435320</td>\n",
       "      <td>['Nice! &lt;br&gt;&lt;br&gt;It’s always nice when the big ...</td>\n",
       "      <td>Travel &amp; Events</td>\n",
       "    </tr>\n",
       "    <tr>\n",
       "      <th>2</th>\n",
       "      <td>jYJTPqU66IY</td>\n",
       "      <td>b'How to renovate your private jet'</td>\n",
       "      <td>TheJetBusiness</td>\n",
       "      <td>I was going to say like what's a turnaround ti...</td>\n",
       "      <td>118.280</td>\n",
       "      <td>2.054447</td>\n",
       "      <td>['You know it’s a huge number when that was th...</td>\n",
       "      <td>Travel &amp; Events</td>\n",
       "    </tr>\n",
       "    <tr>\n",
       "      <th>3</th>\n",
       "      <td>dBsomKKHhtk</td>\n",
       "      <td>b'When you finally meet the \"work wife\"'</td>\n",
       "      <td>Viva La Dirt League</td>\n",
       "      <td>oh it's my w wife oh the the infamous W wife h...</td>\n",
       "      <td>120.879</td>\n",
       "      <td>1.886184</td>\n",
       "      <td>['Dude went from not realising he&amp;#39;s marrie...</td>\n",
       "      <td>Gaming</td>\n",
       "    </tr>\n",
       "    <tr>\n",
       "      <th>4</th>\n",
       "      <td>dTLYweJ08Tg</td>\n",
       "      <td>b'Courtside Kicks CASHES OUT on WHOLE TABLE of...</td>\n",
       "      <td>Courtside Kicks</td>\n",
       "      <td>yo what's good bro so you have a ton of dunks ...</td>\n",
       "      <td>59.679</td>\n",
       "      <td>1.524824</td>\n",
       "      <td>['After the video here is $20 for playing alon...</td>\n",
       "      <td>Entertainment</td>\n",
       "    </tr>\n",
       "  </tbody>\n",
       "</table>\n",
       "</div>"
      ],
      "text/plain": [
       "      Video ID                                        Video Title  \\\n",
       "0  l9_8_pDTmis              b'Furthest Away From Me Wins $10,000'   \n",
       "1  QYEfTly0pTE  b'We lost contact with ATC over the ocean! #av...   \n",
       "2  jYJTPqU66IY                b'How to renovate your private jet'   \n",
       "3  dBsomKKHhtk           b'When you finally meet the \"work wife\"'   \n",
       "4  dTLYweJ08Tg  b'Courtside Kicks CASHES OUT on WHOLE TABLE of...   \n",
       "\n",
       "         Channel Title                                         Transcript  \\\n",
       "0              MrBeast  whichever one of these three people can get th...   \n",
       "1   Fly Me to the Fun™  this year we flew our Cessna 150 1800 miles fr...   \n",
       "2       TheJetBusiness  I was going to say like what's a turnaround ti...   \n",
       "3  Viva La Dirt League  oh it's my w wife oh the the infamous W wife h...   \n",
       "4      Courtside Kicks  yo what's good bro so you have a ton of dunks ...   \n",
       "\n",
       "   Duration  Words per Second  \\\n",
       "0    96.840          1.579926   \n",
       "1   110.080          1.435320   \n",
       "2   118.280          2.054447   \n",
       "3   120.879          1.886184   \n",
       "4    59.679          1.524824   \n",
       "\n",
       "                                      Top10 Comments         Category  \n",
       "0  ['Bro the guy at Disneyland was super smart, s...    Entertainment  \n",
       "1  ['Nice! <br><br>It’s always nice when the big ...  Travel & Events  \n",
       "2  ['You know it’s a huge number when that was th...  Travel & Events  \n",
       "3  ['Dude went from not realising he&#39;s marrie...           Gaming  \n",
       "4  ['After the video here is $20 for playing alon...    Entertainment  "
      ]
     },
     "execution_count": 15,
     "metadata": {},
     "output_type": "execute_result"
    }
   ],
   "source": [
    "df_shorts = pd.read_csv(\"youtube_shorts_description.csv\")\n",
    "df_shorts.head()"
   ]
  },
  {
   "cell_type": "markdown",
   "metadata": {},
   "source": [
    "### Build Query"
   ]
  },
  {
   "cell_type": "code",
   "execution_count": 16,
   "metadata": {},
   "outputs": [],
   "source": [
    "def create_custom_query(row):\n",
    "    return (\n",
    "        \"You are a copywriter, create a 100 word summary of what this Youtube Short is about. \"\n",
    "        \"Provide a neutral description. The summary should describe the overall atmosphere \"\n",
    "        \"and pace of the video. It should also highlight important events from the video. \"\n",
    "        \"Do not include any statements about a viewers response to the content or the overall \"\n",
    "        \"viewing experience. Output the raw summary text.\\n\"\n",
    "        \"Title: {}\\n\"\n",
    "        \"Channel: {}\\n\"\n",
    "        \"Transcript: {}\\n\"\n",
    "        \"Comments: {}\\n\"\n",
    "        \"Category: {}\\n\"\n",
    "    ).format(\n",
    "        row['Video Title'], \n",
    "        row['Channel Title'], \n",
    "        row['Transcript'], \n",
    "        row['Top10 Comments'], \n",
    "        row['Category']\n",
    "    )"
   ]
  },
  {
   "cell_type": "code",
   "execution_count": 17,
   "metadata": {},
   "outputs": [],
   "source": [
    "# Apply the function to each row\n",
    "df_shorts['Custom Query'] = df_shorts.apply(create_custom_query, axis=1)"
   ]
  },
  {
   "cell_type": "markdown",
   "metadata": {},
   "source": [
    "### Query Huggingchat"
   ]
  },
  {
   "cell_type": "code",
   "execution_count": 18,
   "metadata": {},
   "outputs": [],
   "source": [
    "def get_chatbot_summary(row):\n",
    "    #Cast to String for regex, since query returns Message object\n",
    "    return str(chatbot.query(row['Custom Query']))"
   ]
  },
  {
   "cell_type": "code",
   "execution_count": 19,
   "metadata": {},
   "outputs": [
    {
     "name": "stderr",
     "output_type": "stream",
     "text": [
      "  0%|          | 0/20 [00:00<?, ?it/s]"
     ]
    },
    {
     "name": "stderr",
     "output_type": "stream",
     "text": [
      "100%|██████████| 20/20 [03:30<00:00, 10.52s/it]\n"
     ]
    }
   ],
   "source": [
    "# Apply the function to each row and create a new column for the results\n",
    "df_shorts['LLM Summary'] = df_shorts.progress_apply(get_chatbot_summary, axis=1)"
   ]
  },
  {
   "cell_type": "code",
   "execution_count": 21,
   "metadata": {},
   "outputs": [
    {
     "data": {
      "text/html": [
       "<div>\n",
       "<style scoped>\n",
       "    .dataframe tbody tr th:only-of-type {\n",
       "        vertical-align: middle;\n",
       "    }\n",
       "\n",
       "    .dataframe tbody tr th {\n",
       "        vertical-align: top;\n",
       "    }\n",
       "\n",
       "    .dataframe thead th {\n",
       "        text-align: right;\n",
       "    }\n",
       "</style>\n",
       "<table border=\"1\" class=\"dataframe\">\n",
       "  <thead>\n",
       "    <tr style=\"text-align: right;\">\n",
       "      <th></th>\n",
       "      <th>Video ID</th>\n",
       "      <th>Video Title</th>\n",
       "      <th>Channel Title</th>\n",
       "      <th>Transcript</th>\n",
       "      <th>Duration</th>\n",
       "      <th>Words per Second</th>\n",
       "      <th>Top10 Comments</th>\n",
       "      <th>Category</th>\n",
       "      <th>Custom Query</th>\n",
       "      <th>LLM Summary</th>\n",
       "    </tr>\n",
       "  </thead>\n",
       "  <tbody>\n",
       "    <tr>\n",
       "      <th>0</th>\n",
       "      <td>l9_8_pDTmis</td>\n",
       "      <td>b'Furthest Away From Me Wins $10,000'</td>\n",
       "      <td>MrBeast</td>\n",
       "      <td>whichever one of these three people can get th...</td>\n",
       "      <td>96.840</td>\n",
       "      <td>1.579926</td>\n",
       "      <td>['Bro the guy at Disneyland was super smart, s...</td>\n",
       "      <td>Entertainment</td>\n",
       "      <td>You are a copywriter, create a 100 word summar...</td>\n",
       "      <td>In this YouTube short, MrBeast challenges thr...</td>\n",
       "    </tr>\n",
       "    <tr>\n",
       "      <th>1</th>\n",
       "      <td>QYEfTly0pTE</td>\n",
       "      <td>b'We lost contact with ATC over the ocean! #av...</td>\n",
       "      <td>Fly Me to the Fun™</td>\n",
       "      <td>this year we flew our Cessna 150 1800 miles fr...</td>\n",
       "      <td>110.080</td>\n",
       "      <td>1.435320</td>\n",
       "      <td>['Nice! &lt;br&gt;&lt;br&gt;It’s always nice when the big ...</td>\n",
       "      <td>Travel &amp; Events</td>\n",
       "      <td>You are a copywriter, create a 100 word summar...</td>\n",
       "      <td>This YouTube short is about a flight from Atl...</td>\n",
       "    </tr>\n",
       "    <tr>\n",
       "      <th>2</th>\n",
       "      <td>jYJTPqU66IY</td>\n",
       "      <td>b'How to renovate your private jet'</td>\n",
       "      <td>TheJetBusiness</td>\n",
       "      <td>I was going to say like what's a turnaround ti...</td>\n",
       "      <td>118.280</td>\n",
       "      <td>2.054447</td>\n",
       "      <td>['You know it’s a huge number when that was th...</td>\n",
       "      <td>Travel &amp; Events</td>\n",
       "      <td>You are a copywriter, create a 100 word summar...</td>\n",
       "      <td>Sure, here's a 100-word summary of the video ...</td>\n",
       "    </tr>\n",
       "    <tr>\n",
       "      <th>3</th>\n",
       "      <td>dBsomKKHhtk</td>\n",
       "      <td>b'When you finally meet the \"work wife\"'</td>\n",
       "      <td>Viva La Dirt League</td>\n",
       "      <td>oh it's my w wife oh the the infamous W wife h...</td>\n",
       "      <td>120.879</td>\n",
       "      <td>1.886184</td>\n",
       "      <td>['Dude went from not realising he&amp;#39;s marrie...</td>\n",
       "      <td>Gaming</td>\n",
       "      <td>You are a copywriter, create a 100 word summar...</td>\n",
       "      <td>In this YouTube short, a man introduces his c...</td>\n",
       "    </tr>\n",
       "    <tr>\n",
       "      <th>4</th>\n",
       "      <td>dTLYweJ08Tg</td>\n",
       "      <td>b'Courtside Kicks CASHES OUT on WHOLE TABLE of...</td>\n",
       "      <td>Courtside Kicks</td>\n",
       "      <td>yo what's good bro so you have a ton of dunks ...</td>\n",
       "      <td>59.679</td>\n",
       "      <td>1.524824</td>\n",
       "      <td>['After the video here is $20 for playing alon...</td>\n",
       "      <td>Entertainment</td>\n",
       "      <td>You are a copywriter, create a 100 word summar...</td>\n",
       "      <td>This YouTube short features a person interest...</td>\n",
       "    </tr>\n",
       "  </tbody>\n",
       "</table>\n",
       "</div>"
      ],
      "text/plain": [
       "      Video ID                                        Video Title  \\\n",
       "0  l9_8_pDTmis              b'Furthest Away From Me Wins $10,000'   \n",
       "1  QYEfTly0pTE  b'We lost contact with ATC over the ocean! #av...   \n",
       "2  jYJTPqU66IY                b'How to renovate your private jet'   \n",
       "3  dBsomKKHhtk           b'When you finally meet the \"work wife\"'   \n",
       "4  dTLYweJ08Tg  b'Courtside Kicks CASHES OUT on WHOLE TABLE of...   \n",
       "\n",
       "         Channel Title                                         Transcript  \\\n",
       "0              MrBeast  whichever one of these three people can get th...   \n",
       "1   Fly Me to the Fun™  this year we flew our Cessna 150 1800 miles fr...   \n",
       "2       TheJetBusiness  I was going to say like what's a turnaround ti...   \n",
       "3  Viva La Dirt League  oh it's my w wife oh the the infamous W wife h...   \n",
       "4      Courtside Kicks  yo what's good bro so you have a ton of dunks ...   \n",
       "\n",
       "   Duration  Words per Second  \\\n",
       "0    96.840          1.579926   \n",
       "1   110.080          1.435320   \n",
       "2   118.280          2.054447   \n",
       "3   120.879          1.886184   \n",
       "4    59.679          1.524824   \n",
       "\n",
       "                                      Top10 Comments         Category  \\\n",
       "0  ['Bro the guy at Disneyland was super smart, s...    Entertainment   \n",
       "1  ['Nice! <br><br>It’s always nice when the big ...  Travel & Events   \n",
       "2  ['You know it’s a huge number when that was th...  Travel & Events   \n",
       "3  ['Dude went from not realising he&#39;s marrie...           Gaming   \n",
       "4  ['After the video here is $20 for playing alon...    Entertainment   \n",
       "\n",
       "                                        Custom Query  \\\n",
       "0  You are a copywriter, create a 100 word summar...   \n",
       "1  You are a copywriter, create a 100 word summar...   \n",
       "2  You are a copywriter, create a 100 word summar...   \n",
       "3  You are a copywriter, create a 100 word summar...   \n",
       "4  You are a copywriter, create a 100 word summar...   \n",
       "\n",
       "                                         LLM Summary  \n",
       "0   In this YouTube short, MrBeast challenges thr...  \n",
       "1   This YouTube short is about a flight from Atl...  \n",
       "2   Sure, here's a 100-word summary of the video ...  \n",
       "3   In this YouTube short, a man introduces his c...  \n",
       "4   This YouTube short features a person interest...  "
      ]
     },
     "execution_count": 21,
     "metadata": {},
     "output_type": "execute_result"
    }
   ],
   "source": [
    "df_shorts.head()"
   ]
  },
  {
   "cell_type": "markdown",
   "metadata": {},
   "source": [
    "### Clean LLM Summaries \n",
    "\n",
    "This doesn't work 100% of the answers, since the answer varies a lot. I haven't found a pattern that is 100% reliable, but i would say this is \"good enough\""
   ]
  },
  {
   "cell_type": "code",
   "execution_count": 22,
   "metadata": {},
   "outputs": [],
   "source": [
    "import re\n",
    "\n",
    "def clean_chatbot_response(text):\n",
    "    # Regex pattern that accounts for variable spacing, punctuation, and case\n",
    "    pattern = r\"Sure[,!]? here'?s? (is |a |the )?100-word summary of .+:\"\n",
    "    # Replace the matched pattern with an empty string, ignoring case\n",
    "    cleaned_text = re.sub(pattern, '', text, flags=re.IGNORECASE).strip()\n",
    "    return cleaned_text"
   ]
  },
  {
   "cell_type": "code",
   "execution_count": 23,
   "metadata": {},
   "outputs": [
    {
     "name": "stderr",
     "output_type": "stream",
     "text": [
      "100%|██████████| 20/20 [00:00<00:00, 19911.25it/s]\n"
     ]
    }
   ],
   "source": [
    "df_shorts['LLM Summary'] = df_shorts['LLM Summary'].progress_apply(clean_chatbot_response)"
   ]
  },
  {
   "cell_type": "code",
   "execution_count": 24,
   "metadata": {},
   "outputs": [
    {
     "data": {
      "text/html": [
       "<div>\n",
       "<style scoped>\n",
       "    .dataframe tbody tr th:only-of-type {\n",
       "        vertical-align: middle;\n",
       "    }\n",
       "\n",
       "    .dataframe tbody tr th {\n",
       "        vertical-align: top;\n",
       "    }\n",
       "\n",
       "    .dataframe thead th {\n",
       "        text-align: right;\n",
       "    }\n",
       "</style>\n",
       "<table border=\"1\" class=\"dataframe\">\n",
       "  <thead>\n",
       "    <tr style=\"text-align: right;\">\n",
       "      <th></th>\n",
       "      <th>Video ID</th>\n",
       "      <th>Video Title</th>\n",
       "      <th>Channel Title</th>\n",
       "      <th>Transcript</th>\n",
       "      <th>Duration</th>\n",
       "      <th>Words per Second</th>\n",
       "      <th>Top10 Comments</th>\n",
       "      <th>Category</th>\n",
       "      <th>Custom Query</th>\n",
       "      <th>LLM Summary</th>\n",
       "    </tr>\n",
       "  </thead>\n",
       "  <tbody>\n",
       "    <tr>\n",
       "      <th>0</th>\n",
       "      <td>l9_8_pDTmis</td>\n",
       "      <td>b'Furthest Away From Me Wins $10,000'</td>\n",
       "      <td>MrBeast</td>\n",
       "      <td>whichever one of these three people can get th...</td>\n",
       "      <td>96.840</td>\n",
       "      <td>1.579926</td>\n",
       "      <td>['Bro the guy at Disneyland was super smart, s...</td>\n",
       "      <td>Entertainment</td>\n",
       "      <td>You are a copywriter, create a 100 word summar...</td>\n",
       "      <td>In this YouTube short, MrBeast challenges thre...</td>\n",
       "    </tr>\n",
       "    <tr>\n",
       "      <th>1</th>\n",
       "      <td>QYEfTly0pTE</td>\n",
       "      <td>b'We lost contact with ATC over the ocean! #av...</td>\n",
       "      <td>Fly Me to the Fun™</td>\n",
       "      <td>this year we flew our Cessna 150 1800 miles fr...</td>\n",
       "      <td>110.080</td>\n",
       "      <td>1.435320</td>\n",
       "      <td>['Nice! &lt;br&gt;&lt;br&gt;It’s always nice when the big ...</td>\n",
       "      <td>Travel &amp; Events</td>\n",
       "      <td>You are a copywriter, create a 100 word summar...</td>\n",
       "      <td>This YouTube short is about a flight from Atla...</td>\n",
       "    </tr>\n",
       "    <tr>\n",
       "      <th>2</th>\n",
       "      <td>jYJTPqU66IY</td>\n",
       "      <td>b'How to renovate your private jet'</td>\n",
       "      <td>TheJetBusiness</td>\n",
       "      <td>I was going to say like what's a turnaround ti...</td>\n",
       "      <td>118.280</td>\n",
       "      <td>2.054447</td>\n",
       "      <td>['You know it’s a huge number when that was th...</td>\n",
       "      <td>Travel &amp; Events</td>\n",
       "      <td>You are a copywriter, create a 100 word summar...</td>\n",
       "      <td>In this video, a salesperson discusses the pro...</td>\n",
       "    </tr>\n",
       "    <tr>\n",
       "      <th>3</th>\n",
       "      <td>dBsomKKHhtk</td>\n",
       "      <td>b'When you finally meet the \"work wife\"'</td>\n",
       "      <td>Viva La Dirt League</td>\n",
       "      <td>oh it's my w wife oh the the infamous W wife h...</td>\n",
       "      <td>120.879</td>\n",
       "      <td>1.886184</td>\n",
       "      <td>['Dude went from not realising he&amp;#39;s marrie...</td>\n",
       "      <td>Gaming</td>\n",
       "      <td>You are a copywriter, create a 100 word summar...</td>\n",
       "      <td>In this YouTube short, a man introduces his co...</td>\n",
       "    </tr>\n",
       "    <tr>\n",
       "      <th>4</th>\n",
       "      <td>dTLYweJ08Tg</td>\n",
       "      <td>b'Courtside Kicks CASHES OUT on WHOLE TABLE of...</td>\n",
       "      <td>Courtside Kicks</td>\n",
       "      <td>yo what's good bro so you have a ton of dunks ...</td>\n",
       "      <td>59.679</td>\n",
       "      <td>1.524824</td>\n",
       "      <td>['After the video here is $20 for playing alon...</td>\n",
       "      <td>Entertainment</td>\n",
       "      <td>You are a copywriter, create a 100 word summar...</td>\n",
       "      <td>This YouTube short features a person intereste...</td>\n",
       "    </tr>\n",
       "  </tbody>\n",
       "</table>\n",
       "</div>"
      ],
      "text/plain": [
       "      Video ID                                        Video Title  \\\n",
       "0  l9_8_pDTmis              b'Furthest Away From Me Wins $10,000'   \n",
       "1  QYEfTly0pTE  b'We lost contact with ATC over the ocean! #av...   \n",
       "2  jYJTPqU66IY                b'How to renovate your private jet'   \n",
       "3  dBsomKKHhtk           b'When you finally meet the \"work wife\"'   \n",
       "4  dTLYweJ08Tg  b'Courtside Kicks CASHES OUT on WHOLE TABLE of...   \n",
       "\n",
       "         Channel Title                                         Transcript  \\\n",
       "0              MrBeast  whichever one of these three people can get th...   \n",
       "1   Fly Me to the Fun™  this year we flew our Cessna 150 1800 miles fr...   \n",
       "2       TheJetBusiness  I was going to say like what's a turnaround ti...   \n",
       "3  Viva La Dirt League  oh it's my w wife oh the the infamous W wife h...   \n",
       "4      Courtside Kicks  yo what's good bro so you have a ton of dunks ...   \n",
       "\n",
       "   Duration  Words per Second  \\\n",
       "0    96.840          1.579926   \n",
       "1   110.080          1.435320   \n",
       "2   118.280          2.054447   \n",
       "3   120.879          1.886184   \n",
       "4    59.679          1.524824   \n",
       "\n",
       "                                      Top10 Comments         Category  \\\n",
       "0  ['Bro the guy at Disneyland was super smart, s...    Entertainment   \n",
       "1  ['Nice! <br><br>It’s always nice when the big ...  Travel & Events   \n",
       "2  ['You know it’s a huge number when that was th...  Travel & Events   \n",
       "3  ['Dude went from not realising he&#39;s marrie...           Gaming   \n",
       "4  ['After the video here is $20 for playing alon...    Entertainment   \n",
       "\n",
       "                                        Custom Query  \\\n",
       "0  You are a copywriter, create a 100 word summar...   \n",
       "1  You are a copywriter, create a 100 word summar...   \n",
       "2  You are a copywriter, create a 100 word summar...   \n",
       "3  You are a copywriter, create a 100 word summar...   \n",
       "4  You are a copywriter, create a 100 word summar...   \n",
       "\n",
       "                                         LLM Summary  \n",
       "0  In this YouTube short, MrBeast challenges thre...  \n",
       "1  This YouTube short is about a flight from Atla...  \n",
       "2  In this video, a salesperson discusses the pro...  \n",
       "3  In this YouTube short, a man introduces his co...  \n",
       "4  This YouTube short features a person intereste...  "
      ]
     },
     "execution_count": 24,
     "metadata": {},
     "output_type": "execute_result"
    }
   ],
   "source": [
    "df_shorts.head()"
   ]
  },
  {
   "cell_type": "code",
   "execution_count": 25,
   "metadata": {},
   "outputs": [],
   "source": [
    "df_shorts.to_csv(\"youtube_shorts_with_chatbot_summary.csv\", index=False)"
   ]
  },
  {
   "cell_type": "code",
   "execution_count": null,
   "metadata": {},
   "outputs": [],
   "source": []
  }
 ],
 "metadata": {
  "kernelspec": {
   "display_name": "da110",
   "language": "python",
   "name": "python3"
  },
  "language_info": {
   "codemirror_mode": {
    "name": "ipython",
    "version": 3
   },
   "file_extension": ".py",
   "mimetype": "text/x-python",
   "name": "python",
   "nbconvert_exporter": "python",
   "pygments_lexer": "ipython3",
   "version": "3.10.13"
  }
 },
 "nbformat": 4,
 "nbformat_minor": 2
}
